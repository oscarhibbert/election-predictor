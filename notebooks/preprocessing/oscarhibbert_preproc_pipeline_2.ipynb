{
 "cells": [
  {
   "cell_type": "code",
   "execution_count": 97,
   "metadata": {},
   "outputs": [],
   "source": [
    "# Imports using Sklearn make shortcut functions\n",
    "from sklearn.compose import make_column_transformer\n",
    "from sklearn.preprocessing import MinMaxScaler, OrdinalEncoder\n",
    "import pandas as pd\n",
    "import numpy as np\n",
    "\n",
    "# Imports\n",
    "import os\n",
    "from google.cloud import bigquery"
   ]
  },
  {
   "cell_type": "code",
   "execution_count": 98,
   "metadata": {},
   "outputs": [],
   "source": [
    "# Environment variables\n",
    "gcp_project_id = os.environ['GCP_PROJECT']\n",
    "gcp_service_account_key = os.environ['GCP_SERVICE_ACCOUNT_KEY']\n",
    "bq_source_dataset = os.environ['BQ_SOURCE_DATASET']\n",
    "bq_cleaned_dataset = os.environ['BQ_CLEANED_DATASET']"
   ]
  },
  {
   "cell_type": "code",
   "execution_count": 99,
   "metadata": {},
   "outputs": [],
   "source": [
    "# Import data from BQ and set data to X\n",
    "# Initialize a BigQuery client using the service account JSON file\n",
    "bq_client = bigquery.Client(project=gcp_project_id).from_service_account_json(gcp_service_account_key)\n",
    "\n",
    "# Setting the table we want from the source dataset\n",
    "select_table = 'cleaned_full_polls_combined_national_results_2004_2019'\n",
    "\n",
    "# SQL query for querying Big Query and fetching entire table\n",
    "query = f\"\"\"\n",
    "    SELECT *\n",
    "    FROM `{gcp_project_id}.{bq_cleaned_dataset}.{select_table}`\n",
    "\"\"\""
   ]
  },
  {
   "cell_type": "code",
   "execution_count": 100,
   "metadata": {},
   "outputs": [],
   "source": [
    "# Use BQ client to create DF from the selected table\n",
    "data = bq_client.query(query).to_dataframe()"
   ]
  },
  {
   "cell_type": "code",
   "execution_count": 101,
   "metadata": {},
   "outputs": [],
   "source": [
    "# # Logic for dealing with specific NaN values in specified columns\n",
    "\n",
    "# # Select column names including _FC and _ACT for NaN searching\n",
    "# nan_search_columns = list(data.filter(regex='_FC|_ACT', axis=1).columns)\n",
    "\n",
    "# if data.isna().any().any():\n",
    "#     # Replace NaN with 0 values for _FC and _ACT columns\n",
    "#     data.loc[:, nan_search_columns] = data[nan_search_columns].fillna(0)\n",
    "\n",
    "# if data.isna().any().any():\n",
    "#     raise(ValueError('NaN values outside of _FC and _ACT olumns still present in the dataset'))"
   ]
  },
  {
   "cell_type": "code",
   "execution_count": 102,
   "metadata": {},
   "outputs": [],
   "source": [
    "# Replace any found NaN values with 0\n",
    "data.replace(np.nan, 0, inplace=True)"
   ]
  },
  {
   "cell_type": "code",
   "execution_count": 103,
   "metadata": {},
   "outputs": [],
   "source": [
    "# Add a field 'poll length' that shows number of days the poll was held for\n",
    "data['poll_length'] = pd.to_datetime(data.enddate) - pd.to_datetime(data.startdate)\n",
    "data['poll_length'] = data['poll_length'].dt.days"
   ]
  },
  {
   "cell_type": "code",
   "execution_count": 104,
   "metadata": {},
   "outputs": [],
   "source": [
    "# Divide forecasts by 100 to create values between 0-1\n",
    "for column in ['BRX_FC', 'CON_FC', 'GRE_FC', 'LAB_FC', 'LIB_FC', 'NAT_FC', 'OTH_FC', 'PLC_FC', 'SNP_FC', 'UKI_FC']:\n",
    "    data[column] = data[column] / 100"
   ]
  },
  {
   "cell_type": "code",
   "execution_count": 105,
   "metadata": {},
   "outputs": [],
   "source": [
    "# Divide actuals by 100 to create values between 0-1\n",
    "for column in ['BRX_ACT', 'CON_ACT', 'GRE_ACT', 'LIB_ACT', 'LAB_ACT', 'PLC_ACT', 'SNP_ACT', 'UKI_ACT', 'OTH_PERCENTAGE']:\n",
    "    data[column] = data[column] / 100"
   ]
  },
  {
   "cell_type": "code",
   "execution_count": 106,
   "metadata": {},
   "outputs": [],
   "source": [
    "# Drop columns we don't need\n",
    "data = data.drop(columns=['startdate', 'enddate', 'pollster'])"
   ]
  },
  {
   "cell_type": "code",
   "execution_count": 107,
   "metadata": {},
   "outputs": [],
   "source": [
    "# Handle numerical transformer\n",
    "num_columns_selector = ['samplesize', 'days_to_elec', 'poll_length']\n",
    "num_transformer = MinMaxScaler()"
   ]
  },
  {
   "cell_type": "code",
   "execution_count": 108,
   "metadata": {},
   "outputs": [],
   "source": [
    "# Handle categorical transformer\n",
    "cat_columns_selector = ['rating']\n",
    "cat_transformer = OrdinalEncoder(categories = [['F','D-','D','D+','C-','B','B+','A-']])"
   ]
  },
  {
   "cell_type": "code",
   "execution_count": 109,
   "metadata": {},
   "outputs": [],
   "source": [
    "# Build the preprocessing pipeline\n",
    "preproc_pipeline = make_column_transformer(\n",
    "    (num_transformer, num_columns_selector),\n",
    "    (cat_transformer, cat_columns_selector),\n",
    "    remainder='passthrough',\n",
    "    verbose_feature_names_out=False\n",
    ")"
   ]
  },
  {
   "cell_type": "code",
   "execution_count": 110,
   "metadata": {},
   "outputs": [],
   "source": [
    "# Fit transform preprocessing pipeline to data\n",
    "data_processed = preproc_pipeline.fit_transform(data)"
   ]
  },
  {
   "cell_type": "code",
   "execution_count": 111,
   "metadata": {},
   "outputs": [
    {
     "data": {
      "text/html": [
       "<div>\n",
       "<style scoped>\n",
       "    .dataframe tbody tr th:only-of-type {\n",
       "        vertical-align: middle;\n",
       "    }\n",
       "\n",
       "    .dataframe tbody tr th {\n",
       "        vertical-align: top;\n",
       "    }\n",
       "\n",
       "    .dataframe thead th {\n",
       "        text-align: right;\n",
       "    }\n",
       "</style>\n",
       "<table border=\"1\" class=\"dataframe\">\n",
       "  <thead>\n",
       "    <tr style=\"text-align: right;\">\n",
       "      <th></th>\n",
       "      <th>samplesize</th>\n",
       "      <th>days_to_elec</th>\n",
       "      <th>poll_length</th>\n",
       "      <th>rating</th>\n",
       "      <th>next_elec_date</th>\n",
       "      <th>BRX_FC</th>\n",
       "      <th>CON_FC</th>\n",
       "      <th>GRE_FC</th>\n",
       "      <th>LAB_FC</th>\n",
       "      <th>LIB_FC</th>\n",
       "      <th>...</th>\n",
       "      <th>NAT_ACT</th>\n",
       "      <th>BRX_ACT</th>\n",
       "      <th>CON_ACT</th>\n",
       "      <th>GRE_ACT</th>\n",
       "      <th>LIB_ACT</th>\n",
       "      <th>LAB_ACT</th>\n",
       "      <th>PLC_ACT</th>\n",
       "      <th>SNP_ACT</th>\n",
       "      <th>UKI_ACT</th>\n",
       "      <th>OTH_PERCENTAGE</th>\n",
       "    </tr>\n",
       "  </thead>\n",
       "  <tbody>\n",
       "    <tr>\n",
       "      <th>0</th>\n",
       "      <td>0.012657</td>\n",
       "      <td>0.026923</td>\n",
       "      <td>0.908189</td>\n",
       "      <td>3.0</td>\n",
       "      <td>2017-06-08</td>\n",
       "      <td>0.0</td>\n",
       "      <td>0.44</td>\n",
       "      <td>0.04</td>\n",
       "      <td>0.29</td>\n",
       "      <td>0.08</td>\n",
       "      <td>...</td>\n",
       "      <td>0.014415</td>\n",
       "      <td>0.0</td>\n",
       "      <td>0.423427</td>\n",
       "      <td>0.015909</td>\n",
       "      <td>0.073654</td>\n",
       "      <td>0.399893</td>\n",
       "      <td>0.005107</td>\n",
       "      <td>0.030356</td>\n",
       "      <td>0.018447</td>\n",
       "      <td>0.033062</td>\n",
       "    </tr>\n",
       "    <tr>\n",
       "      <th>1</th>\n",
       "      <td>0.014874</td>\n",
       "      <td>0.023077</td>\n",
       "      <td>0.908189</td>\n",
       "      <td>3.0</td>\n",
       "      <td>2017-06-08</td>\n",
       "      <td>0.0</td>\n",
       "      <td>0.42</td>\n",
       "      <td>0.04</td>\n",
       "      <td>0.31</td>\n",
       "      <td>0.1</td>\n",
       "      <td>...</td>\n",
       "      <td>0.014415</td>\n",
       "      <td>0.0</td>\n",
       "      <td>0.423427</td>\n",
       "      <td>0.015909</td>\n",
       "      <td>0.073654</td>\n",
       "      <td>0.399893</td>\n",
       "      <td>0.005107</td>\n",
       "      <td>0.030356</td>\n",
       "      <td>0.018447</td>\n",
       "      <td>0.033062</td>\n",
       "    </tr>\n",
       "    <tr>\n",
       "      <th>2</th>\n",
       "      <td>0.009707</td>\n",
       "      <td>0.019231</td>\n",
       "      <td>0.908189</td>\n",
       "      <td>3.0</td>\n",
       "      <td>2017-06-08</td>\n",
       "      <td>0.0</td>\n",
       "      <td>0.46</td>\n",
       "      <td>0.03</td>\n",
       "      <td>0.31</td>\n",
       "      <td>0.09</td>\n",
       "      <td>...</td>\n",
       "      <td>0.014415</td>\n",
       "      <td>0.0</td>\n",
       "      <td>0.423427</td>\n",
       "      <td>0.015909</td>\n",
       "      <td>0.073654</td>\n",
       "      <td>0.399893</td>\n",
       "      <td>0.005107</td>\n",
       "      <td>0.030356</td>\n",
       "      <td>0.018447</td>\n",
       "      <td>0.033062</td>\n",
       "    </tr>\n",
       "    <tr>\n",
       "      <th>3</th>\n",
       "      <td>0.009307</td>\n",
       "      <td>0.015385</td>\n",
       "      <td>0.908189</td>\n",
       "      <td>3.0</td>\n",
       "      <td>2017-06-08</td>\n",
       "      <td>0.0</td>\n",
       "      <td>0.46</td>\n",
       "      <td>0.04</td>\n",
       "      <td>0.32</td>\n",
       "      <td>0.08</td>\n",
       "      <td>...</td>\n",
       "      <td>0.014415</td>\n",
       "      <td>0.0</td>\n",
       "      <td>0.423427</td>\n",
       "      <td>0.015909</td>\n",
       "      <td>0.073654</td>\n",
       "      <td>0.399893</td>\n",
       "      <td>0.005107</td>\n",
       "      <td>0.030356</td>\n",
       "      <td>0.018447</td>\n",
       "      <td>0.033062</td>\n",
       "    </tr>\n",
       "    <tr>\n",
       "      <th>4</th>\n",
       "      <td>0.009716</td>\n",
       "      <td>0.011538</td>\n",
       "      <td>0.908189</td>\n",
       "      <td>3.0</td>\n",
       "      <td>2017-06-08</td>\n",
       "      <td>0.0</td>\n",
       "      <td>0.46</td>\n",
       "      <td>0.02</td>\n",
       "      <td>0.34</td>\n",
       "      <td>0.07</td>\n",
       "      <td>...</td>\n",
       "      <td>0.014415</td>\n",
       "      <td>0.0</td>\n",
       "      <td>0.423427</td>\n",
       "      <td>0.015909</td>\n",
       "      <td>0.073654</td>\n",
       "      <td>0.399893</td>\n",
       "      <td>0.005107</td>\n",
       "      <td>0.030356</td>\n",
       "      <td>0.018447</td>\n",
       "      <td>0.033062</td>\n",
       "    </tr>\n",
       "  </tbody>\n",
       "</table>\n",
       "<p>5 rows × 25 columns</p>\n",
       "</div>"
      ],
      "text/plain": [
       "  samplesize days_to_elec poll_length rating next_elec_date BRX_FC CON_FC  \\\n",
       "0   0.012657     0.026923    0.908189    3.0     2017-06-08    0.0   0.44   \n",
       "1   0.014874     0.023077    0.908189    3.0     2017-06-08    0.0   0.42   \n",
       "2   0.009707     0.019231    0.908189    3.0     2017-06-08    0.0   0.46   \n",
       "3   0.009307     0.015385    0.908189    3.0     2017-06-08    0.0   0.46   \n",
       "4   0.009716     0.011538    0.908189    3.0     2017-06-08    0.0   0.46   \n",
       "\n",
       "  GRE_FC LAB_FC LIB_FC  ...   NAT_ACT BRX_ACT   CON_ACT   GRE_ACT   LIB_ACT  \\\n",
       "0   0.04   0.29   0.08  ...  0.014415     0.0  0.423427  0.015909  0.073654   \n",
       "1   0.04   0.31    0.1  ...  0.014415     0.0  0.423427  0.015909  0.073654   \n",
       "2   0.03   0.31   0.09  ...  0.014415     0.0  0.423427  0.015909  0.073654   \n",
       "3   0.04   0.32   0.08  ...  0.014415     0.0  0.423427  0.015909  0.073654   \n",
       "4   0.02   0.34   0.07  ...  0.014415     0.0  0.423427  0.015909  0.073654   \n",
       "\n",
       "    LAB_ACT   PLC_ACT   SNP_ACT   UKI_ACT OTH_PERCENTAGE  \n",
       "0  0.399893  0.005107  0.030356  0.018447       0.033062  \n",
       "1  0.399893  0.005107  0.030356  0.018447       0.033062  \n",
       "2  0.399893  0.005107  0.030356  0.018447       0.033062  \n",
       "3  0.399893  0.005107  0.030356  0.018447       0.033062  \n",
       "4  0.399893  0.005107  0.030356  0.018447       0.033062  \n",
       "\n",
       "[5 rows x 25 columns]"
      ]
     },
     "execution_count": 111,
     "metadata": {},
     "output_type": "execute_result"
    }
   ],
   "source": [
    "# Check feature names make sense\n",
    "data_processed = pd.DataFrame(\n",
    "    data_processed, columns=preproc_pipeline.get_feature_names_out()\n",
    ")\n",
    "\n",
    "data_processed.head()"
   ]
  }
 ],
 "metadata": {
  "kernelspec": {
   "display_name": "election_predictor",
   "language": "python",
   "name": "python3"
  },
  "language_info": {
   "codemirror_mode": {
    "name": "ipython",
    "version": 3
   },
   "file_extension": ".py",
   "mimetype": "text/x-python",
   "name": "python",
   "nbconvert_exporter": "python",
   "pygments_lexer": "ipython3",
   "version": "3.10.6"
  }
 },
 "nbformat": 4,
 "nbformat_minor": 2
}
