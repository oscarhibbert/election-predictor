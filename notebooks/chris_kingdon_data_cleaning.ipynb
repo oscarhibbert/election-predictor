{
 "cells": [
  {
   "cell_type": "code",
   "execution_count": 72,
   "id": "01a2a842",
   "metadata": {},
   "outputs": [],
   "source": [
    "import pandas as pd"
   ]
  },
  {
   "cell_type": "code",
   "execution_count": 73,
   "id": "b27c577c",
   "metadata": {},
   "outputs": [],
   "source": [
    "# Imports data from csv file\n",
    "df= pd.read_csv('../raw_data/polling_data.csv')"
   ]
  },
  {
   "cell_type": "code",
   "execution_count": 74,
   "id": "e55ed468",
   "metadata": {},
   "outputs": [],
   "source": [
    "# Removes spaces and ampersands in pollster names\n",
    "df['pollster'] = df['pollster'].str.replace(' ', '').str.replace('&', '').str.replace('-', '')"
   ]
  },
  {
   "cell_type": "code",
   "execution_count": 75,
   "id": "8ca024b1",
   "metadata": {},
   "outputs": [],
   "source": [
    "# Converts startdate/enddate to datetime\n",
    "df['startdate'] = pd.to_datetime(df['startdate'], format='mixed')\n",
    "df['enddate'] = pd.to_datetime(df['enddate'], format='mixed')"
   ]
  },
  {
   "cell_type": "code",
   "execution_count": 76,
   "id": "8270ec2f",
   "metadata": {},
   "outputs": [],
   "source": [
    "# Creates unique index for each poll\n",
    "df_uuid = df.set_index(df['enddate'].dt.strftime('%Y-%m-%d').apply(str).str.replace('-', '_') + '_' + df['pollster'])"
   ]
  },
  {
   "cell_type": "code",
   "execution_count": 77,
   "id": "7e51b361",
   "metadata": {},
   "outputs": [],
   "source": [
    "# Pivots table to create column for each party\n",
    "all_df = df_uuid.pivot_table(values=\"votingintention\", index=[df_uuid.index,\\\n",
    "                                                                        'startdate', 'enddate', 'pollster', 'samplesize', 'countrycode'], columns=['partycode'])\n",
    "all_df.reset_index(level=['startdate', 'enddate', 'pollster', 'samplesize', 'countrycode'], inplace=True)\n"
   ]
  },
  {
   "cell_type": "code",
   "execution_count": 82,
   "id": "d3fc9dac",
   "metadata": {},
   "outputs": [],
   "source": [
    "# Countrycode definitions\n",
    "sco = ['SCO'] # defines Scotland\n",
    "gb = ['GBR'] # defines Great Britain\n",
    "wal = ['WAL'] # defines Wales\n",
    "nir = ['NIR']   # defines Northern Ireland\n",
    "ukm = ['UKM']  # defines United Kingdom\n",
    "enw = ['ENW'] # defines England and Wales"
   ]
  },
  {
   "cell_type": "code",
   "execution_count": 83,
   "id": "9f12cec2",
   "metadata": {},
   "outputs": [],
   "source": [
    "# Creates subsets of polls\n",
    "sco_polls = all_df[all_df['countrycode'].isin(sco)]\n",
    "gb_polls = all_df[all_df['countrycode'].isin(gb)]\n",
    "wal_polls = all_df[all_df['countrycode'].isin(wal)]\n",
    "nir_polls = all_df[all_df['countrycode'].isin(nir)]\n",
    "ukm_polls = all_df[all_df['countrycode'].isin(ukm)]\n",
    "enw_polls = all_df[all_df['countrycode'].isin(enw)]"
   ]
  },
  {
   "cell_type": "code",
   "execution_count": 91,
   "id": "c6c7e958",
   "metadata": {},
   "outputs": [
    {
     "data": {
      "text/plain": [
       "partycode\n",
       "startdate         0\n",
       "enddate           0\n",
       "pollster          0\n",
       "samplesize        0\n",
       "countrycode       0\n",
       "ALL            7107\n",
       "BRX            5723\n",
       "CHN            6963\n",
       "CON               0\n",
       "DUP            7107\n",
       "GRE            4448\n",
       "LAB               0\n",
       "LIB               2\n",
       "NAT            7023\n",
       "OTH            2244\n",
       "PLC            6537\n",
       "SDL            7107\n",
       "SDP            6922\n",
       "SFA            7107\n",
       "SNP            5122\n",
       "TUV            7107\n",
       "UKI            4493\n",
       "UUP            7107\n",
       "dtype: int64"
      ]
     },
     "execution_count": 91,
     "metadata": {},
     "output_type": "execute_result"
    }
   ],
   "source": []
  },
  {
   "cell_type": "code",
   "execution_count": null,
   "id": "381f1625",
   "metadata": {},
   "outputs": [],
   "source": []
  }
 ],
 "metadata": {
  "kernelspec": {
   "display_name": "Python 3 (ipykernel)",
   "language": "python",
   "name": "python3"
  },
  "language_info": {
   "codemirror_mode": {
    "name": "ipython",
    "version": 3
   },
   "file_extension": ".py",
   "mimetype": "text/x-python",
   "name": "python",
   "nbconvert_exporter": "python",
   "pygments_lexer": "ipython3",
   "version": "3.10.6"
  },
  "toc": {
   "base_numbering": 1,
   "nav_menu": {},
   "number_sections": true,
   "sideBar": true,
   "skip_h1_title": false,
   "title_cell": "Table of Contents",
   "title_sidebar": "Contents",
   "toc_cell": false,
   "toc_position": {},
   "toc_section_display": true,
   "toc_window_display": false
  }
 },
 "nbformat": 4,
 "nbformat_minor": 5
}
