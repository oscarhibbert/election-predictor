{
 "cells": [
  {
   "cell_type": "code",
   "execution_count": 1,
   "metadata": {},
   "outputs": [],
   "source": [
    "import pandas as pd"
   ]
  },
  {
   "cell_type": "code",
   "execution_count": 94,
   "metadata": {},
   "outputs": [],
   "source": [
    "# Loading csv\n",
    "ons_gdp = pd.read_csv('/Users/nieksonneveld/code/nieksonneveld/election-predictor/raw_data/ons_gdp_2004_2024.csv')\n",
    "ons_inf = pd.read_csv('/Users/nieksonneveld/code/nieksonneveld/election-predictor/raw_data/ons_inflation_2004_2024.csv')\n",
    "ons_emp = pd.read_csv('/Users/nieksonneveld/code/nieksonneveld/election-predictor/raw_data/ons_unemployment_2004_2024.csv')"
   ]
  },
  {
   "cell_type": "code",
   "execution_count": 95,
   "metadata": {},
   "outputs": [],
   "source": [
    "# Replacing spaces with - for GDP df\n",
    "ons_gdp.Quarter = ons_gdp.Quarter.str.replace(' ', '-')\n",
    "\n",
    "# Turning quarters into months for GDP df\n",
    "ons_gdp.Quarter = pd.PeriodIndex(ons_gdp.Quarter, freq='Q').to_timestamp()\n",
    "\n",
    "# Fill missing months and impute with quarterly values per month for GDP df\n",
    "ons_gdp = ons_gdp.set_index('Quarter').resample('MS').ffill()\n",
    "ons_gdp.index.names = ['Month']"
   ]
  },
  {
   "cell_type": "code",
   "execution_count": 96,
   "metadata": {},
   "outputs": [
    {
     "name": "stderr",
     "output_type": "stream",
     "text": [
      "/var/folders/kb/jn3km5pj6lnd7dfkgljcjy300000gn/T/ipykernel_3577/3454880804.py:2: UserWarning: Could not infer format, so each element will be parsed individually, falling back to `dateutil`. To ensure parsing is consistent and as-expected, please specify a format.\n",
      "  ons_inf.Month = pd.to_datetime(ons_inf.Month)\n",
      "/var/folders/kb/jn3km5pj6lnd7dfkgljcjy300000gn/T/ipykernel_3577/3454880804.py:5: UserWarning: Could not infer format, so each element will be parsed individually, falling back to `dateutil`. To ensure parsing is consistent and as-expected, please specify a format.\n",
      "  ons_emp.Month = pd.to_datetime(ons_emp.Month)\n"
     ]
    }
   ],
   "source": [
    "# Convert months into pd.DateTime and set as index\n",
    "ons_inf.Month = pd.to_datetime(ons_inf.Month)\n",
    "ons_inf = ons_inf.set_index('Month')\n",
    "\n",
    "ons_emp.Month = pd.to_datetime(ons_emp.Month)\n",
    "ons_emp = ons_emp.set_index('Month')"
   ]
  },
  {
   "cell_type": "code",
   "execution_count": 97,
   "metadata": {},
   "outputs": [],
   "source": [
    "# Merging GDP, Inflation and Unemployment dfs into ons_merged\n",
    "ons_merged = pd.merge(ons_gdp,pd.merge(ons_inf,ons_emp,how='left',on='Month'),how='outer',on='Month')\n",
    "\n",
    "# Filling NaNs with previous value of column\n",
    "ons_merged = ons_merged.ffill()"
   ]
  }
 ],
 "metadata": {
  "kernelspec": {
   "display_name": "election_predictor",
   "language": "python",
   "name": "python3"
  },
  "language_info": {
   "codemirror_mode": {
    "name": "ipython",
    "version": 3
   },
   "file_extension": ".py",
   "mimetype": "text/x-python",
   "name": "python",
   "nbconvert_exporter": "python",
   "pygments_lexer": "ipython3",
   "version": "3.10.6"
  }
 },
 "nbformat": 4,
 "nbformat_minor": 2
}
