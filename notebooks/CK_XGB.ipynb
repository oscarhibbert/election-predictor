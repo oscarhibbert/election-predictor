{
 "cells": [
  {
   "cell_type": "code",
   "execution_count": 125,
   "metadata": {},
   "outputs": [
    {
     "name": "stdout",
     "output_type": "stream",
     "text": [
      "Current Time: 2024-06-09 18:50:31\n"
     ]
    }
   ],
   "source": [
    "# Imports using Sklearn make shortcut functions\n",
    "from sklearn.compose import make_column_transformer\n",
    "from sklearn.preprocessing import MinMaxScaler, OrdinalEncoder\n",
    "from sklearn.pipeline import make_pipeline\n",
    "\n",
    "from xgboost import XGBRegressor\n",
    "\n",
    "from sklearn.model_selection import train_test_split, cross_val_score, GridSearchCV, RandomizedSearchCV\n",
    "from sklearn.metrics import mean_squared_error, r2_score\n",
    "\n",
    "import pandas as pd\n",
    "import numpy as np\n",
    "\n",
    "import seaborn as sns\n",
    "import matplotlib.pyplot as plt\n",
    "\n",
    "# Imports\n",
    "import os\n",
    "from google.cloud import bigquery\n",
    "from  datetime import datetime\n",
    "\n",
    "now = datetime.now()\n",
    "current_time = now.strftime(\"%Y-%m-%d %H:%M:%S\")\n",
    "print(\"Current Time:\", current_time)"
   ]
  },
  {
   "cell_type": "code",
   "execution_count": 126,
   "metadata": {},
   "outputs": [],
   "source": [
    "# Imports data\n",
    "data = pd.read_csv('../processed_data/2004_to_2019_combined_clean_polling_and_results.csv')"
   ]
  },
  {
   "cell_type": "code",
   "execution_count": 127,
   "metadata": {},
   "outputs": [],
   "source": [
    "# Add a field 'poll length' that shows number of days the poll was held for\n",
    "data['poll_length'] = pd.to_datetime(data.enddate) - pd.to_datetime(data.startdate)\n",
    "data['poll_length'] = data['poll_length'].dt.days"
   ]
  },
  {
   "cell_type": "code",
   "execution_count": 128,
   "metadata": {},
   "outputs": [],
   "source": [
    "# Converts start/end to datetime\n",
    "data['startdate'] = pd.to_datetime(data['startdate'])\n",
    "data['enddate'] = pd.to_datetime(data['enddate'])\n",
    "data['next_elec_date'] = pd.to_datetime(data['next_elec_date'])"
   ]
  },
  {
   "cell_type": "code",
   "execution_count": 129,
   "metadata": {},
   "outputs": [],
   "source": [
    "# Divide forecasts by 100 to create values between 0-1\n",
    "for column in ['BRX_FC', 'CON_FC', 'GRE_FC', 'LAB_FC', 'LIB_FC', 'OTH_FC', 'PLC_FC', 'SNP_FC', 'UKI_FC']:\n",
    "    data[column] = data[column] / 100"
   ]
  },
  {
   "cell_type": "code",
   "execution_count": 130,
   "metadata": {},
   "outputs": [],
   "source": [
    "# Divide actuals by 100 to create values between 0-1\n",
    "for column in ['BRX_ACT', 'CON_ACT', 'GRE_ACT', 'LIB_ACT', 'LAB_ACT', 'PLC_ACT', 'SNP_ACT', 'UKI_ACT', 'OTH_PERCENTAGE']:\n",
    "    data[column] = data[column] / 100"
   ]
  },
  {
   "cell_type": "code",
   "execution_count": 131,
   "metadata": {},
   "outputs": [],
   "source": [
    "# Calculates month cleaning column\n",
    "def calculate_month_diff(d1, d2):\n",
    "    return (d2.year - d1.year) * 12 + d2.month - d1.month"
   ]
  },
  {
   "cell_type": "code",
   "execution_count": 132,
   "metadata": {},
   "outputs": [],
   "source": [
    "# Applies month cleaning\n",
    "data['months_to_election'] = data.apply(lambda row: calculate_month_diff(row['enddate'], row['next_elec_date']), axis=1)"
   ]
  },
  {
   "cell_type": "code",
   "execution_count": 133,
   "metadata": {},
   "outputs": [],
   "source": [
    "# Function to calculate weight\n",
    "def calculate_weight(months, max_months=60):\n",
    "    return max(0, 1 - np.log1p(months) / np.log1p(max_months))"
   ]
  },
  {
   "cell_type": "code",
   "execution_count": 134,
   "metadata": {},
   "outputs": [],
   "source": [
    "# Applies weight calculation\n",
    "data['weight'] = data['months_to_election'].apply(calculate_weight)\n"
   ]
  },
  {
   "cell_type": "code",
   "execution_count": 135,
   "metadata": {},
   "outputs": [],
   "source": [
    "order = ['startdate', 'enddate', 'pollster', 'samplesize', 'rating',\n",
    "       'next_elec_date', 'days_to_elec', 'poll_length',\n",
    "       'party_in_power', 'months_to_election', 'weight', 'CON_FC', 'LAB_FC', 'LIB_FC',\n",
    "       'BRX_FC', 'GRE_FC', 'OTH_FC', 'PLC_FC', 'SNP_FC', 'UKI_FC', 'CON_ACT', 'LAB_ACT', 'LIB_ACT', 'BRX_ACT', 'GRE_ACT',\n",
    "       'PLC_ACT', 'SNP_ACT', 'UKI_ACT', 'OTH_PERCENTAGE']"
   ]
  },
  {
   "cell_type": "code",
   "execution_count": 136,
   "metadata": {},
   "outputs": [],
   "source": [
    "data = data[order]"
   ]
  },
  {
   "cell_type": "code",
   "execution_count": 138,
   "metadata": {},
   "outputs": [
    {
     "data": {
      "text/plain": [
       "Index(['startdate', 'enddate', 'pollster', 'samplesize', 'rating',\n",
       "       'next_elec_date', 'days_to_elec', 'poll_length', 'party_in_power',\n",
       "       'months_to_election', 'weight', 'CON_FC', 'LAB_FC', 'LIB_FC', 'BRX_FC',\n",
       "       'GRE_FC', 'OTH_FC', 'PLC_FC', 'SNP_FC', 'UKI_FC', 'CON_ACT', 'LAB_ACT',\n",
       "       'LIB_ACT', 'BRX_ACT', 'GRE_ACT', 'PLC_ACT', 'SNP_ACT', 'UKI_ACT',\n",
       "       'OTH_PERCENTAGE'],\n",
       "      dtype='object')"
      ]
     },
     "execution_count": 138,
     "metadata": {},
     "output_type": "execute_result"
    }
   ],
   "source": [
    "data.columns"
   ]
  },
  {
   "cell_type": "code",
   "execution_count": null,
   "metadata": {},
   "outputs": [],
   "source": []
  }
 ],
 "metadata": {
  "kernelspec": {
   "display_name": "election_predictor",
   "language": "python",
   "name": "python3"
  },
  "language_info": {
   "codemirror_mode": {
    "name": "ipython",
    "version": 3
   },
   "file_extension": ".py",
   "mimetype": "text/x-python",
   "name": "python",
   "nbconvert_exporter": "python",
   "pygments_lexer": "ipython3",
   "version": "3.10.6"
  }
 },
 "nbformat": 4,
 "nbformat_minor": 2
}
