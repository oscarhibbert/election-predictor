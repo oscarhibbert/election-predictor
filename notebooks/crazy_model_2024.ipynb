{
 "cells": [
  {
   "cell_type": "code",
   "execution_count": 1,
   "metadata": {},
   "outputs": [],
   "source": [
    "# Imports using Sklearn make shortcut functions\n",
    "from sklearn.compose import make_column_transformer\n",
    "from sklearn.preprocessing import MinMaxScaler, OrdinalEncoder, OneHotEncoder\n",
    "from sklearn.pipeline import make_pipeline\n",
    "from xgboost import XGBRegressor\n",
    "from sklearn.model_selection import train_test_split, cross_val_score, GridSearchCV, RandomizedSearchCV, TimeSeriesSplit\n",
    "from sklearn.metrics import mean_squared_error, r2_score\n",
    "import pandas as pd\n",
    "import numpy as np\n",
    "import seaborn as sns\n",
    "import matplotlib.pyplot as plt\n",
    "from google.cloud import bigquery\n",
    "from datetime import datetime, timedelta"
   ]
  },
  {
   "cell_type": "code",
   "execution_count": 2,
   "metadata": {},
   "outputs": [],
   "source": [
    "# Print current time\n",
    "now = datetime.now()\n",
    "current_time = now.strftime(\"%Y-%m-%d %H:%M:%S\")"
   ]
  },
  {
   "cell_type": "code",
   "execution_count": 3,
   "metadata": {},
   "outputs": [],
   "source": [
    "# Imports data\n",
    "data = pd.read_csv('../processed_data/1988_to_2024_combined_clean_polling_and_results.csv')"
   ]
  },
  {
   "cell_type": "code",
   "execution_count": 4,
   "metadata": {},
   "outputs": [],
   "source": [
    "# Renames randmom PERCENTAGE COLUMN - FIX IN DATA CLEANING\n",
    "data.rename(columns={'OTH_PERCENTAGE': 'OTH_ACT'}, inplace=True)"
   ]
  },
  {
   "cell_type": "code",
   "execution_count": 5,
   "metadata": {},
   "outputs": [],
   "source": [
    "# Convert date columns to datetime\n",
    "data['enddate'] = pd.to_datetime(data['enddate'])\n",
    "data['next_elec_date'] = pd.to_datetime(data['next_elec_date'])\n",
    "data['startdate'] = pd.to_datetime(data['startdate'])"
   ]
  },
  {
   "cell_type": "code",
   "execution_count": 6,
   "metadata": {},
   "outputs": [],
   "source": [
    "# Handle numerical transformer\n",
    "num_columns_selector = ['samplesize', 'months_to_elec_weight']\n",
    "num_transformer = MinMaxScaler()"
   ]
  },
  {
   "cell_type": "code",
   "execution_count": 7,
   "metadata": {},
   "outputs": [],
   "source": [
    "# Handle categorical transformer\n",
    "cat_columns_selector = ['rating']\n",
    "cat_transformer = make_pipeline(OrdinalEncoder(categories = [['F','F+','E-','E','E+','D-','D','D+','C-','C','C+','B-','B','B+','A-']]),MinMaxScaler())"
   ]
  },
  {
   "cell_type": "code",
   "execution_count": 8,
   "metadata": {},
   "outputs": [],
   "source": [
    "# One-hot encoder for party_in_power\n",
    "ohe = OneHotEncoder()"
   ]
  },
  {
   "cell_type": "code",
   "execution_count": 9,
   "metadata": {},
   "outputs": [],
   "source": [
    "# Build the preprocessing pipeline\n",
    "preproc_pipeline = make_column_transformer(\n",
    "    (num_transformer, num_columns_selector),\n",
    "    (cat_transformer, cat_columns_selector),\n",
    "    (ohe,['party_in_power']),\n",
    "    remainder='passthrough',\n",
    "    verbose_feature_names_out=False\n",
    ")"
   ]
  },
  {
   "cell_type": "code",
   "execution_count": 10,
   "metadata": {},
   "outputs": [
    {
     "data": {
      "text/plain": [
       "next_elec_date\n",
       "2015-05-07    1930\n",
       "2024-07-04    1362\n",
       "2010-05-06     584\n",
       "1992-04-09     453\n",
       "2019-12-12     440\n",
       "1997-05-01     338\n",
       "2017-06-08     254\n",
       "2001-06-07     213\n",
       "2005-05-05      98\n",
       "Name: count, dtype: int64"
      ]
     },
     "execution_count": 10,
     "metadata": {},
     "output_type": "execute_result"
    }
   ],
   "source": [
    "data['next_elec_date'].value_counts()"
   ]
  },
  {
   "cell_type": "code",
   "execution_count": 11,
   "metadata": {},
   "outputs": [],
   "source": [
    "# Define election dates\n",
    "election_date = datetime.strptime('2024-07-04', '%Y-%m-%d')\n",
    "cutoff_date = election_date - timedelta(days=84)\n",
    "prediction_date = election_date - timedelta(days=30)"
   ]
  },
  {
   "cell_type": "code",
   "execution_count": 12,
   "metadata": {},
   "outputs": [],
   "source": [
    "# Split data\n",
    "data_train = data[data['startdate'] > '2003-12-31']\n",
    "data_train = data_train[data_train['startdate'] < cutoff_date]\n",
    "data_test_1 = data[(data['startdate'] >= cutoff_date) & (data['startdate'] < prediction_date)]\n",
    "data_test = data_test_1[data_test_1['next_elec_date'] == election_date]"
   ]
  },
  {
   "cell_type": "code",
   "execution_count": 13,
   "metadata": {},
   "outputs": [],
   "source": [
    "# Fit transform preprocessing pipeline to data_train\n",
    "data_train_processed = preproc_pipeline.fit_transform(data_train)"
   ]
  },
  {
   "cell_type": "code",
   "execution_count": 14,
   "metadata": {},
   "outputs": [],
   "source": [
    "# Transform preprocessing pipeline to data_test\n",
    "data_test_processed = preproc_pipeline.transform(data_test)"
   ]
  },
  {
   "cell_type": "code",
   "execution_count": 15,
   "metadata": {},
   "outputs": [],
   "source": [
    "# Check feature names make sense for data_train\n",
    "data_train_processed = pd.DataFrame(\n",
    "    data_train_processed, columns=preproc_pipeline.get_feature_names_out()\n",
    ")\n",
    "\n",
    "# Check feature names make sense for data_test\n",
    "data_test_processed = pd.DataFrame(\n",
    "    data_test_processed, columns=preproc_pipeline.get_feature_names_out()\n",
    ")"
   ]
  },
  {
   "cell_type": "code",
   "execution_count": 16,
   "metadata": {},
   "outputs": [],
   "source": [
    "# Define our X by dropping irrelevant and y columns\n",
    "X_train = data_train_processed.drop(columns=['startdate', 'enddate', 'pollster', 'Unnamed: 0', 'next_elec_date', 'days_to_elec', 'months_to_elec', 'party_in_power_Labour', 'LAB_ACT', 'CON_ACT', 'LIB_ACT', 'GRE_ACT', 'BRX_ACT', 'SNP_ACT', 'UKI_ACT', 'PLC_ACT', 'OTH_ACT'])\n",
    "X_test = data_test_processed.drop(columns=['startdate', 'enddate', 'pollster', 'Unnamed: 0', 'next_elec_date', 'days_to_elec', 'months_to_elec', 'party_in_power_Labour', 'LAB_ACT', 'CON_ACT', 'LIB_ACT', 'GRE_ACT', 'BRX_ACT', 'SNP_ACT', 'UKI_ACT', 'PLC_ACT', 'OTH_ACT'])"
   ]
  },
  {
   "cell_type": "code",
   "execution_count": 17,
   "metadata": {},
   "outputs": [],
   "source": [
    "# Build our target matrix\n",
    "y_train = data_train_processed[['next_elec_date', 'LAB_ACT', 'CON_ACT', 'LIB_ACT', 'GRE_ACT', 'BRX_ACT', 'SNP_ACT', 'UKI_ACT', 'PLC_ACT', 'OTH_ACT']]\n",
    "y_test = data_test_processed[['next_elec_date', 'LAB_ACT', 'CON_ACT', 'LIB_ACT', 'GRE_ACT', 'BRX_ACT', 'SNP_ACT', 'UKI_ACT', 'PLC_ACT', 'OTH_ACT']]"
   ]
  },
  {
   "cell_type": "code",
   "execution_count": 18,
   "metadata": {},
   "outputs": [],
   "source": [
    "# Drops y_train actuals where the actual is the actual result we are trying to predict, replaces with NaNs\n",
    "y_train.loc[y_train['next_elec_date'] == '2024-07-04',\n",
    "         ['LAB_ACT', 'CON_ACT', 'LIB_ACT', 'GRE_ACT', 'BRX_ACT', 'SNP_ACT', 'UKI_ACT', 'PLC_ACT', 'OTH_ACT']] = np.nan"
   ]
  },
  {
   "cell_type": "code",
   "execution_count": 19,
   "metadata": {},
   "outputs": [
    {
     "data": {
      "text/plain": [
       "samplesize                     0.013732\n",
       "months_to_elec_weight          0.706512\n",
       "rating                         0.640306\n",
       "party_in_power_Conservative         1.0\n",
       "poll_length                    1.928571\n",
       "CON_FC                         0.233571\n",
       "LAB_FC                         0.441071\n",
       "LIB_FC                         0.095536\n",
       "BRX_FC                         0.116071\n",
       "GRE_FC                         0.059286\n",
       "OTH_FC                         0.022727\n",
       "PLC_FC                           0.0085\n",
       "SNP_FC                         0.026429\n",
       "UKI_FC                              NaN\n",
       "dtype: object"
      ]
     },
     "execution_count": 19,
     "metadata": {},
     "output_type": "execute_result"
    }
   ],
   "source": [
    "# Calculates average median value of X_test\n",
    "averages = X_test.mean()\n",
    "averages"
   ]
  },
  {
   "cell_type": "code",
   "execution_count": 20,
   "metadata": {},
   "outputs": [],
   "source": [
    "# Creates imputation values for y_train to impute over actuals we are trying to predict\n",
    "imputation_values = {\n",
    "    'CON_ACT': averages['CON_FC'],\n",
    "    'LAB_ACT': averages['LAB_FC'],\n",
    "    'LIB_ACT': averages['LIB_FC'],\n",
    "    'BRX_ACT': averages['BRX_FC'],\n",
    "    'GRE_ACT': averages['GRE_FC'],\n",
    "    'OTH_ACT': averages['OTH_FC'],\n",
    "    'PLC_ACT': averages['PLC_FC'],\n",
    "    'SNP_ACT': averages['SNP_FC'],\n",
    "    'UKI_ACT': 0\n",
    "}"
   ]
  },
  {
   "cell_type": "code",
   "execution_count": 21,
   "metadata": {},
   "outputs": [
    {
     "name": "stderr",
     "output_type": "stream",
     "text": [
      "/tmp/ipykernel_278763/1725420624.py:2: FutureWarning: Downcasting object dtype arrays on .fillna, .ffill, .bfill is deprecated and will change in a future version. Call result.infer_objects(copy=False) instead. To opt-in to the future behavior, set `pd.set_option('future.no_silent_downcasting', True)`\n",
      "  y_train = y_train.fillna(value=imputation_values)\n"
     ]
    }
   ],
   "source": [
    "# Applies imputation values to y_train\n",
    "y_train = y_train.fillna(value=imputation_values)"
   ]
  },
  {
   "cell_type": "code",
   "execution_count": 22,
   "metadata": {},
   "outputs": [],
   "source": [
    "# Instantiate the model for each party\n",
    "models = {}\n",
    "parties = ['CON', 'LAB', 'LIB', 'BRX', 'GRE', 'SNP', 'UKI', 'PLC', 'OTH']\n",
    "for party in parties:\n",
    "    models[party] = XGBRegressor(\n",
    "        learning_rate=0.3, n_estimators=300, max_depth=3, subsample=0.7,\n",
    "        objective='reg:squarederror', nthread=-1, enable_categorical=True\n",
    "    )"
   ]
  },
  {
   "cell_type": "code",
   "execution_count": 23,
   "metadata": {},
   "outputs": [],
   "source": [
    "# Train models\n",
    "X_train_matrix = np.array(X_train)\n",
    "for party in parties:\n",
    "    models[party].fit(X_train_matrix, y_train[f'{party}_ACT'])"
   ]
  },
  {
   "cell_type": "code",
   "execution_count": 24,
   "metadata": {},
   "outputs": [],
   "source": [
    "# Evaluate predictions\n",
    "X_test_matrix = np.array(X_test)\n",
    "mean_predictions = {}\n",
    "for party in parties:\n",
    "    mean_predictions[party] = models[party].predict(X_test_matrix).mean()\n"
   ]
  },
  {
   "cell_type": "code",
   "execution_count": 25,
   "metadata": {},
   "outputs": [
    {
     "name": "stdout",
     "output_type": "stream",
     "text": [
      "2024 mean prediction for CON: 0.26263758540153503\n",
      "2024 mean prediction for LAB: 0.4101848602294922\n",
      "2024 mean prediction for LIB: 0.09597329050302505\n",
      "2024 mean prediction for BRX: 0.09730732440948486\n",
      "2024 mean prediction for GRE: 0.052317358553409576\n",
      "2024 mean prediction for SNP: 0.029925065115094185\n",
      "2024 mean prediction for UKI: 0.000812179350759834\n",
      "2024 mean prediction for PLC: 0.007810052949935198\n",
      "2024 mean prediction for OTH: 0.029750537127256393\n"
     ]
    }
   ],
   "source": [
    "# Print mean predictions\n",
    "for party in parties:\n",
    "    print(f\"2024 mean prediction for {party}: {mean_predictions[party]}\")\n"
   ]
  },
  {
   "cell_type": "code",
   "execution_count": 26,
   "metadata": {},
   "outputs": [],
   "source": [
    "# Evaluate last five polls\n",
    "last_predictions = {}\n",
    "for party in parties:\n",
    "    last_predictions[party] = models[party].predict(X_test_matrix)[-5:]"
   ]
  },
  {
   "cell_type": "code",
   "execution_count": 27,
   "metadata": {},
   "outputs": [
    {
     "name": "stdout",
     "output_type": "stream",
     "text": [
      "2024 last prediction for CON: 0.25818395614624023\n",
      "2024 last prediction for LAB: 0.39750856161117554\n",
      "2024 last prediction for LIB: 0.09504593163728714\n",
      "2024 last prediction for BRX: 0.09155900031328201\n",
      "2024 last prediction for GRE: 0.049774184823036194\n",
      "2024 last prediction for SNP: 0.03195636346936226\n",
      "2024 last prediction for UKI: 0.0008701331098563969\n",
      "2024 last prediction for PLC: 0.00771133229136467\n",
      "2024 last prediction for OTH: 0.033425454050302505\n"
     ]
    }
   ],
   "source": [
    "# Print mean of predictions\n",
    "for party in parties:\n",
    "    print(f\"2024 last prediction for {party}: {last_predictions[party].mean()}\")\n"
   ]
  }
 ],
 "metadata": {
  "kernelspec": {
   "display_name": "election_predictor",
   "language": "python",
   "name": "python3"
  },
  "language_info": {
   "codemirror_mode": {
    "name": "ipython",
    "version": 3
   },
   "file_extension": ".py",
   "mimetype": "text/x-python",
   "name": "python",
   "nbconvert_exporter": "python",
   "pygments_lexer": "ipython3",
   "version": "3.10.6"
  }
 },
 "nbformat": 4,
 "nbformat_minor": 2
}
