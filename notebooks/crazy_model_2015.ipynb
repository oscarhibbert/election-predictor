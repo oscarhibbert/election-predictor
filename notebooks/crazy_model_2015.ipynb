{
 "cells": [
  {
   "cell_type": "code",
   "execution_count": 36,
   "metadata": {},
   "outputs": [],
   "source": [
    "# Imports using Sklearn make shortcut functions\n",
    "from sklearn.compose import make_column_transformer\n",
    "from sklearn.preprocessing import MinMaxScaler, OrdinalEncoder, OneHotEncoder\n",
    "from sklearn.pipeline import make_pipeline\n",
    "from xgboost import XGBRegressor\n",
    "from sklearn.model_selection import train_test_split, cross_val_score, GridSearchCV, RandomizedSearchCV, TimeSeriesSplit\n",
    "from sklearn.metrics import mean_squared_error, r2_score\n",
    "import pandas as pd\n",
    "import numpy as np\n",
    "import seaborn as sns\n",
    "import matplotlib.pyplot as plt\n",
    "from google.cloud import bigquery\n",
    "from datetime import datetime, timedelta"
   ]
  },
  {
   "cell_type": "code",
   "execution_count": 37,
   "metadata": {},
   "outputs": [],
   "source": [
    "# Print current time\n",
    "now = datetime.now()\n",
    "current_time = now.strftime(\"%Y-%m-%d %H:%M:%S\")"
   ]
  },
  {
   "cell_type": "code",
   "execution_count": 38,
   "metadata": {},
   "outputs": [],
   "source": [
    "# Imports data\n",
    "data = pd.read_csv('../processed_data/1988_to_2024_combined_clean_polling_and_results.csv')"
   ]
  },
  {
   "cell_type": "code",
   "execution_count": 39,
   "metadata": {},
   "outputs": [],
   "source": [
    "data.rename(columns={'OTH_PERCENTAGE': 'OTH_ACT'}, inplace=True)"
   ]
  },
  {
   "cell_type": "code",
   "execution_count": 40,
   "metadata": {},
   "outputs": [],
   "source": [
    "# Convert date columns to datetime\n",
    "data['enddate'] = pd.to_datetime(data['enddate'])\n",
    "data['next_elec_date'] = pd.to_datetime(data['next_elec_date'])\n",
    "data['startdate'] = pd.to_datetime(data['startdate'])"
   ]
  },
  {
   "cell_type": "code",
   "execution_count": 41,
   "metadata": {},
   "outputs": [],
   "source": [
    "# Handle numerical transformer\n",
    "num_columns_selector = ['samplesize', 'months_to_elec_weight']\n",
    "num_transformer = MinMaxScaler()"
   ]
  },
  {
   "cell_type": "code",
   "execution_count": 42,
   "metadata": {},
   "outputs": [],
   "source": [
    "# Handle categorical transformer\n",
    "cat_columns_selector = ['rating']\n",
    "cat_transformer = make_pipeline(OrdinalEncoder(categories = [['F','F+','E-','E','E+','D-','D','D+','C-','C','C+','B-','B','B+','A-']]),MinMaxScaler())"
   ]
  },
  {
   "cell_type": "code",
   "execution_count": 43,
   "metadata": {},
   "outputs": [],
   "source": [
    "# One-hot encoder for party_in_power\n",
    "ohe = OneHotEncoder()"
   ]
  },
  {
   "cell_type": "code",
   "execution_count": 44,
   "metadata": {},
   "outputs": [],
   "source": [
    "# Build the preprocessing pipeline\n",
    "preproc_pipeline = make_column_transformer(\n",
    "    (num_transformer, num_columns_selector),\n",
    "    (cat_transformer, cat_columns_selector),\n",
    "    (ohe,['party_in_power']),\n",
    "    remainder='passthrough',\n",
    "    verbose_feature_names_out=False\n",
    ")"
   ]
  },
  {
   "cell_type": "code",
   "execution_count": 45,
   "metadata": {},
   "outputs": [
    {
     "data": {
      "text/plain": [
       "next_elec_date\n",
       "2015-05-07    1930\n",
       "2024-07-04    1362\n",
       "2010-05-06     584\n",
       "1992-04-09     453\n",
       "2019-12-12     440\n",
       "1997-05-01     338\n",
       "2017-06-08     254\n",
       "2001-06-07     213\n",
       "2005-05-05      98\n",
       "Name: count, dtype: int64"
      ]
     },
     "execution_count": 45,
     "metadata": {},
     "output_type": "execute_result"
    }
   ],
   "source": [
    "data['next_elec_date'].value_counts()"
   ]
  },
  {
   "cell_type": "code",
   "execution_count": 46,
   "metadata": {},
   "outputs": [],
   "source": [
    "# Define election dates\n",
    "election_date_2019 = datetime.strptime('2015-05-07', '%Y-%m-%d')\n",
    "cutoff_date = election_date_2019 - timedelta(days=84)\n",
    "prediction_date = election_date_2019 - timedelta(days=24)"
   ]
  },
  {
   "cell_type": "code",
   "execution_count": 47,
   "metadata": {},
   "outputs": [],
   "source": [
    "# Split data\n",
    "data_train = data[data['startdate'] < cutoff_date]\n",
    "data_test_1 = data[(data['startdate'] >= cutoff_date) & (data['startdate'] < prediction_date)]\n",
    "data_test = data_test_1[data_test_1['next_elec_date'] == election_date_2019]\n"
   ]
  },
  {
   "cell_type": "code",
   "execution_count": 48,
   "metadata": {},
   "outputs": [],
   "source": [
    "# Fit transform preprocessing pipeline to data_train\n",
    "data_train_processed = preproc_pipeline.fit_transform(data_train)\n"
   ]
  },
  {
   "cell_type": "code",
   "execution_count": 49,
   "metadata": {},
   "outputs": [],
   "source": [
    "# Transform preprocessing pipeline to data_test\n",
    "data_test_processed = preproc_pipeline.transform(data_test)"
   ]
  },
  {
   "cell_type": "code",
   "execution_count": 50,
   "metadata": {},
   "outputs": [],
   "source": [
    "# Check feature names make sense for data_train\n",
    "data_train_processed = pd.DataFrame(\n",
    "    data_train_processed, columns=preproc_pipeline.get_feature_names_out()\n",
    ")\n",
    "\n",
    "# Check feature names make sense for data_test\n",
    "data_test_processed = pd.DataFrame(\n",
    "    data_test_processed, columns=preproc_pipeline.get_feature_names_out()\n",
    ")"
   ]
  },
  {
   "cell_type": "code",
   "execution_count": 51,
   "metadata": {},
   "outputs": [],
   "source": [
    "# Define our X by dropping irrelevant and y columns\n",
    "X_train = data_train_processed.drop(columns=['startdate', 'enddate', 'pollster', 'Unnamed: 0', 'next_elec_date', 'days_to_elec', 'months_to_elec', 'party_in_power_Labour', 'LAB_ACT', 'CON_ACT', 'LIB_ACT', 'GRE_ACT', 'BRX_ACT', 'SNP_ACT', 'UKI_ACT', 'PLC_ACT', 'OTH_ACT'])\n",
    "X_test = data_test_processed.drop(columns=['startdate', 'enddate', 'pollster', 'Unnamed: 0', 'next_elec_date', 'days_to_elec', 'months_to_elec', 'party_in_power_Labour', 'LAB_ACT', 'CON_ACT', 'LIB_ACT', 'GRE_ACT', 'BRX_ACT', 'SNP_ACT', 'UKI_ACT', 'PLC_ACT', 'OTH_ACT'])"
   ]
  },
  {
   "cell_type": "code",
   "execution_count": 52,
   "metadata": {},
   "outputs": [],
   "source": [
    "# Build our target matrix\n",
    "y_train = data_train_processed[['next_elec_date', 'LAB_ACT', 'CON_ACT', 'LIB_ACT', 'GRE_ACT', 'BRX_ACT', 'SNP_ACT', 'UKI_ACT', 'PLC_ACT', 'OTH_ACT']]\n",
    "y_test = data_test_processed[['next_elec_date', 'LAB_ACT', 'CON_ACT', 'LIB_ACT', 'GRE_ACT', 'BRX_ACT', 'SNP_ACT', 'UKI_ACT', 'PLC_ACT', 'OTH_ACT']]"
   ]
  },
  {
   "cell_type": "code",
   "execution_count": 53,
   "metadata": {},
   "outputs": [],
   "source": [
    "# Drops y_train actuals where the actual is the actual result we are trying to predict, replaces with NaNs\n",
    "y_train.loc[y_train['next_elec_date'] == '2015-05-07',\n",
    "         ['LAB_ACT', 'CON_ACT', 'LIB_ACT', 'GRE_ACT', 'BRX_ACT', 'SNP_ACT', 'UKI_ACT', 'PLC_ACT', 'OTH_ACT']] = np.nan"
   ]
  },
  {
   "cell_type": "code",
   "execution_count": 68,
   "metadata": {},
   "outputs": [
    {
     "data": {
      "text/html": [
       "<div>\n",
       "<style scoped>\n",
       "    .dataframe tbody tr th:only-of-type {\n",
       "        vertical-align: middle;\n",
       "    }\n",
       "\n",
       "    .dataframe tbody tr th {\n",
       "        vertical-align: top;\n",
       "    }\n",
       "\n",
       "    .dataframe thead th {\n",
       "        text-align: right;\n",
       "    }\n",
       "</style>\n",
       "<table border=\"1\" class=\"dataframe\">\n",
       "  <thead>\n",
       "    <tr style=\"text-align: right;\">\n",
       "      <th></th>\n",
       "      <th>samplesize</th>\n",
       "      <th>months_to_elec_weight</th>\n",
       "      <th>rating</th>\n",
       "      <th>party_in_power_Conservative</th>\n",
       "      <th>poll_length</th>\n",
       "      <th>CON_FC</th>\n",
       "      <th>LAB_FC</th>\n",
       "      <th>LIB_FC</th>\n",
       "      <th>BRX_FC</th>\n",
       "      <th>GRE_FC</th>\n",
       "      <th>OTH_FC</th>\n",
       "      <th>PLC_FC</th>\n",
       "      <th>SNP_FC</th>\n",
       "      <th>UKI_FC</th>\n",
       "    </tr>\n",
       "  </thead>\n",
       "  <tbody>\n",
       "    <tr>\n",
       "      <th>90</th>\n",
       "      <td>0.073605</td>\n",
       "      <td>0.831387</td>\n",
       "      <td>1.0</td>\n",
       "      <td>1.0</td>\n",
       "      <td>1</td>\n",
       "      <td>0.35</td>\n",
       "      <td>0.34</td>\n",
       "      <td>0.08</td>\n",
       "      <td>NaN</td>\n",
       "      <td>0.04</td>\n",
       "      <td>0.06</td>\n",
       "      <td>NaN</td>\n",
       "      <td>NaN</td>\n",
       "      <td>0.12</td>\n",
       "    </tr>\n",
       "    <tr>\n",
       "      <th>91</th>\n",
       "      <td>0.065631</td>\n",
       "      <td>0.831387</td>\n",
       "      <td>1.0</td>\n",
       "      <td>1.0</td>\n",
       "      <td>1</td>\n",
       "      <td>0.33</td>\n",
       "      <td>0.35</td>\n",
       "      <td>0.08</td>\n",
       "      <td>NaN</td>\n",
       "      <td>0.05</td>\n",
       "      <td>0.05</td>\n",
       "      <td>NaN</td>\n",
       "      <td>NaN</td>\n",
       "      <td>0.13</td>\n",
       "    </tr>\n",
       "    <tr>\n",
       "      <th>92</th>\n",
       "      <td>0.070998</td>\n",
       "      <td>0.831387</td>\n",
       "      <td>1.0</td>\n",
       "      <td>1.0</td>\n",
       "      <td>1</td>\n",
       "      <td>0.34</td>\n",
       "      <td>0.34</td>\n",
       "      <td>0.07</td>\n",
       "      <td>NaN</td>\n",
       "      <td>0.06</td>\n",
       "      <td>0.06</td>\n",
       "      <td>NaN</td>\n",
       "      <td>NaN</td>\n",
       "      <td>0.13</td>\n",
       "    </tr>\n",
       "    <tr>\n",
       "      <th>93</th>\n",
       "      <td>0.027806</td>\n",
       "      <td>0.831387</td>\n",
       "      <td>0.5</td>\n",
       "      <td>1.0</td>\n",
       "      <td>2</td>\n",
       "      <td>0.39</td>\n",
       "      <td>0.33</td>\n",
       "      <td>0.08</td>\n",
       "      <td>NaN</td>\n",
       "      <td>0.07</td>\n",
       "      <td>0.05</td>\n",
       "      <td>NaN</td>\n",
       "      <td>NaN</td>\n",
       "      <td>0.07</td>\n",
       "    </tr>\n",
       "    <tr>\n",
       "      <th>94</th>\n",
       "      <td>0.025813</td>\n",
       "      <td>0.831387</td>\n",
       "      <td>0.357143</td>\n",
       "      <td>1.0</td>\n",
       "      <td>2</td>\n",
       "      <td>0.33</td>\n",
       "      <td>0.33</td>\n",
       "      <td>0.09</td>\n",
       "      <td>NaN</td>\n",
       "      <td>0.06</td>\n",
       "      <td>0.08</td>\n",
       "      <td>NaN</td>\n",
       "      <td>NaN</td>\n",
       "      <td>0.13</td>\n",
       "    </tr>\n",
       "    <tr>\n",
       "      <th>95</th>\n",
       "      <td>0.078614</td>\n",
       "      <td>0.831387</td>\n",
       "      <td>0.5</td>\n",
       "      <td>1.0</td>\n",
       "      <td>2</td>\n",
       "      <td>0.33</td>\n",
       "      <td>0.33</td>\n",
       "      <td>0.08</td>\n",
       "      <td>NaN</td>\n",
       "      <td>0.05</td>\n",
       "      <td>0.06</td>\n",
       "      <td>NaN</td>\n",
       "      <td>NaN</td>\n",
       "      <td>0.15</td>\n",
       "    </tr>\n",
       "    <tr>\n",
       "      <th>96</th>\n",
       "      <td>0.062308</td>\n",
       "      <td>0.831387</td>\n",
       "      <td>1.0</td>\n",
       "      <td>1.0</td>\n",
       "      <td>1</td>\n",
       "      <td>0.33</td>\n",
       "      <td>0.36</td>\n",
       "      <td>0.07</td>\n",
       "      <td>NaN</td>\n",
       "      <td>0.05</td>\n",
       "      <td>0.06</td>\n",
       "      <td>NaN</td>\n",
       "      <td>NaN</td>\n",
       "      <td>0.13</td>\n",
       "    </tr>\n",
       "    <tr>\n",
       "      <th>97</th>\n",
       "      <td>0.035473</td>\n",
       "      <td>0.831387</td>\n",
       "      <td>0.428571</td>\n",
       "      <td>1.0</td>\n",
       "      <td>4</td>\n",
       "      <td>0.34</td>\n",
       "      <td>0.32</td>\n",
       "      <td>0.09</td>\n",
       "      <td>NaN</td>\n",
       "      <td>0.05</td>\n",
       "      <td>0.06</td>\n",
       "      <td>NaN</td>\n",
       "      <td>NaN</td>\n",
       "      <td>0.14</td>\n",
       "    </tr>\n",
       "    <tr>\n",
       "      <th>98</th>\n",
       "      <td>0.099468</td>\n",
       "      <td>0.831387</td>\n",
       "      <td>1.0</td>\n",
       "      <td>1.0</td>\n",
       "      <td>1</td>\n",
       "      <td>0.33</td>\n",
       "      <td>0.34</td>\n",
       "      <td>0.08</td>\n",
       "      <td>NaN</td>\n",
       "      <td>0.06</td>\n",
       "      <td>0.05</td>\n",
       "      <td>NaN</td>\n",
       "      <td>NaN</td>\n",
       "      <td>0.13</td>\n",
       "    </tr>\n",
       "    <tr>\n",
       "      <th>99</th>\n",
       "      <td>0.025659</td>\n",
       "      <td>0.831387</td>\n",
       "      <td>1.0</td>\n",
       "      <td>1.0</td>\n",
       "      <td>3</td>\n",
       "      <td>0.33</td>\n",
       "      <td>0.35</td>\n",
       "      <td>0.07</td>\n",
       "      <td>NaN</td>\n",
       "      <td>0.08</td>\n",
       "      <td>0.07</td>\n",
       "      <td>NaN</td>\n",
       "      <td>NaN</td>\n",
       "      <td>0.1</td>\n",
       "    </tr>\n",
       "  </tbody>\n",
       "</table>\n",
       "</div>"
      ],
      "text/plain": [
       "   samplesize months_to_elec_weight    rating party_in_power_Conservative  \\\n",
       "90   0.073605              0.831387       1.0                         1.0   \n",
       "91   0.065631              0.831387       1.0                         1.0   \n",
       "92   0.070998              0.831387       1.0                         1.0   \n",
       "93   0.027806              0.831387       0.5                         1.0   \n",
       "94   0.025813              0.831387  0.357143                         1.0   \n",
       "95   0.078614              0.831387       0.5                         1.0   \n",
       "96   0.062308              0.831387       1.0                         1.0   \n",
       "97   0.035473              0.831387  0.428571                         1.0   \n",
       "98   0.099468              0.831387       1.0                         1.0   \n",
       "99   0.025659              0.831387       1.0                         1.0   \n",
       "\n",
       "   poll_length CON_FC LAB_FC LIB_FC BRX_FC GRE_FC OTH_FC PLC_FC SNP_FC UKI_FC  \n",
       "90           1   0.35   0.34   0.08    NaN   0.04   0.06    NaN    NaN   0.12  \n",
       "91           1   0.33   0.35   0.08    NaN   0.05   0.05    NaN    NaN   0.13  \n",
       "92           1   0.34   0.34   0.07    NaN   0.06   0.06    NaN    NaN   0.13  \n",
       "93           2   0.39   0.33   0.08    NaN   0.07   0.05    NaN    NaN   0.07  \n",
       "94           2   0.33   0.33   0.09    NaN   0.06   0.08    NaN    NaN   0.13  \n",
       "95           2   0.33   0.33   0.08    NaN   0.05   0.06    NaN    NaN   0.15  \n",
       "96           1   0.33   0.36   0.07    NaN   0.05   0.06    NaN    NaN   0.13  \n",
       "97           4   0.34   0.32   0.09    NaN   0.05   0.06    NaN    NaN   0.14  \n",
       "98           1   0.33   0.34   0.08    NaN   0.06   0.05    NaN    NaN   0.13  \n",
       "99           3   0.33   0.35   0.07    NaN   0.08   0.07    NaN    NaN    0.1  "
      ]
     },
     "execution_count": 68,
     "metadata": {},
     "output_type": "execute_result"
    }
   ],
   "source": [
    "X_test.tail(10)"
   ]
  },
  {
   "cell_type": "code",
   "execution_count": 54,
   "metadata": {},
   "outputs": [
    {
     "data": {
      "text/plain": [
       "samplesize                     0.059869\n",
       "months_to_elec_weight          0.742303\n",
       "rating                         0.816429\n",
       "party_in_power_Conservative         1.0\n",
       "poll_length                        1.59\n",
       "CON_FC                           0.3318\n",
       "LAB_FC                           0.3359\n",
       "LIB_FC                           0.0784\n",
       "BRX_FC                              NaN\n",
       "GRE_FC                            0.057\n",
       "OTH_FC                            0.056\n",
       "PLC_FC                              NaN\n",
       "SNP_FC                              NaN\n",
       "UKI_FC                           0.1409\n",
       "dtype: object"
      ]
     },
     "execution_count": 54,
     "metadata": {},
     "output_type": "execute_result"
    }
   ],
   "source": [
    "# Calculates average median value of X_test\n",
    "averages = X_test.mean()\n",
    "averages"
   ]
  },
  {
   "cell_type": "code",
   "execution_count": 55,
   "metadata": {},
   "outputs": [],
   "source": [
    "# Creates imputation values for y_train to impute over actuals we are trying to predict\n",
    "imputation_values = {\n",
    "    'CON_ACT': averages['CON_FC'],\n",
    "    'LAB_ACT': averages['LAB_FC'],\n",
    "    'LIB_ACT': averages['LIB_FC'],\n",
    "    'BRX_ACT': 0, # doesnt exist in 2015\n",
    "    'GRE_ACT': averages['GRE_FC'],\n",
    "    'OTH_ACT': averages['OTH_FC'],\n",
    "    'PLC_ACT':    0.006,\n",
    "    'SNP_ACT': 0.04, # imputes value due to low forecasts\n",
    "    'UKI_ACT': averages['UKI_FC']\n",
    "}"
   ]
  },
  {
   "cell_type": "code",
   "execution_count": 56,
   "metadata": {},
   "outputs": [
    {
     "name": "stderr",
     "output_type": "stream",
     "text": [
      "/tmp/ipykernel_138859/3014033841.py:2: FutureWarning: Downcasting object dtype arrays on .fillna, .ffill, .bfill is deprecated and will change in a future version. Call result.infer_objects(copy=False) instead. To opt-in to the future behavior, set `pd.set_option('future.no_silent_downcasting', True)`\n",
      "  y_train = y_train.fillna(value=imputation_values)\n"
     ]
    }
   ],
   "source": [
    "# Applies imputation values to y_train\n",
    "y_train = y_train.fillna(value=imputation_values)\n"
   ]
  },
  {
   "cell_type": "code",
   "execution_count": 57,
   "metadata": {},
   "outputs": [],
   "source": [
    "# Instantiate the model for each party\n",
    "models = {}\n",
    "parties = ['CON', 'LAB', 'LIB', 'BRX', 'GRE', 'SNP', 'UKI', 'PLC', 'OTH']\n",
    "for party in parties:\n",
    "    models[party] = XGBRegressor(\n",
    "        learning_rate=0.3, n_estimators=300, max_depth=3, subsample=0.7,\n",
    "        objective='reg:squarederror', nthread=-1, enable_categorical=True\n",
    "    )"
   ]
  },
  {
   "cell_type": "code",
   "execution_count": 58,
   "metadata": {},
   "outputs": [],
   "source": [
    "# Train models\n",
    "X_train_matrix = np.array(X_train)\n",
    "for party in parties:\n",
    "    models[party].fit(X_train_matrix, y_train[f'{party}_ACT'])"
   ]
  },
  {
   "cell_type": "code",
   "execution_count": 59,
   "metadata": {},
   "outputs": [],
   "source": [
    "# Evaluate model performance with cross validation\n",
    "cv_scores = {}\n",
    "for party in parties:\n",
    "    cv_scores[party] = cross_val_score(models[party], X_train_matrix, y_train[f'{party}_ACT']).mean()"
   ]
  },
  {
   "cell_type": "code",
   "execution_count": 60,
   "metadata": {},
   "outputs": [],
   "source": [
    "actuals_2015 = {\n",
    "    \"CON\": 0.368,  # Conservative Party\n",
    "    \"LAB\": 0.307,  # Labour Party\n",
    "    \"LIB\": 0.079,  # Liberal Democrats\n",
    "    \"BRX\": 0.000,  # Brexit Party (did not exist in 2015)\n",
    "    \"GRE\": 0.038,  # Green Party\n",
    "    \"SNP\": 0.050,  # Scottish National Party\n",
    "    \"UKI\": 0.126,  # UK Independence Party\n",
    "    \"PLC\": 0.005,  # Plaid Cymru\n",
    "    \"OTH\": 0.027   # Other parties\n",
    "}"
   ]
  },
  {
   "cell_type": "code",
   "execution_count": 61,
   "metadata": {},
   "outputs": [],
   "source": [
    "# Evaluate predictions\n",
    "X_test_matrix = np.array(X_test)\n",
    "mean_predictions = {}\n",
    "for party in parties:\n",
    "    mean_predictions[party] = models[party].predict(X_test_matrix).mean()\n"
   ]
  },
  {
   "cell_type": "code",
   "execution_count": 62,
   "metadata": {},
   "outputs": [
    {
     "name": "stdout",
     "output_type": "stream",
     "text": [
      "2015 mean prediction for CON: 0.3226492404937744\n",
      "2015 actual result for CON  : 0.368\n",
      "2015 mean prediction for LAB: 0.33812469244003296\n",
      "2015 actual result for LAB  : 0.307\n",
      "2015 mean prediction for LIB: 0.0791584700345993\n",
      "2015 actual result for LIB  : 0.079\n",
      "2015 mean prediction for BRX: 0.0\n",
      "2015 actual result for BRX  : 0.0\n",
      "2015 mean prediction for GRE: 0.05669592320919037\n",
      "2015 actual result for GRE  : 0.038\n",
      "2015 mean prediction for SNP: 0.039999037981033325\n",
      "2015 actual result for SNP  : 0.05\n",
      "2015 mean prediction for UKI: 0.14074283838272095\n",
      "2015 actual result for UKI  : 0.126\n",
      "2015 mean prediction for PLC: 0.005976035725325346\n",
      "2015 actual result for PLC  : 0.005\n",
      "2015 mean prediction for OTH: 0.06096232309937477\n",
      "2015 actual result for OTH  : 0.027\n"
     ]
    }
   ],
   "source": [
    "# Print mean predictions\n",
    "for party in parties:\n",
    "    print(f\"2015 mean prediction for {party}: {mean_predictions[party]}\")\n",
    "    print(f\"2015 actual result for {party}  : {actuals_2015[party]}\")\n"
   ]
  },
  {
   "cell_type": "code",
   "execution_count": 63,
   "metadata": {},
   "outputs": [],
   "source": [
    "# Evaluate last five polls\n",
    "last_predictions = {}\n",
    "for party in parties:\n",
    "    last_predictions[party] = models[party].predict(X_test_matrix)[-5:]"
   ]
  },
  {
   "cell_type": "code",
   "execution_count": 66,
   "metadata": {},
   "outputs": [
    {
     "name": "stdout",
     "output_type": "stream",
     "text": [
      "2015 last prediction for CON: 0.3053290843963623\n",
      "2015 actual result for CON  : 0.368\n",
      "2015 last prediction for LAB: 0.3406062722206116\n",
      "2015 actual result for LAB  : 0.307\n",
      "2015 last prediction for LIB: 0.07993648946285248\n",
      "2015 actual result for LIB  : 0.079\n",
      "2015 last prediction for BRX: 0.0\n",
      "2015 actual result for BRX  : 0.0\n",
      "2015 last prediction for GRE: 0.05651453137397766\n",
      "2015 actual result for GRE  : 0.038\n",
      "2015 last prediction for SNP: 0.04000129550695419\n",
      "2015 actual result for SNP  : 0.05\n",
      "2015 last prediction for UKI: 0.14088746905326843\n",
      "2015 actual result for UKI  : 0.126\n",
      "2015 last prediction for PLC: 0.005984189920127392\n",
      "2015 actual result for PLC  : 0.005\n",
      "2015 last prediction for OTH: 0.06971053779125214\n",
      "2015 actual result for OTH  : 0.027\n"
     ]
    }
   ],
   "source": [
    "# Print mean of predictions\n",
    "for party in parties:\n",
    "    print(f\"2015 last prediction for {party}: {last_predictions[party].mean()}\")\n",
    "    print(f\"2015 actual result for {party}  : {actuals_2015[party]}\")\n"
   ]
  },
  {
   "cell_type": "code",
   "execution_count": null,
   "metadata": {},
   "outputs": [],
   "source": []
  }
 ],
 "metadata": {
  "kernelspec": {
   "display_name": "election_predictor",
   "language": "python",
   "name": "python3"
  },
  "language_info": {
   "codemirror_mode": {
    "name": "ipython",
    "version": 3
   },
   "file_extension": ".py",
   "mimetype": "text/x-python",
   "name": "python",
   "nbconvert_exporter": "python",
   "pygments_lexer": "ipython3",
   "version": "3.10.6"
  }
 },
 "nbformat": 4,
 "nbformat_minor": 2
}
