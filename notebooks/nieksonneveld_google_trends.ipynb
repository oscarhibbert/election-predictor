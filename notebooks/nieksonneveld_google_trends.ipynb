{
 "cells": [
  {
   "cell_type": "code",
   "execution_count": 2,
   "metadata": {},
   "outputs": [],
   "source": [
    "import pandas as pd"
   ]
  },
  {
   "cell_type": "code",
   "execution_count": 36,
   "metadata": {},
   "outputs": [],
   "source": [
    "trends1 = pd.read_csv('/Users/nieksonneveld/code/nieksonneveld/election-predictor/raw_data/LAB_CON_LIB_GRE_BRX_Trends_2004_now.csv')\n",
    "trends2 = pd.read_csv('/Users/nieksonneveld/code/nieksonneveld/election-predictor/raw_data/LAB_PLC_SNP_UKI_NAT_Trends_2004_now.csv')"
   ]
  },
  {
   "cell_type": "code",
   "execution_count": 35,
   "metadata": {},
   "outputs": [
    {
     "data": {
      "text/html": [
       "<div>\n",
       "<style scoped>\n",
       "    .dataframe tbody tr th:only-of-type {\n",
       "        vertical-align: middle;\n",
       "    }\n",
       "\n",
       "    .dataframe tbody tr th {\n",
       "        vertical-align: top;\n",
       "    }\n",
       "\n",
       "    .dataframe thead th {\n",
       "        text-align: right;\n",
       "    }\n",
       "</style>\n",
       "<table border=\"1\" class=\"dataframe\">\n",
       "  <thead>\n",
       "    <tr style=\"text-align: right;\">\n",
       "      <th></th>\n",
       "      <th>Month</th>\n",
       "      <th>Labour Party: (United Kingdom)</th>\n",
       "      <th>Plaid Cymru: (United Kingdom)</th>\n",
       "      <th>Scottish National Party: (United Kingdom)</th>\n",
       "      <th>UK Independence Party: (United Kingdom)</th>\n",
       "      <th>British National Party: (United Kingdom)</th>\n",
       "    </tr>\n",
       "  </thead>\n",
       "  <tbody>\n",
       "    <tr>\n",
       "      <th>0</th>\n",
       "      <td>2004-01</td>\n",
       "      <td>8</td>\n",
       "      <td>0</td>\n",
       "      <td>1</td>\n",
       "      <td>0</td>\n",
       "      <td>2</td>\n",
       "    </tr>\n",
       "    <tr>\n",
       "      <th>1</th>\n",
       "      <td>2004-02</td>\n",
       "      <td>8</td>\n",
       "      <td>0</td>\n",
       "      <td>1</td>\n",
       "      <td>0</td>\n",
       "      <td>3</td>\n",
       "    </tr>\n",
       "    <tr>\n",
       "      <th>2</th>\n",
       "      <td>2004-03</td>\n",
       "      <td>8</td>\n",
       "      <td>0</td>\n",
       "      <td>1</td>\n",
       "      <td>1</td>\n",
       "      <td>3</td>\n",
       "    </tr>\n",
       "    <tr>\n",
       "      <th>3</th>\n",
       "      <td>2004-04</td>\n",
       "      <td>6</td>\n",
       "      <td>0</td>\n",
       "      <td>1</td>\n",
       "      <td>1</td>\n",
       "      <td>3</td>\n",
       "    </tr>\n",
       "    <tr>\n",
       "      <th>4</th>\n",
       "      <td>2004-05</td>\n",
       "      <td>7</td>\n",
       "      <td>1</td>\n",
       "      <td>1</td>\n",
       "      <td>5</td>\n",
       "      <td>5</td>\n",
       "    </tr>\n",
       "  </tbody>\n",
       "</table>\n",
       "</div>"
      ],
      "text/plain": [
       "     Month  Labour Party: (United Kingdom) Plaid Cymru: (United Kingdom)  \\\n",
       "0  2004-01                               8                             0   \n",
       "1  2004-02                               8                             0   \n",
       "2  2004-03                               8                             0   \n",
       "3  2004-04                               6                             0   \n",
       "4  2004-05                               7                             1   \n",
       "\n",
       "  Scottish National Party: (United Kingdom)  \\\n",
       "0                                         1   \n",
       "1                                         1   \n",
       "2                                         1   \n",
       "3                                         1   \n",
       "4                                         1   \n",
       "\n",
       "  UK Independence Party: (United Kingdom)  \\\n",
       "0                                       0   \n",
       "1                                       0   \n",
       "2                                       1   \n",
       "3                                       1   \n",
       "4                                       5   \n",
       "\n",
       "  British National Party: (United Kingdom)  \n",
       "0                                        2  \n",
       "1                                        3  \n",
       "2                                        3  \n",
       "3                                        3  \n",
       "4                                        5  "
      ]
     },
     "execution_count": 35,
     "metadata": {},
     "output_type": "execute_result"
    }
   ],
   "source": [
    "trends2.head()"
   ]
  },
  {
   "cell_type": "code",
   "execution_count": 38,
   "metadata": {},
   "outputs": [],
   "source": [
    "trends2.drop(columns='Labour Party: (United Kingdom)',inplace=True)"
   ]
  },
  {
   "cell_type": "code",
   "execution_count": 40,
   "metadata": {},
   "outputs": [],
   "source": [
    "trends_merged = pd.merge(trends1,trends2,how='left',on='Month')"
   ]
  },
  {
   "cell_type": "code",
   "execution_count": 41,
   "metadata": {},
   "outputs": [
    {
     "data": {
      "text/html": [
       "<div>\n",
       "<style scoped>\n",
       "    .dataframe tbody tr th:only-of-type {\n",
       "        vertical-align: middle;\n",
       "    }\n",
       "\n",
       "    .dataframe tbody tr th {\n",
       "        vertical-align: top;\n",
       "    }\n",
       "\n",
       "    .dataframe thead th {\n",
       "        text-align: right;\n",
       "    }\n",
       "</style>\n",
       "<table border=\"1\" class=\"dataframe\">\n",
       "  <thead>\n",
       "    <tr style=\"text-align: right;\">\n",
       "      <th></th>\n",
       "      <th>Month</th>\n",
       "      <th>Labour Party: (United Kingdom)</th>\n",
       "      <th>Conservative Party: (United Kingdom)</th>\n",
       "      <th>Liberal Democrats: (United Kingdom)</th>\n",
       "      <th>Green Party: (United Kingdom)</th>\n",
       "      <th>Reform UK: (United Kingdom)</th>\n",
       "      <th>Plaid Cymru: (United Kingdom)</th>\n",
       "      <th>Scottish National Party: (United Kingdom)</th>\n",
       "      <th>UK Independence Party: (United Kingdom)</th>\n",
       "      <th>British National Party: (United Kingdom)</th>\n",
       "    </tr>\n",
       "  </thead>\n",
       "  <tbody>\n",
       "    <tr>\n",
       "      <th>0</th>\n",
       "      <td>2004-01</td>\n",
       "      <td>8</td>\n",
       "      <td>6</td>\n",
       "      <td>3</td>\n",
       "      <td>1</td>\n",
       "      <td>0</td>\n",
       "      <td>0</td>\n",
       "      <td>1</td>\n",
       "      <td>0</td>\n",
       "      <td>2</td>\n",
       "    </tr>\n",
       "    <tr>\n",
       "      <th>1</th>\n",
       "      <td>2004-02</td>\n",
       "      <td>8</td>\n",
       "      <td>6</td>\n",
       "      <td>3</td>\n",
       "      <td>1</td>\n",
       "      <td>0</td>\n",
       "      <td>0</td>\n",
       "      <td>1</td>\n",
       "      <td>0</td>\n",
       "      <td>3</td>\n",
       "    </tr>\n",
       "    <tr>\n",
       "      <th>2</th>\n",
       "      <td>2004-03</td>\n",
       "      <td>8</td>\n",
       "      <td>5</td>\n",
       "      <td>3</td>\n",
       "      <td>1</td>\n",
       "      <td>0</td>\n",
       "      <td>0</td>\n",
       "      <td>1</td>\n",
       "      <td>1</td>\n",
       "      <td>3</td>\n",
       "    </tr>\n",
       "    <tr>\n",
       "      <th>3</th>\n",
       "      <td>2004-04</td>\n",
       "      <td>6</td>\n",
       "      <td>5</td>\n",
       "      <td>3</td>\n",
       "      <td>1</td>\n",
       "      <td>0</td>\n",
       "      <td>0</td>\n",
       "      <td>1</td>\n",
       "      <td>1</td>\n",
       "      <td>3</td>\n",
       "    </tr>\n",
       "    <tr>\n",
       "      <th>4</th>\n",
       "      <td>2004-05</td>\n",
       "      <td>7</td>\n",
       "      <td>6</td>\n",
       "      <td>3</td>\n",
       "      <td>3</td>\n",
       "      <td>0</td>\n",
       "      <td>1</td>\n",
       "      <td>1</td>\n",
       "      <td>5</td>\n",
       "      <td>5</td>\n",
       "    </tr>\n",
       "  </tbody>\n",
       "</table>\n",
       "</div>"
      ],
      "text/plain": [
       "     Month  Labour Party: (United Kingdom)  \\\n",
       "0  2004-01                               8   \n",
       "1  2004-02                               8   \n",
       "2  2004-03                               8   \n",
       "3  2004-04                               6   \n",
       "4  2004-05                               7   \n",
       "\n",
       "   Conservative Party: (United Kingdom)  Liberal Democrats: (United Kingdom)  \\\n",
       "0                                     6                                    3   \n",
       "1                                     6                                    3   \n",
       "2                                     5                                    3   \n",
       "3                                     5                                    3   \n",
       "4                                     6                                    3   \n",
       "\n",
       "  Green Party: (United Kingdom) Reform UK: (United Kingdom)  \\\n",
       "0                             1                           0   \n",
       "1                             1                           0   \n",
       "2                             1                           0   \n",
       "3                             1                           0   \n",
       "4                             3                           0   \n",
       "\n",
       "  Plaid Cymru: (United Kingdom) Scottish National Party: (United Kingdom)  \\\n",
       "0                             0                                         1   \n",
       "1                             0                                         1   \n",
       "2                             0                                         1   \n",
       "3                             0                                         1   \n",
       "4                             1                                         1   \n",
       "\n",
       "  UK Independence Party: (United Kingdom)  \\\n",
       "0                                       0   \n",
       "1                                       0   \n",
       "2                                       1   \n",
       "3                                       1   \n",
       "4                                       5   \n",
       "\n",
       "  British National Party: (United Kingdom)  \n",
       "0                                        2  \n",
       "1                                        3  \n",
       "2                                        3  \n",
       "3                                        3  \n",
       "4                                        5  "
      ]
     },
     "execution_count": 41,
     "metadata": {},
     "output_type": "execute_result"
    }
   ],
   "source": [
    "trends_merged.head()"
   ]
  },
  {
   "cell_type": "code",
   "execution_count": 43,
   "metadata": {},
   "outputs": [],
   "source": [
    "trends_merged['Month'] = pd.to_datetime(trends_merged['Month'])"
   ]
  },
  {
   "cell_type": "code",
   "execution_count": 44,
   "metadata": {},
   "outputs": [
    {
     "data": {
      "text/plain": [
       "Month                                        datetime64[ns]\n",
       "Labour Party: (United Kingdom)                        int64\n",
       "Conservative Party: (United Kingdom)                  int64\n",
       "Liberal Democrats: (United Kingdom)                   int64\n",
       "Green Party: (United Kingdom)                        object\n",
       "Reform UK: (United Kingdom)                          object\n",
       "Plaid Cymru: (United Kingdom)                        object\n",
       "Scottish National Party: (United Kingdom)            object\n",
       "UK Independence Party: (United Kingdom)              object\n",
       "British National Party: (United Kingdom)             object\n",
       "dtype: object"
      ]
     },
     "execution_count": 44,
     "metadata": {},
     "output_type": "execute_result"
    }
   ],
   "source": [
    "trends_merged.dtypes"
   ]
  },
  {
   "cell_type": "code",
   "execution_count": 46,
   "metadata": {},
   "outputs": [],
   "source": [
    "# Replace <1 values with 0.5 value\n",
    "trends_merged.replace('<1', 0.5,inplace=True)"
   ]
  },
  {
   "cell_type": "code",
   "execution_count": 48,
   "metadata": {},
   "outputs": [],
   "source": [
    "# Converting objects to int\n",
    "trends_merged = trends_merged.astype({'Green Party: (United Kingdom)':'int','Reform UK: (United Kingdom)':'int',\\\n",
    "    'Plaid Cymru: (United Kingdom)':'int','Scottish National Party: (United Kingdom)':'int',\\\n",
    "        'UK Independence Party: (United Kingdom)':'int','British National Party: (United Kingdom)':'int'})"
   ]
  },
  {
   "cell_type": "code",
   "execution_count": 49,
   "metadata": {},
   "outputs": [
    {
     "data": {
      "text/plain": [
       "Month                                        datetime64[ns]\n",
       "Labour Party: (United Kingdom)                        int64\n",
       "Conservative Party: (United Kingdom)                  int64\n",
       "Liberal Democrats: (United Kingdom)                   int64\n",
       "Green Party: (United Kingdom)                         int64\n",
       "Reform UK: (United Kingdom)                           int64\n",
       "Plaid Cymru: (United Kingdom)                         int64\n",
       "Scottish National Party: (United Kingdom)             int64\n",
       "UK Independence Party: (United Kingdom)               int64\n",
       "British National Party: (United Kingdom)              int64\n",
       "dtype: object"
      ]
     },
     "execution_count": 49,
     "metadata": {},
     "output_type": "execute_result"
    }
   ],
   "source": [
    "trends_merged.dtypes"
   ]
  },
  {
   "cell_type": "code",
   "execution_count": null,
   "metadata": {},
   "outputs": [],
   "source": []
  }
 ],
 "metadata": {
  "kernelspec": {
   "display_name": "election_predictor",
   "language": "python",
   "name": "python3"
  },
  "language_info": {
   "codemirror_mode": {
    "name": "ipython",
    "version": 3
   },
   "file_extension": ".py",
   "mimetype": "text/x-python",
   "name": "python",
   "nbconvert_exporter": "python",
   "pygments_lexer": "ipython3",
   "version": "3.10.6"
  }
 },
 "nbformat": 4,
 "nbformat_minor": 2
}
