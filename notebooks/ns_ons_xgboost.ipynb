{
 "cells": [
  {
   "cell_type": "code",
   "execution_count": 1,
   "metadata": {},
   "outputs": [],
   "source": [
    "# Imports using Sklearn make shortcut functions\n",
    "from sklearn.compose import make_column_transformer\n",
    "from sklearn.preprocessing import MinMaxScaler, OrdinalEncoder\n",
    "from sklearn.pipeline import make_pipeline\n",
    "\n",
    "from xgboost import XGBRegressor\n",
    "\n",
    "from sklearn.model_selection import train_test_split, cross_val_score, GridSearchCV, RandomizedSearchCV\n",
    "from sklearn.metrics import mean_squared_error, r2_score\n",
    "\n",
    "import pandas as pd\n",
    "import numpy as np\n",
    "\n",
    "import seaborn as sns\n",
    "import matplotlib.pyplot as plt\n",
    "\n",
    "# Imports\n",
    "import os\n",
    "from google.cloud import bigquery"
   ]
  },
  {
   "cell_type": "code",
   "execution_count": 2,
   "metadata": {},
   "outputs": [],
   "source": [
    "# Environment variables\n",
    "gcp_project_id = os.environ['GCP_PROJECT']\n",
    "gcp_service_account_key = os.environ['GCP_SERVICE_ACCOUNT_KEY']\n",
    "bq_source_dataset = os.environ['BQ_SOURCE_DATASET']\n",
    "bq_cleaned_dataset = os.environ['BQ_CLEANED_DATASET']"
   ]
  },
  {
   "cell_type": "code",
   "execution_count": 3,
   "metadata": {},
   "outputs": [],
   "source": [
    "# Import data from BQ and set data to X\n",
    "# Initialize a BigQuery client using the service account JSON file\n",
    "bq_client = bigquery.Client(project=gcp_project_id).from_service_account_json(gcp_service_account_key)\n",
    "\n",
    "# Setting the table we want from the source dataset\n",
    "select_table = 'cleaned_full_polls_combined_national_results_2004_2019'\n",
    "\n",
    "# SQL query for querying Big Query and fetching entire table\n",
    "query = f\"\"\"\n",
    "    SELECT *\n",
    "    FROM `{gcp_project_id}.{bq_cleaned_dataset}.{select_table}`\n",
    "\"\"\""
   ]
  },
  {
   "cell_type": "code",
   "execution_count": 4,
   "metadata": {},
   "outputs": [
    {
     "name": "stderr",
     "output_type": "stream",
     "text": [
      "/Users/nieksonneveld/.pyenv/versions/3.10.6/envs/election_predictor/lib/python3.10/site-packages/google/cloud/bigquery/table.py:1727: UserWarning: BigQuery Storage module not found, fetch data with the REST endpoint instead.\n",
      "  warnings.warn(\n"
     ]
    }
   ],
   "source": [
    "# Use BQ client to create DF from the selected table\n",
    "data = bq_client.query(query).to_dataframe()"
   ]
  },
  {
   "cell_type": "code",
   "execution_count": 5,
   "metadata": {},
   "outputs": [],
   "source": [
    "# Replace any found NaN values with 0\n",
    "data.replace(np.nan, 0, inplace=True)\n",
    "\n",
    "# Add a field 'poll length' that shows number of days the poll was held for\n",
    "data['poll_length'] = pd.to_datetime(data.enddate) - pd.to_datetime(data.startdate)\n",
    "data['poll_length'] = data['poll_length'].dt.days\n",
    "\n",
    "# Divide forecasts by 100 to create values between 0-1\n",
    "for column in ['BRX_FC', 'CON_FC', 'GRE_FC', 'LAB_FC', 'LIB_FC', 'NAT_FC', 'OTH_FC', 'PLC_FC', 'SNP_FC', 'UKI_FC']:\n",
    "    data[column] = data[column] / 100\n",
    "\n",
    "    # Divide actuals by 100 to create values between 0-1\n",
    "for column in ['BRX_ACT', 'CON_ACT', 'GRE_ACT', 'LIB_ACT', 'LAB_ACT', 'NAT_ACT', 'PLC_ACT', 'SNP_ACT', 'UKI_ACT', 'OTH_PERCENTAGE']:\n",
    "    data[column] = data[column] / 100\n",
    "\n",
    "data.sort_values('enddate', inplace=True)\n",
    "\n",
    "data.reset_index(inplace=True)"
   ]
  },
  {
   "cell_type": "code",
   "execution_count": 6,
   "metadata": {},
   "outputs": [],
   "source": [
    "# Load Trends csvs from raw_data folder\n",
    "trends1 = pd.read_csv('/Users/nieksonneveld/code/nieksonneveld/election-predictor/raw_data/LAB_CON_LIB_GRE_BRX_Trends_2004_now.csv')\n",
    "trends2 = pd.read_csv('/Users/nieksonneveld/code/nieksonneveld/election-predictor/raw_data/LAB_PLC_SNP_UKI_NAT_Trends_2004_now.csv')"
   ]
  },
  {
   "cell_type": "code",
   "execution_count": 7,
   "metadata": {},
   "outputs": [],
   "source": [
    "# Drop duplicate Labour column\n",
    "trends2.drop(columns='Labour Party: (United Kingdom)',inplace=True)"
   ]
  },
  {
   "cell_type": "code",
   "execution_count": 8,
   "metadata": {},
   "outputs": [],
   "source": [
    "# Join two trends datasets on 'Month'\n",
    "trends_merged = pd.merge(trends1,trends2,how='left',on='Month')"
   ]
  },
  {
   "cell_type": "code",
   "execution_count": 9,
   "metadata": {},
   "outputs": [],
   "source": [
    "trends_merged['Month'] = pd.to_datetime(trends_merged['Month'])"
   ]
  },
  {
   "cell_type": "code",
   "execution_count": 10,
   "metadata": {},
   "outputs": [],
   "source": [
    "# Replace <1 values with 0.5 value\n",
    "trends_merged.replace('<1', 0.5,inplace=True)"
   ]
  },
  {
   "cell_type": "code",
   "execution_count": 11,
   "metadata": {},
   "outputs": [],
   "source": [
    "# Converting objects (pd.Series) to int dtypes\n",
    "trends_merged = trends_merged.astype({'Green Party: (United Kingdom)':'int','Reform UK: (United Kingdom)':'int',\\\n",
    "    'Plaid Cymru: (United Kingdom)':'int','Scottish National Party: (United Kingdom)':'int',\\\n",
    "        'UK Independence Party: (United Kingdom)':'int','British National Party: (United Kingdom)':'int'})"
   ]
  },
  {
   "cell_type": "code",
   "execution_count": 12,
   "metadata": {},
   "outputs": [],
   "source": [
    "# Rename columns to align them more easily with _FC and _ACT columns\n",
    "trends_merged.rename(columns={'Labour Party: (United Kingdom)': 'LAB_trends',\n",
    "        'Conservative Party: (United Kingdom)': 'CON_trends',\n",
    "        'Liberal Democrats: (United Kingdom)': 'LIB_trends',\n",
    "        'Green Party: (United Kingdom)': 'GRE_trends',\n",
    "        'Reform UK: (United Kingdom)': 'BRX_trends',\n",
    "        'Plaid Cymru: (United Kingdom)': 'PLC_trends',\n",
    "        'Scottish National Party: (United Kingdom)': 'SNP_trends',\n",
    "        'UK Independence Party: (United Kingdom)': 'UKI_trends',\n",
    "        'British National Party: (United Kingdom)': 'NAT_trends'}\n",
    "        ,inplace=True)"
   ]
  },
  {
   "cell_type": "code",
   "execution_count": 13,
   "metadata": {},
   "outputs": [],
   "source": [
    "# Loading ONS csv files\n",
    "ons_gdp = pd.read_csv('/Users/nieksonneveld/code/nieksonneveld/election-predictor/raw_data/ons_gdp_2004_2024.csv')\n",
    "ons_inf = pd.read_csv('/Users/nieksonneveld/code/nieksonneveld/election-predictor/raw_data/ons_inflation_2004_2024.csv')\n",
    "ons_emp = pd.read_csv('/Users/nieksonneveld/code/nieksonneveld/election-predictor/raw_data/ons_unemployment_2004_2024.csv')"
   ]
  },
  {
   "cell_type": "code",
   "execution_count": 14,
   "metadata": {},
   "outputs": [],
   "source": [
    "# Replacing spaces with - for GDP df\n",
    "ons_gdp.Quarter = ons_gdp.Quarter.str.replace(' ', '-')\n",
    "\n",
    "# Turning quarters into months for GDP df\n",
    "ons_gdp.Quarter = pd.PeriodIndex(ons_gdp.Quarter, freq='Q').to_timestamp()\n",
    "\n",
    "# Fill missing months and impute with quarterly values per month for GDP df\n",
    "ons_gdp = ons_gdp.set_index('Quarter').resample('MS').ffill()\n",
    "ons_gdp.index.names = ['Month']"
   ]
  },
  {
   "cell_type": "code",
   "execution_count": 15,
   "metadata": {},
   "outputs": [
    {
     "name": "stderr",
     "output_type": "stream",
     "text": [
      "/var/folders/kb/jn3km5pj6lnd7dfkgljcjy300000gn/T/ipykernel_6076/3454880804.py:2: UserWarning: Could not infer format, so each element will be parsed individually, falling back to `dateutil`. To ensure parsing is consistent and as-expected, please specify a format.\n",
      "  ons_inf.Month = pd.to_datetime(ons_inf.Month)\n",
      "/var/folders/kb/jn3km5pj6lnd7dfkgljcjy300000gn/T/ipykernel_6076/3454880804.py:5: UserWarning: Could not infer format, so each element will be parsed individually, falling back to `dateutil`. To ensure parsing is consistent and as-expected, please specify a format.\n",
      "  ons_emp.Month = pd.to_datetime(ons_emp.Month)\n"
     ]
    }
   ],
   "source": [
    "# Convert months into pd.DateTime and set as index\n",
    "ons_inf.Month = pd.to_datetime(ons_inf.Month)\n",
    "ons_inf = ons_inf.set_index('Month')\n",
    "\n",
    "ons_emp.Month = pd.to_datetime(ons_emp.Month)\n",
    "ons_emp = ons_emp.set_index('Month')"
   ]
  },
  {
   "cell_type": "code",
   "execution_count": 16,
   "metadata": {},
   "outputs": [],
   "source": [
    "# Merging GDP, Inflation and Unemployment dfs into ons_merged\n",
    "ons_merged = pd.merge(ons_gdp,pd.merge(ons_inf,ons_emp,how='left',on='Month'),how='outer',on='Month')\n",
    "\n",
    "# Filling NaNs with previous value of column\n",
    "ons_merged = ons_merged.ffill()"
   ]
  },
  {
   "cell_type": "code",
   "execution_count": 21,
   "metadata": {},
   "outputs": [
    {
     "data": {
      "text/html": [
       "<div>\n",
       "<style scoped>\n",
       "    .dataframe tbody tr th:only-of-type {\n",
       "        vertical-align: middle;\n",
       "    }\n",
       "\n",
       "    .dataframe tbody tr th {\n",
       "        vertical-align: top;\n",
       "    }\n",
       "\n",
       "    .dataframe thead th {\n",
       "        text-align: right;\n",
       "    }\n",
       "</style>\n",
       "<table border=\"1\" class=\"dataframe\">\n",
       "  <thead>\n",
       "    <tr style=\"text-align: right;\">\n",
       "      <th></th>\n",
       "      <th>GDP</th>\n",
       "      <th>Inflation</th>\n",
       "      <th>Unemployment</th>\n",
       "    </tr>\n",
       "    <tr>\n",
       "      <th>Month</th>\n",
       "      <th></th>\n",
       "      <th></th>\n",
       "      <th></th>\n",
       "    </tr>\n",
       "  </thead>\n",
       "  <tbody>\n",
       "    <tr>\n",
       "      <th>2004-01-01</th>\n",
       "      <td>322790.0</td>\n",
       "      <td>1.5</td>\n",
       "      <td>4.8</td>\n",
       "    </tr>\n",
       "    <tr>\n",
       "      <th>2004-02-01</th>\n",
       "      <td>322790.0</td>\n",
       "      <td>1.4</td>\n",
       "      <td>4.8</td>\n",
       "    </tr>\n",
       "    <tr>\n",
       "      <th>2004-03-01</th>\n",
       "      <td>322790.0</td>\n",
       "      <td>1.2</td>\n",
       "      <td>4.8</td>\n",
       "    </tr>\n",
       "    <tr>\n",
       "      <th>2004-04-01</th>\n",
       "      <td>329664.0</td>\n",
       "      <td>1.1</td>\n",
       "      <td>4.8</td>\n",
       "    </tr>\n",
       "    <tr>\n",
       "      <th>2004-05-01</th>\n",
       "      <td>329664.0</td>\n",
       "      <td>1.4</td>\n",
       "      <td>4.8</td>\n",
       "    </tr>\n",
       "  </tbody>\n",
       "</table>\n",
       "</div>"
      ],
      "text/plain": [
       "                 GDP  Inflation  Unemployment\n",
       "Month                                        \n",
       "2004-01-01  322790.0        1.5           4.8\n",
       "2004-02-01  322790.0        1.4           4.8\n",
       "2004-03-01  322790.0        1.2           4.8\n",
       "2004-04-01  329664.0        1.1           4.8\n",
       "2004-05-01  329664.0        1.4           4.8"
      ]
     },
     "execution_count": 21,
     "metadata": {},
     "output_type": "execute_result"
    }
   ],
   "source": [
    "ons_merged.head()"
   ]
  },
  {
   "cell_type": "code",
   "execution_count": 22,
   "metadata": {},
   "outputs": [],
   "source": [
    "# Create poll enddate field with YYYY-MM format, so we can join with Trends data\n",
    "data['enddate_year_month'] = pd.to_datetime(data['enddate']).dt.to_period('M')"
   ]
  },
  {
   "cell_type": "code",
   "execution_count": 23,
   "metadata": {},
   "outputs": [],
   "source": [
    "# Convert Period datatype to str and then to datetime64\n",
    "data.enddate_year_month = pd.to_datetime(data.enddate_year_month.astype('str'))"
   ]
  },
  {
   "cell_type": "code",
   "execution_count": 24,
   "metadata": {},
   "outputs": [],
   "source": [
    "# Merge data with trends data, to get a df with polls, election results and trends\n",
    "data_trends = pd.merge(data,trends_merged,how='left',left_on='enddate_year_month',right_on='Month')"
   ]
  },
  {
   "cell_type": "code",
   "execution_count": 25,
   "metadata": {},
   "outputs": [],
   "source": [
    "# Merge data with ONS data, to get a df with polls, election results, trends and ONS data\n",
    "data_trends_ons = pd.merge(data_trends,ons_merged,how='left',left_on='enddate_year_month',right_on='Month')"
   ]
  },
  {
   "cell_type": "code",
   "execution_count": 26,
   "metadata": {},
   "outputs": [],
   "source": [
    "# Scale trends columns by diving by 100\n",
    "for column in ['LAB_trends', 'CON_trends', 'LIB_trends',\n",
    "       'GRE_trends', 'BRX_trends', 'PLC_trends', 'SNP_trends', 'UKI_trends',\n",
    "       'NAT_trends']:\n",
    "    data_trends_ons[column] = data_trends_ons[column] / 100"
   ]
  },
  {
   "cell_type": "code",
   "execution_count": 27,
   "metadata": {},
   "outputs": [],
   "source": [
    "# Drop columns we don't need\n",
    "data_trends_ons = data_trends_ons.drop(columns=['startdate', 'enddate', 'pollster'])"
   ]
  },
  {
   "cell_type": "code",
   "execution_count": 32,
   "metadata": {},
   "outputs": [
    {
     "data": {
      "text/plain": [
       "Index(['index', 'samplesize', 'rating', 'next_elec_date', 'days_to_elec',\n",
       "       'BRX_FC', 'CON_FC', 'GRE_FC', 'LAB_FC', 'LIB_FC', 'NAT_FC', 'OTH_FC',\n",
       "       'PLC_FC', 'SNP_FC', 'UKI_FC', 'NAT_ACT', 'BRX_ACT', 'CON_ACT',\n",
       "       'GRE_ACT', 'LIB_ACT', 'LAB_ACT', 'PLC_ACT', 'SNP_ACT', 'UKI_ACT',\n",
       "       'OTH_PERCENTAGE', 'poll_length', 'enddate_year_month', 'Month',\n",
       "       'LAB_trends', 'CON_trends', 'LIB_trends', 'GRE_trends', 'BRX_trends',\n",
       "       'PLC_trends', 'SNP_trends', 'UKI_trends', 'NAT_trends', 'GDP',\n",
       "       'Inflation', 'Unemployment'],\n",
       "      dtype='object')"
      ]
     },
     "execution_count": 32,
     "metadata": {},
     "output_type": "execute_result"
    }
   ],
   "source": [
    "data_trends_ons.columns"
   ]
  },
  {
   "cell_type": "code",
   "execution_count": 28,
   "metadata": {},
   "outputs": [],
   "source": [
    "from datetime import datetime\n",
    "# Split data up to 2017 election (TRAIN) and all data related to 2019 election (TEST)\n",
    "data_trends_ons['next_elec_date'] = data_trends_ons['next_elec_date'].astype(\"datetime64[ns]\")\n",
    "data_train = data_trends_ons[data_trends_ons['next_elec_date'] < datetime.strptime('2019-12-12', '%Y-%m-%d')]\n",
    "data_test = data_trends_ons[data_trends_ons['next_elec_date'] == datetime.strptime('2019-12-12', '%Y-%m-%d')]"
   ]
  },
  {
   "cell_type": "code",
   "execution_count": 29,
   "metadata": {},
   "outputs": [],
   "source": [
    "# Handle numerical transformer\n",
    "num_columns_selector = ['samplesize', 'days_to_elec', 'poll_length','GDP','Inflation','Unemployment']\n",
    "num_transformer = MinMaxScaler()"
   ]
  },
  {
   "cell_type": "code",
   "execution_count": 30,
   "metadata": {},
   "outputs": [],
   "source": [
    "# Handle categorical transformer\n",
    "cat_columns_selector = ['rating']\n",
    "cat_transformer = make_pipeline(OrdinalEncoder(categories = [['F','D-','D','D+','C-','B','B+','A-']]),MinMaxScaler())"
   ]
  },
  {
   "cell_type": "code",
   "execution_count": 31,
   "metadata": {},
   "outputs": [],
   "source": [
    "# Build the preprocessing pipeline\n",
    "preproc_pipeline = make_column_transformer(\n",
    "    (num_transformer, num_columns_selector),\n",
    "    (cat_transformer, cat_columns_selector),\n",
    "    remainder='passthrough',\n",
    "    verbose_feature_names_out=False\n",
    ")"
   ]
  },
  {
   "cell_type": "code",
   "execution_count": 33,
   "metadata": {},
   "outputs": [],
   "source": [
    "# Fit transform preprocessing pipeline to data_train\n",
    "data_train_processed = preproc_pipeline.fit_transform(data_train)\n",
    "\n",
    "# Transform preprocessing pipeline to data_test\n",
    "data_test_processed = preproc_pipeline.transform(data_test)"
   ]
  },
  {
   "cell_type": "code",
   "execution_count": 34,
   "metadata": {},
   "outputs": [],
   "source": [
    "# Check feature names make sense for data_train\n",
    "data_train_processed = pd.DataFrame(\n",
    "    data_train_processed, columns=preproc_pipeline.get_feature_names_out()\n",
    ")\n",
    "\n",
    "# Check feature names make sense for data_test\n",
    "data_test_processed = pd.DataFrame(\n",
    "    data_test_processed, columns=preproc_pipeline.get_feature_names_out()\n",
    ")"
   ]
  },
  {
   "cell_type": "code",
   "execution_count": 35,
   "metadata": {},
   "outputs": [
    {
     "data": {
      "text/plain": [
       "Index(['samplesize', 'days_to_elec', 'poll_length', 'GDP', 'Inflation',\n",
       "       'Unemployment', 'rating', 'index', 'next_elec_date', 'BRX_FC', 'CON_FC',\n",
       "       'GRE_FC', 'LAB_FC', 'LIB_FC', 'NAT_FC', 'OTH_FC', 'PLC_FC', 'SNP_FC',\n",
       "       'UKI_FC', 'NAT_ACT', 'BRX_ACT', 'CON_ACT', 'GRE_ACT', 'LIB_ACT',\n",
       "       'LAB_ACT', 'PLC_ACT', 'SNP_ACT', 'UKI_ACT', 'OTH_PERCENTAGE',\n",
       "       'enddate_year_month', 'Month', 'LAB_trends', 'CON_trends', 'LIB_trends',\n",
       "       'GRE_trends', 'BRX_trends', 'PLC_trends', 'SNP_trends', 'UKI_trends',\n",
       "       'NAT_trends'],\n",
       "      dtype='object')"
      ]
     },
     "execution_count": 35,
     "metadata": {},
     "output_type": "execute_result"
    }
   ],
   "source": [
    "data_train_processed.columns"
   ]
  },
  {
   "cell_type": "code",
   "execution_count": 36,
   "metadata": {},
   "outputs": [],
   "source": [
    "# Define our X by dropping irrelevant and y columns\n",
    "\n",
    "X_train = data_train_processed.drop(columns=['index','next_elec_date','NAT_ACT', 'BRX_ACT', 'CON_ACT',\n",
    "       'GRE_ACT', 'LIB_ACT', 'LAB_ACT', 'PLC_ACT', 'SNP_ACT', 'UKI_ACT',\n",
    "       'OTH_PERCENTAGE','enddate_year_month','Month'])\n",
    "\n",
    "X_test = data_test_processed.drop(columns=['index','next_elec_date','NAT_ACT', 'BRX_ACT', 'CON_ACT',\n",
    "       'GRE_ACT', 'LIB_ACT', 'LAB_ACT', 'PLC_ACT', 'SNP_ACT', 'UKI_ACT',\n",
    "       'OTH_PERCENTAGE','enddate_year_month','Month'])"
   ]
  },
  {
   "cell_type": "code",
   "execution_count": 37,
   "metadata": {},
   "outputs": [],
   "source": [
    "# Build our target matrix, retaining each party share vote columns only\n",
    "y_train = data_train_processed[['LAB_ACT', 'CON_ACT', 'LIB_ACT', 'GRE_ACT', 'BRX_ACT',\n",
    "                    'NAT_ACT', 'SNP_ACT', 'UKI_ACT', 'PLC_ACT', 'OTH_PERCENTAGE']]\n",
    "\n",
    "# Build our target matrix, retaining each party share vote columns only\n",
    "y_test = data_test_processed[['LAB_ACT', 'CON_ACT', 'LIB_ACT', 'GRE_ACT', 'BRX_ACT',\n",
    "                    'NAT_ACT', 'SNP_ACT', 'UKI_ACT', 'PLC_ACT', 'OTH_PERCENTAGE']]"
   ]
  },
  {
   "cell_type": "code",
   "execution_count": 38,
   "metadata": {},
   "outputs": [],
   "source": [
    "#TODO – refactor the below into a function > model instantiation, fitting, scoring, etc.\n",
    "# Handle target extraction for test and train sets respectively\n",
    "#TODO Kwarg > defaults to either cross val or prediction\n",
    "y_train_LAB = y_train['LAB_ACT']\n",
    "y_train_CON = y_train['CON_ACT']\n",
    "y_train_LIB = y_train['LIB_ACT']\n",
    "y_train_GRE = y_train['GRE_ACT']\n",
    "y_train_BRX = y_train['BRX_ACT']\n",
    "y_train_NAT = y_train['NAT_ACT']\n",
    "y_train_SNP = y_train['SNP_ACT']\n",
    "y_train_UKI = y_train['UKI_ACT']\n",
    "y_train_PLC = y_train['PLC_ACT']\n",
    "y_train_OTH = y_train['OTH_PERCENTAGE']\n",
    "\n",
    "y_test_LAB = y_test['LAB_ACT']\n",
    "y_test_CON = y_test['CON_ACT']\n",
    "y_test_LIB = y_test['LIB_ACT']\n",
    "y_test_GRE = y_test['GRE_ACT']\n",
    "y_test_BRX = y_test['BRX_ACT']\n",
    "y_test_NAT = y_test['NAT_ACT']\n",
    "y_test_SNP = y_test['SNP_ACT']\n",
    "y_test_UKI = y_test['UKI_ACT']\n",
    "y_test_PLC = y_test['PLC_ACT']\n",
    "y_test_OTH = y_test['OTH_PERCENTAGE']"
   ]
  },
  {
   "cell_type": "code",
   "execution_count": 39,
   "metadata": {},
   "outputs": [],
   "source": [
    "# Instantiate the model for each party\n",
    "model_LAB = XGBRegressor(learning_rate=0.3, n_estimators=300,\n",
    "                                     max_depth=3, subsample=0.7,\n",
    "                                     objective='reg:squarederror', nthread=-1,\n",
    "                                     enable_categorical=True)\n",
    "model_CON = XGBRegressor(learning_rate=0.3, n_estimators=300,\n",
    "                                     max_depth=3, subsample=0.7,\n",
    "                                     objective='reg:squarederror', nthread=-1,\n",
    "                                     enable_categorical=True)\n",
    "model_LIB = XGBRegressor(learning_rate=0.3, n_estimators=300,\n",
    "                                     max_depth=3, subsample=0.7,\n",
    "                                     objective='reg:squarederror', nthread=-1,\n",
    "                                     enable_categorical=True)\n",
    "model_GRE = XGBRegressor(learning_rate=0.3, n_estimators=300,\n",
    "                                     max_depth=3, subsample=0.7,\n",
    "                                     objective='reg:squarederror', nthread=-1,\n",
    "                                     enable_categorical=True)\n",
    "model_BRX = XGBRegressor(learning_rate=0.3, n_estimators=300,\n",
    "                                     max_depth=3, subsample=0.7,\n",
    "                                     objective='reg:squarederror', nthread=-1,\n",
    "                                     enable_categorical=True)\n",
    "model_NAT = XGBRegressor(learning_rate=0.3, n_estimators=300,\n",
    "                                     max_depth=3, subsample=0.7,\n",
    "                                     objective='reg:squarederror', nthread=-1,\n",
    "                                     enable_categorical=True)\n",
    "model_SNP = XGBRegressor(learning_rate=0.3, n_estimators=300,\n",
    "                                     max_depth=3, subsample=0.7,\n",
    "                                     objective='reg:squarederror', nthread=-1,\n",
    "                                     enable_categorical=True)\n",
    "model_UKI = XGBRegressor(learning_rate=0.3, n_estimators=300,\n",
    "                                     max_depth=3, subsample=0.7,\n",
    "                                     objective='reg:squarederror', nthread=-1,\n",
    "                                     enable_categorical=True)\n",
    "model_PLC = XGBRegressor(learning_rate=0.3, n_estimators=300,\n",
    "                                     max_depth=3, subsample=0.7,\n",
    "                                     objective='reg:squarederror', nthread=-1,\n",
    "                                     enable_categorical=True)\n",
    "model_OTH = XGBRegressor(learning_rate=0.3, n_estimators=300,\n",
    "                                     max_depth=3, subsample=0.7,\n",
    "                                     objective='reg:squarederror', nthread=-1,\n",
    "                                     enable_categorical=True)"
   ]
  },
  {
   "cell_type": "code",
   "execution_count": 40,
   "metadata": {},
   "outputs": [
    {
     "data": {
      "text/html": [
       "<style>#sk-container-id-1 {\n",
       "  /* Definition of color scheme common for light and dark mode */\n",
       "  --sklearn-color-text: black;\n",
       "  --sklearn-color-line: gray;\n",
       "  /* Definition of color scheme for unfitted estimators */\n",
       "  --sklearn-color-unfitted-level-0: #fff5e6;\n",
       "  --sklearn-color-unfitted-level-1: #f6e4d2;\n",
       "  --sklearn-color-unfitted-level-2: #ffe0b3;\n",
       "  --sklearn-color-unfitted-level-3: chocolate;\n",
       "  /* Definition of color scheme for fitted estimators */\n",
       "  --sklearn-color-fitted-level-0: #f0f8ff;\n",
       "  --sklearn-color-fitted-level-1: #d4ebff;\n",
       "  --sklearn-color-fitted-level-2: #b3dbfd;\n",
       "  --sklearn-color-fitted-level-3: cornflowerblue;\n",
       "\n",
       "  /* Specific color for light theme */\n",
       "  --sklearn-color-text-on-default-background: var(--sg-text-color, var(--theme-code-foreground, var(--jp-content-font-color1, black)));\n",
       "  --sklearn-color-background: var(--sg-background-color, var(--theme-background, var(--jp-layout-color0, white)));\n",
       "  --sklearn-color-border-box: var(--sg-text-color, var(--theme-code-foreground, var(--jp-content-font-color1, black)));\n",
       "  --sklearn-color-icon: #696969;\n",
       "\n",
       "  @media (prefers-color-scheme: dark) {\n",
       "    /* Redefinition of color scheme for dark theme */\n",
       "    --sklearn-color-text-on-default-background: var(--sg-text-color, var(--theme-code-foreground, var(--jp-content-font-color1, white)));\n",
       "    --sklearn-color-background: var(--sg-background-color, var(--theme-background, var(--jp-layout-color0, #111)));\n",
       "    --sklearn-color-border-box: var(--sg-text-color, var(--theme-code-foreground, var(--jp-content-font-color1, white)));\n",
       "    --sklearn-color-icon: #878787;\n",
       "  }\n",
       "}\n",
       "\n",
       "#sk-container-id-1 {\n",
       "  color: var(--sklearn-color-text);\n",
       "}\n",
       "\n",
       "#sk-container-id-1 pre {\n",
       "  padding: 0;\n",
       "}\n",
       "\n",
       "#sk-container-id-1 input.sk-hidden--visually {\n",
       "  border: 0;\n",
       "  clip: rect(1px 1px 1px 1px);\n",
       "  clip: rect(1px, 1px, 1px, 1px);\n",
       "  height: 1px;\n",
       "  margin: -1px;\n",
       "  overflow: hidden;\n",
       "  padding: 0;\n",
       "  position: absolute;\n",
       "  width: 1px;\n",
       "}\n",
       "\n",
       "#sk-container-id-1 div.sk-dashed-wrapped {\n",
       "  border: 1px dashed var(--sklearn-color-line);\n",
       "  margin: 0 0.4em 0.5em 0.4em;\n",
       "  box-sizing: border-box;\n",
       "  padding-bottom: 0.4em;\n",
       "  background-color: var(--sklearn-color-background);\n",
       "}\n",
       "\n",
       "#sk-container-id-1 div.sk-container {\n",
       "  /* jupyter's `normalize.less` sets `[hidden] { display: none; }`\n",
       "     but bootstrap.min.css set `[hidden] { display: none !important; }`\n",
       "     so we also need the `!important` here to be able to override the\n",
       "     default hidden behavior on the sphinx rendered scikit-learn.org.\n",
       "     See: https://github.com/scikit-learn/scikit-learn/issues/21755 */\n",
       "  display: inline-block !important;\n",
       "  position: relative;\n",
       "}\n",
       "\n",
       "#sk-container-id-1 div.sk-text-repr-fallback {\n",
       "  display: none;\n",
       "}\n",
       "\n",
       "div.sk-parallel-item,\n",
       "div.sk-serial,\n",
       "div.sk-item {\n",
       "  /* draw centered vertical line to link estimators */\n",
       "  background-image: linear-gradient(var(--sklearn-color-text-on-default-background), var(--sklearn-color-text-on-default-background));\n",
       "  background-size: 2px 100%;\n",
       "  background-repeat: no-repeat;\n",
       "  background-position: center center;\n",
       "}\n",
       "\n",
       "/* Parallel-specific style estimator block */\n",
       "\n",
       "#sk-container-id-1 div.sk-parallel-item::after {\n",
       "  content: \"\";\n",
       "  width: 100%;\n",
       "  border-bottom: 2px solid var(--sklearn-color-text-on-default-background);\n",
       "  flex-grow: 1;\n",
       "}\n",
       "\n",
       "#sk-container-id-1 div.sk-parallel {\n",
       "  display: flex;\n",
       "  align-items: stretch;\n",
       "  justify-content: center;\n",
       "  background-color: var(--sklearn-color-background);\n",
       "  position: relative;\n",
       "}\n",
       "\n",
       "#sk-container-id-1 div.sk-parallel-item {\n",
       "  display: flex;\n",
       "  flex-direction: column;\n",
       "}\n",
       "\n",
       "#sk-container-id-1 div.sk-parallel-item:first-child::after {\n",
       "  align-self: flex-end;\n",
       "  width: 50%;\n",
       "}\n",
       "\n",
       "#sk-container-id-1 div.sk-parallel-item:last-child::after {\n",
       "  align-self: flex-start;\n",
       "  width: 50%;\n",
       "}\n",
       "\n",
       "#sk-container-id-1 div.sk-parallel-item:only-child::after {\n",
       "  width: 0;\n",
       "}\n",
       "\n",
       "/* Serial-specific style estimator block */\n",
       "\n",
       "#sk-container-id-1 div.sk-serial {\n",
       "  display: flex;\n",
       "  flex-direction: column;\n",
       "  align-items: center;\n",
       "  background-color: var(--sklearn-color-background);\n",
       "  padding-right: 1em;\n",
       "  padding-left: 1em;\n",
       "}\n",
       "\n",
       "\n",
       "/* Toggleable style: style used for estimator/Pipeline/ColumnTransformer box that is\n",
       "clickable and can be expanded/collapsed.\n",
       "- Pipeline and ColumnTransformer use this feature and define the default style\n",
       "- Estimators will overwrite some part of the style using the `sk-estimator` class\n",
       "*/\n",
       "\n",
       "/* Pipeline and ColumnTransformer style (default) */\n",
       "\n",
       "#sk-container-id-1 div.sk-toggleable {\n",
       "  /* Default theme specific background. It is overwritten whether we have a\n",
       "  specific estimator or a Pipeline/ColumnTransformer */\n",
       "  background-color: var(--sklearn-color-background);\n",
       "}\n",
       "\n",
       "/* Toggleable label */\n",
       "#sk-container-id-1 label.sk-toggleable__label {\n",
       "  cursor: pointer;\n",
       "  display: block;\n",
       "  width: 100%;\n",
       "  margin-bottom: 0;\n",
       "  padding: 0.5em;\n",
       "  box-sizing: border-box;\n",
       "  text-align: center;\n",
       "}\n",
       "\n",
       "#sk-container-id-1 label.sk-toggleable__label-arrow:before {\n",
       "  /* Arrow on the left of the label */\n",
       "  content: \"▸\";\n",
       "  float: left;\n",
       "  margin-right: 0.25em;\n",
       "  color: var(--sklearn-color-icon);\n",
       "}\n",
       "\n",
       "#sk-container-id-1 label.sk-toggleable__label-arrow:hover:before {\n",
       "  color: var(--sklearn-color-text);\n",
       "}\n",
       "\n",
       "/* Toggleable content - dropdown */\n",
       "\n",
       "#sk-container-id-1 div.sk-toggleable__content {\n",
       "  max-height: 0;\n",
       "  max-width: 0;\n",
       "  overflow: hidden;\n",
       "  text-align: left;\n",
       "  /* unfitted */\n",
       "  background-color: var(--sklearn-color-unfitted-level-0);\n",
       "}\n",
       "\n",
       "#sk-container-id-1 div.sk-toggleable__content.fitted {\n",
       "  /* fitted */\n",
       "  background-color: var(--sklearn-color-fitted-level-0);\n",
       "}\n",
       "\n",
       "#sk-container-id-1 div.sk-toggleable__content pre {\n",
       "  margin: 0.2em;\n",
       "  border-radius: 0.25em;\n",
       "  color: var(--sklearn-color-text);\n",
       "  /* unfitted */\n",
       "  background-color: var(--sklearn-color-unfitted-level-0);\n",
       "}\n",
       "\n",
       "#sk-container-id-1 div.sk-toggleable__content.fitted pre {\n",
       "  /* unfitted */\n",
       "  background-color: var(--sklearn-color-fitted-level-0);\n",
       "}\n",
       "\n",
       "#sk-container-id-1 input.sk-toggleable__control:checked~div.sk-toggleable__content {\n",
       "  /* Expand drop-down */\n",
       "  max-height: 200px;\n",
       "  max-width: 100%;\n",
       "  overflow: auto;\n",
       "}\n",
       "\n",
       "#sk-container-id-1 input.sk-toggleable__control:checked~label.sk-toggleable__label-arrow:before {\n",
       "  content: \"▾\";\n",
       "}\n",
       "\n",
       "/* Pipeline/ColumnTransformer-specific style */\n",
       "\n",
       "#sk-container-id-1 div.sk-label input.sk-toggleable__control:checked~label.sk-toggleable__label {\n",
       "  color: var(--sklearn-color-text);\n",
       "  background-color: var(--sklearn-color-unfitted-level-2);\n",
       "}\n",
       "\n",
       "#sk-container-id-1 div.sk-label.fitted input.sk-toggleable__control:checked~label.sk-toggleable__label {\n",
       "  background-color: var(--sklearn-color-fitted-level-2);\n",
       "}\n",
       "\n",
       "/* Estimator-specific style */\n",
       "\n",
       "/* Colorize estimator box */\n",
       "#sk-container-id-1 div.sk-estimator input.sk-toggleable__control:checked~label.sk-toggleable__label {\n",
       "  /* unfitted */\n",
       "  background-color: var(--sklearn-color-unfitted-level-2);\n",
       "}\n",
       "\n",
       "#sk-container-id-1 div.sk-estimator.fitted input.sk-toggleable__control:checked~label.sk-toggleable__label {\n",
       "  /* fitted */\n",
       "  background-color: var(--sklearn-color-fitted-level-2);\n",
       "}\n",
       "\n",
       "#sk-container-id-1 div.sk-label label.sk-toggleable__label,\n",
       "#sk-container-id-1 div.sk-label label {\n",
       "  /* The background is the default theme color */\n",
       "  color: var(--sklearn-color-text-on-default-background);\n",
       "}\n",
       "\n",
       "/* On hover, darken the color of the background */\n",
       "#sk-container-id-1 div.sk-label:hover label.sk-toggleable__label {\n",
       "  color: var(--sklearn-color-text);\n",
       "  background-color: var(--sklearn-color-unfitted-level-2);\n",
       "}\n",
       "\n",
       "/* Label box, darken color on hover, fitted */\n",
       "#sk-container-id-1 div.sk-label.fitted:hover label.sk-toggleable__label.fitted {\n",
       "  color: var(--sklearn-color-text);\n",
       "  background-color: var(--sklearn-color-fitted-level-2);\n",
       "}\n",
       "\n",
       "/* Estimator label */\n",
       "\n",
       "#sk-container-id-1 div.sk-label label {\n",
       "  font-family: monospace;\n",
       "  font-weight: bold;\n",
       "  display: inline-block;\n",
       "  line-height: 1.2em;\n",
       "}\n",
       "\n",
       "#sk-container-id-1 div.sk-label-container {\n",
       "  text-align: center;\n",
       "}\n",
       "\n",
       "/* Estimator-specific */\n",
       "#sk-container-id-1 div.sk-estimator {\n",
       "  font-family: monospace;\n",
       "  border: 1px dotted var(--sklearn-color-border-box);\n",
       "  border-radius: 0.25em;\n",
       "  box-sizing: border-box;\n",
       "  margin-bottom: 0.5em;\n",
       "  /* unfitted */\n",
       "  background-color: var(--sklearn-color-unfitted-level-0);\n",
       "}\n",
       "\n",
       "#sk-container-id-1 div.sk-estimator.fitted {\n",
       "  /* fitted */\n",
       "  background-color: var(--sklearn-color-fitted-level-0);\n",
       "}\n",
       "\n",
       "/* on hover */\n",
       "#sk-container-id-1 div.sk-estimator:hover {\n",
       "  /* unfitted */\n",
       "  background-color: var(--sklearn-color-unfitted-level-2);\n",
       "}\n",
       "\n",
       "#sk-container-id-1 div.sk-estimator.fitted:hover {\n",
       "  /* fitted */\n",
       "  background-color: var(--sklearn-color-fitted-level-2);\n",
       "}\n",
       "\n",
       "/* Specification for estimator info (e.g. \"i\" and \"?\") */\n",
       "\n",
       "/* Common style for \"i\" and \"?\" */\n",
       "\n",
       ".sk-estimator-doc-link,\n",
       "a:link.sk-estimator-doc-link,\n",
       "a:visited.sk-estimator-doc-link {\n",
       "  float: right;\n",
       "  font-size: smaller;\n",
       "  line-height: 1em;\n",
       "  font-family: monospace;\n",
       "  background-color: var(--sklearn-color-background);\n",
       "  border-radius: 1em;\n",
       "  height: 1em;\n",
       "  width: 1em;\n",
       "  text-decoration: none !important;\n",
       "  margin-left: 1ex;\n",
       "  /* unfitted */\n",
       "  border: var(--sklearn-color-unfitted-level-1) 1pt solid;\n",
       "  color: var(--sklearn-color-unfitted-level-1);\n",
       "}\n",
       "\n",
       ".sk-estimator-doc-link.fitted,\n",
       "a:link.sk-estimator-doc-link.fitted,\n",
       "a:visited.sk-estimator-doc-link.fitted {\n",
       "  /* fitted */\n",
       "  border: var(--sklearn-color-fitted-level-1) 1pt solid;\n",
       "  color: var(--sklearn-color-fitted-level-1);\n",
       "}\n",
       "\n",
       "/* On hover */\n",
       "div.sk-estimator:hover .sk-estimator-doc-link:hover,\n",
       ".sk-estimator-doc-link:hover,\n",
       "div.sk-label-container:hover .sk-estimator-doc-link:hover,\n",
       ".sk-estimator-doc-link:hover {\n",
       "  /* unfitted */\n",
       "  background-color: var(--sklearn-color-unfitted-level-3);\n",
       "  color: var(--sklearn-color-background);\n",
       "  text-decoration: none;\n",
       "}\n",
       "\n",
       "div.sk-estimator.fitted:hover .sk-estimator-doc-link.fitted:hover,\n",
       ".sk-estimator-doc-link.fitted:hover,\n",
       "div.sk-label-container:hover .sk-estimator-doc-link.fitted:hover,\n",
       ".sk-estimator-doc-link.fitted:hover {\n",
       "  /* fitted */\n",
       "  background-color: var(--sklearn-color-fitted-level-3);\n",
       "  color: var(--sklearn-color-background);\n",
       "  text-decoration: none;\n",
       "}\n",
       "\n",
       "/* Span, style for the box shown on hovering the info icon */\n",
       ".sk-estimator-doc-link span {\n",
       "  display: none;\n",
       "  z-index: 9999;\n",
       "  position: relative;\n",
       "  font-weight: normal;\n",
       "  right: .2ex;\n",
       "  padding: .5ex;\n",
       "  margin: .5ex;\n",
       "  width: min-content;\n",
       "  min-width: 20ex;\n",
       "  max-width: 50ex;\n",
       "  color: var(--sklearn-color-text);\n",
       "  box-shadow: 2pt 2pt 4pt #999;\n",
       "  /* unfitted */\n",
       "  background: var(--sklearn-color-unfitted-level-0);\n",
       "  border: .5pt solid var(--sklearn-color-unfitted-level-3);\n",
       "}\n",
       "\n",
       ".sk-estimator-doc-link.fitted span {\n",
       "  /* fitted */\n",
       "  background: var(--sklearn-color-fitted-level-0);\n",
       "  border: var(--sklearn-color-fitted-level-3);\n",
       "}\n",
       "\n",
       ".sk-estimator-doc-link:hover span {\n",
       "  display: block;\n",
       "}\n",
       "\n",
       "/* \"?\"-specific style due to the `<a>` HTML tag */\n",
       "\n",
       "#sk-container-id-1 a.estimator_doc_link {\n",
       "  float: right;\n",
       "  font-size: 1rem;\n",
       "  line-height: 1em;\n",
       "  font-family: monospace;\n",
       "  background-color: var(--sklearn-color-background);\n",
       "  border-radius: 1rem;\n",
       "  height: 1rem;\n",
       "  width: 1rem;\n",
       "  text-decoration: none;\n",
       "  /* unfitted */\n",
       "  color: var(--sklearn-color-unfitted-level-1);\n",
       "  border: var(--sklearn-color-unfitted-level-1) 1pt solid;\n",
       "}\n",
       "\n",
       "#sk-container-id-1 a.estimator_doc_link.fitted {\n",
       "  /* fitted */\n",
       "  border: var(--sklearn-color-fitted-level-1) 1pt solid;\n",
       "  color: var(--sklearn-color-fitted-level-1);\n",
       "}\n",
       "\n",
       "/* On hover */\n",
       "#sk-container-id-1 a.estimator_doc_link:hover {\n",
       "  /* unfitted */\n",
       "  background-color: var(--sklearn-color-unfitted-level-3);\n",
       "  color: var(--sklearn-color-background);\n",
       "  text-decoration: none;\n",
       "}\n",
       "\n",
       "#sk-container-id-1 a.estimator_doc_link.fitted:hover {\n",
       "  /* fitted */\n",
       "  background-color: var(--sklearn-color-fitted-level-3);\n",
       "}\n",
       "</style><div id=\"sk-container-id-1\" class=\"sk-top-container\"><div class=\"sk-text-repr-fallback\"><pre>XGBRegressor(base_score=None, booster=None, callbacks=None,\n",
       "             colsample_bylevel=None, colsample_bynode=None,\n",
       "             colsample_bytree=None, device=None, early_stopping_rounds=None,\n",
       "             enable_categorical=True, eval_metric=None, feature_types=None,\n",
       "             gamma=None, grow_policy=None, importance_type=None,\n",
       "             interaction_constraints=None, learning_rate=0.3, max_bin=None,\n",
       "             max_cat_threshold=None, max_cat_to_onehot=None,\n",
       "             max_delta_step=None, max_depth=3, max_leaves=None,\n",
       "             min_child_weight=None, missing=nan, monotone_constraints=None,\n",
       "             multi_strategy=None, n_estimators=300, n_jobs=None, nthread=-1,\n",
       "             num_parallel_tree=None, ...)</pre><b>In a Jupyter environment, please rerun this cell to show the HTML representation or trust the notebook. <br />On GitHub, the HTML representation is unable to render, please try loading this page with nbviewer.org.</b></div><div class=\"sk-container\" hidden><div class=\"sk-item\"><div class=\"sk-estimator fitted sk-toggleable\"><input class=\"sk-toggleable__control sk-hidden--visually\" id=\"sk-estimator-id-1\" type=\"checkbox\" checked><label for=\"sk-estimator-id-1\" class=\"sk-toggleable__label fitted sk-toggleable__label-arrow fitted\">&nbsp;XGBRegressor<span class=\"sk-estimator-doc-link fitted\">i<span>Fitted</span></span></label><div class=\"sk-toggleable__content fitted\"><pre>XGBRegressor(base_score=None, booster=None, callbacks=None,\n",
       "             colsample_bylevel=None, colsample_bynode=None,\n",
       "             colsample_bytree=None, device=None, early_stopping_rounds=None,\n",
       "             enable_categorical=True, eval_metric=None, feature_types=None,\n",
       "             gamma=None, grow_policy=None, importance_type=None,\n",
       "             interaction_constraints=None, learning_rate=0.3, max_bin=None,\n",
       "             max_cat_threshold=None, max_cat_to_onehot=None,\n",
       "             max_delta_step=None, max_depth=3, max_leaves=None,\n",
       "             min_child_weight=None, missing=nan, monotone_constraints=None,\n",
       "             multi_strategy=None, n_estimators=300, n_jobs=None, nthread=-1,\n",
       "             num_parallel_tree=None, ...)</pre></div> </div></div></div></div>"
      ],
      "text/plain": [
       "XGBRegressor(base_score=None, booster=None, callbacks=None,\n",
       "             colsample_bylevel=None, colsample_bynode=None,\n",
       "             colsample_bytree=None, device=None, early_stopping_rounds=None,\n",
       "             enable_categorical=True, eval_metric=None, feature_types=None,\n",
       "             gamma=None, grow_policy=None, importance_type=None,\n",
       "             interaction_constraints=None, learning_rate=0.3, max_bin=None,\n",
       "             max_cat_threshold=None, max_cat_to_onehot=None,\n",
       "             max_delta_step=None, max_depth=3, max_leaves=None,\n",
       "             min_child_weight=None, missing=nan, monotone_constraints=None,\n",
       "             multi_strategy=None, n_estimators=300, n_jobs=None, nthread=-1,\n",
       "             num_parallel_tree=None, ...)"
      ]
     },
     "execution_count": 40,
     "metadata": {},
     "output_type": "execute_result"
    }
   ],
   "source": [
    "# Handle model training\n",
    "X_train_matrix = np.array(X_train)\n",
    "\n",
    "model_LAB.fit(X_train_matrix, y_train_LAB)\n",
    "model_CON.fit(X_train_matrix, y_train_CON)\n",
    "model_LIB.fit(X_train_matrix, y_train_LIB)\n",
    "model_GRE.fit(X_train_matrix, y_train_GRE)\n",
    "model_BRX.fit(X_train_matrix, y_train_BRX)\n",
    "model_NAT.fit(X_train_matrix, y_train_NAT)\n",
    "model_SNP.fit(X_train_matrix, y_train_SNP)\n",
    "model_UKI.fit(X_train_matrix, y_train_UKI)\n",
    "model_PLC.fit(X_train_matrix, y_train_PLC)\n",
    "model_OTH.fit(X_train_matrix, y_train_OTH)"
   ]
  },
  {
   "cell_type": "code",
   "execution_count": 41,
   "metadata": {},
   "outputs": [],
   "source": [
    "# Evaluate model performance with cross validation\n",
    "X_test_matrix = np.array(X_test)\n",
    "\n",
    "y_pred_LAB = model_LAB.predict(X_test_matrix)\n",
    "y_pred_CON = model_CON.predict(X_test_matrix)\n",
    "y_pred_LIB = model_LIB.predict(X_test_matrix)\n",
    "y_pred_GRE = model_GRE.predict(X_test_matrix)\n",
    "y_pred_BRX = model_BRX.predict(X_test_matrix)\n",
    "y_pred_NAT = model_NAT.predict(X_test_matrix)\n",
    "y_pred_SNP = model_SNP.predict(X_test_matrix)\n",
    "y_pred_UKI = model_UKI.predict(X_test_matrix)\n",
    "y_pred_PLC = model_PLC.predict(X_test_matrix)\n",
    "y_pred_OTH = model_OTH.predict(X_test_matrix)"
   ]
  },
  {
   "cell_type": "code",
   "execution_count": 42,
   "metadata": {},
   "outputs": [
    {
     "name": "stdout",
     "output_type": "stream",
     "text": [
      "2019 prediction for LAB: 0.403704971075058\n",
      "2019 prediction for CON: 0.4251406192779541\n",
      "2019 prediction for LIB: 0.0735817551612854\n",
      "2019 prediction for GRE: 0.015289939939975739\n",
      "2019 prediction for BRX: 0.0\n",
      "2019 prediction for NAT: 0.00013536341430153698\n",
      "2019 prediction for SNP: 0.029834257438778877\n",
      "2019 prediction for UKI: 0.015986083075404167\n",
      "2019 prediction for PLC: 0.005168056581169367\n",
      "2019 prediction for OTH: 0.03303728252649307\n"
     ]
    }
   ],
   "source": [
    "print(f\"2019 prediction for LAB: {y_pred_LAB.mean()}\")\n",
    "print(f\"2019 prediction for CON: {y_pred_CON.mean()}\")\n",
    "print(f\"2019 prediction for LIB: {y_pred_LIB.mean()}\")\n",
    "print(f\"2019 prediction for GRE: {y_pred_GRE.mean()}\")\n",
    "print(f\"2019 prediction for BRX: {y_pred_BRX.mean()}\")\n",
    "print(f\"2019 prediction for NAT: {y_pred_NAT.mean()}\")\n",
    "print(f\"2019 prediction for SNP: {y_pred_SNP.mean()}\")\n",
    "print(f\"2019 prediction for UKI: {y_pred_UKI.mean()}\")\n",
    "print(f\"2019 prediction for PLC: {y_pred_PLC.mean()}\")\n",
    "print(f\"2019 prediction for OTH: {y_pred_OTH.mean()}\")"
   ]
  },
  {
   "cell_type": "code",
   "execution_count": 43,
   "metadata": {},
   "outputs": [
    {
     "name": "stdout",
     "output_type": "stream",
     "text": [
      "2019 prediction for LAB: 0.40694716572761536\n",
      "2019 prediction for CON: 0.42701029777526855\n",
      "2019 prediction for LIB: 0.07440411299467087\n",
      "2019 prediction for GRE: 0.015539799816906452\n",
      "2019 prediction for BRX: 0.0\n",
      "2019 prediction for NAT: 0.00018707440176513046\n",
      "2019 prediction for SNP: 0.029766013845801353\n",
      "2019 prediction for UKI: 0.01657942496240139\n",
      "2019 prediction for PLC: 0.005174857098609209\n",
      "2019 prediction for OTH: 0.03304747864603996\n"
     ]
    }
   ],
   "source": [
    "print(f\"2019 prediction for LAB: {y_pred_LAB[-25:-1].mean()}\")\n",
    "print(f\"2019 prediction for CON: {y_pred_CON[-25:-1].mean()}\")\n",
    "print(f\"2019 prediction for LIB: {y_pred_LIB[-25:-1].mean()}\")\n",
    "print(f\"2019 prediction for GRE: {y_pred_GRE[-25:-1].mean()}\")\n",
    "print(f\"2019 prediction for BRX: {y_pred_BRX[-25:-1].mean()}\")\n",
    "print(f\"2019 prediction for NAT: {y_pred_NAT[-25:-1].mean()}\")\n",
    "print(f\"2019 prediction for SNP: {y_pred_SNP[-25:-1].mean()}\")\n",
    "print(f\"2019 prediction for UKI: {y_pred_UKI[-25:-1].mean()}\")\n",
    "print(f\"2019 prediction for PLC: {y_pred_PLC[-25:-1].mean()}\")\n",
    "print(f\"2019 prediction for OTH: {y_pred_OTH[-25:-1].mean()}\")"
   ]
  },
  {
   "cell_type": "code",
   "execution_count": 46,
   "metadata": {},
   "outputs": [
    {
     "data": {
      "text/plain": [
       "<matplotlib.collections.PathCollection at 0x1699a0940>"
      ]
     },
     "execution_count": 46,
     "metadata": {},
     "output_type": "execute_result"
    },
    {
     "data": {
      "image/png": "[encoded data removed]",
      "text/plain": [
       "<Figure size 640x480 with 1 Axes>"
      ]
     },
     "metadata": {},
     "output_type": "display_data"
    }
   ],
   "source": [
    "plt.scatter(y=y_pred_LAB,x=data_test['days_to_elec'])\n",
    "plt.scatter(y=y_test_LAB,x=data_test['days_to_elec'])\n",
    "plt.scatter(y=data_test['LAB_FC'],x=data_test['days_to_elec'])"
   ]
  },
  {
   "cell_type": "code",
   "execution_count": 47,
   "metadata": {},
   "outputs": [
    {
     "data": {
      "text/plain": [
       "<matplotlib.collections.PathCollection at 0x169a09420>"
      ]
     },
     "execution_count": 47,
     "metadata": {},
     "output_type": "execute_result"
    },
    {
     "data": {
      "image/png": "[encoded data removed]",
      "text/plain": [
       "<Figure size 640x480 with 1 Axes>"
      ]
     },
     "metadata": {},
     "output_type": "display_data"
    }
   ],
   "source": [
    "plt.scatter(y=y_train_LAB,x=data_train['days_to_elec'])\n",
    "plt.scatter(y=data_train['LAB_FC'],x=data_train['days_to_elec'])"
   ]
  },
  {
   "cell_type": "code",
   "execution_count": null,
   "metadata": {},
   "outputs": [],
   "source": []
  }
 ],
 "metadata": {
  "kernelspec": {
   "display_name": "election_predictor",
   "language": "python",
   "name": "python3"
  },
  "language_info": {
   "codemirror_mode": {
    "name": "ipython",
    "version": 3
   },
   "file_extension": ".py",
   "mimetype": "text/x-python",
   "name": "python",
   "nbconvert_exporter": "python",
   "pygments_lexer": "ipython3",
   "version": "3.10.6"
  }
 },
 "nbformat": 4,
 "nbformat_minor": 2
}
