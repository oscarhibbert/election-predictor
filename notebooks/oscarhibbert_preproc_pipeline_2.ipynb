{
 "cells": [
  {
   "cell_type": "code",
   "execution_count": 29,
   "metadata": {},
   "outputs": [],
   "source": [
    "# Imports using Sklearn make shortcut functions\n",
    "from sklearn.pipeline import make_pipeline\n",
    "from sklearn.pipeline import make_union\n",
    "from sklearn.compose import make_column_transformer\n",
    "from sklearn.compose import make_column_selector\n",
    "from sklearn.preprocessing import MinMaxScaler, OneHotEncoder, OrdinalEncoder\n",
    "import pandas as pd\n",
    "import numpy as np\n",
    "\n",
    "# Imports\n",
    "import os\n",
    "from google.cloud import bigquery"
   ]
  },
  {
   "cell_type": "code",
   "execution_count": 52,
   "metadata": {},
   "outputs": [],
   "source": [
    "# Environment variables\n",
    "gcp_project_id = os.environ['GCP_PROJECT']\n",
    "gcp_service_account_key = os.environ['GCP_SERVICE_ACCOUNT_KEY']\n",
    "bq_source_dataset = os.environ['BQ_SOURCE_DATASET']\n",
    "bq_cleaned_dataset = os.environ['BQ_CLEANED_DATASET']"
   ]
  },
  {
   "cell_type": "code",
   "execution_count": 69,
   "metadata": {},
   "outputs": [],
   "source": [
    "# Import data from BQ and set data to X\n",
    "# Initialize a BigQuery client using the service account JSON file\n",
    "bq_client = bigquery.Client(project=gcp_project_id).from_service_account_json(gcp_service_account_key)\n",
    "\n",
    "# Setting the table we want from the source dataset\n",
    "select_table = 'cleaned_full_polls_combined_national_results_2004_2019'\n",
    "\n",
    "# SQL query for querying Big Query and fetching entire table\n",
    "query = f\"\"\"\n",
    "    SELECT *\n",
    "    FROM `{gcp_project_id}.{bq_cleaned_dataset}.{select_table}`\n",
    "\"\"\""
   ]
  },
  {
   "cell_type": "code",
   "execution_count": 79,
   "metadata": {},
   "outputs": [],
   "source": [
    "# Use BQ client to create DF from the selected table\n",
    "data = bq_client.query(query).to_dataframe()"
   ]
  },
  {
   "cell_type": "code",
   "execution_count": 47,
   "metadata": {},
   "outputs": [],
   "source": [
    "# # Logic for dealing with specific NaN values in specified columns\n",
    "\n",
    "# # Select column names including _FC and _ACT for NaN searching\n",
    "# nan_search_columns = list(data.filter(regex='_FC|_ACT', axis=1).columns)\n",
    "\n",
    "# if data.isna().any().any():\n",
    "#     # Replace NaN with 0 values for _FC and _ACT columns\n",
    "#     data.loc[:, nan_search_columns] = data[nan_search_columns].fillna(0)\n",
    "\n",
    "# if data.isna().any().any():\n",
    "#     raise(ValueError('NaN values outside of _FC and _ACT olumns still present in the dataset'))"
   ]
  },
  {
   "cell_type": "code",
   "execution_count": 80,
   "metadata": {},
   "outputs": [],
   "source": [
    "# Replace any found NaN values with 0\n",
    "data.replace(np.nan, 0, inplace=True)"
   ]
  },
  {
   "cell_type": "code",
   "execution_count": 81,
   "metadata": {},
   "outputs": [],
   "source": [
    "# Add a field 'poll length' that shows number of days the poll was held for\n",
    "data['poll_length'] = pd.to_datetime(data.enddate) - pd.to_datetime(data.startdate)\n",
    "data['poll_length'] = data['poll_length'].dt.days"
   ]
  },
  {
   "cell_type": "code",
   "execution_count": 82,
   "metadata": {},
   "outputs": [],
   "source": [
    "# Divide forecasts by 100 to create values between 0-1\n",
    "for column in ['BRX_FC', 'CON_FC', 'GRE_FC', 'LAB_FC', 'LIB_FC', 'NAT_FC', 'OTH_FC', 'PLC_FC', 'SNP_FC', 'UKI_FC']:\n",
    "    data[column] = data[column] / 100"
   ]
  },
  {
   "cell_type": "code",
   "execution_count": 83,
   "metadata": {},
   "outputs": [],
   "source": [
    "# Divide actuals by 100 to create values between 0-1\n",
    "for column in ['BRX_ACT', 'CON_ACT', 'GRE_ACT', 'LIB_ACT', 'LAB_ACT', 'PLC_ACT', 'SNP_ACT', 'UKI_ACT', 'OTH_PERCENTAGE']:\n",
    "    data[column] = data[column] / 100"
   ]
  },
  {
   "cell_type": "code",
   "execution_count": 99,
   "metadata": {},
   "outputs": [],
   "source": [
    "# Drop columns we don't need\n",
    "data = data.drop(columns=['startdate', 'enddate', 'pollster'])"
   ]
  },
  {
   "cell_type": "code",
   "execution_count": 100,
   "metadata": {},
   "outputs": [],
   "source": [
    "#TODO Build num transformer – refactor transformer\n",
    "num_col = ['samplesize', 'days_to_elec', 'poll_length']\n",
    "num_transformer = make_pipeline(MinMaxScaler())"
   ]
  },
  {
   "cell_type": "code",
   "execution_count": 101,
   "metadata": {},
   "outputs": [
    {
     "data": {
      "text/plain": [
       "rating\n",
       "A-    2130\n",
       "D+     613\n",
       "B+     281\n",
       "D       65\n",
       "F       56\n",
       "D-      52\n",
       "B       49\n",
       "C-      14\n",
       "Name: count, dtype: int64"
      ]
     },
     "execution_count": 101,
     "metadata": {},
     "output_type": "execute_result"
    }
   ],
   "source": [
    "data.rating.value_counts()"
   ]
  },
  {
   "cell_type": "code",
   "execution_count": 102,
   "metadata": {},
   "outputs": [],
   "source": [
    "#TODO Build cat transformer (encoding and imputing etc) – refactor transformer\n",
    "\n",
    "cat_col = ['rating']\n",
    "cat_transformer = make_pipeline(OrdinalEncoder(categories = [['F','D-','D','D+','C-','B','B+','A-']]))"
   ]
  },
  {
   "cell_type": "code",
   "execution_count": 103,
   "metadata": {},
   "outputs": [],
   "source": [
    "#TODO Check column transformer\n",
    "preproc_mvp = make_column_transformer(\n",
    "    (num_transformer, num_col),\n",
    "    (cat_transformer, cat_col),\n",
    "    remainder='passthrough',\n",
    "    verbose_feature_names_out=False\n",
    ")"
   ]
  },
  {
   "cell_type": "code",
   "execution_count": 104,
   "metadata": {},
   "outputs": [],
   "source": [
    "# Fit preproc_mvp to data\n",
    "data_processed = preproc_mvp.fit_transform(data)\n",
    "\n",
    "# Check feature names make sense\n",
    "data_processed = pd.DataFrame(data_processed, columns=preproc_mvp.get_feature_names_out())"
   ]
  },
  {
   "cell_type": "code",
   "execution_count": 83,
   "metadata": {},
   "outputs": [
    {
     "data": {
      "text/html": [
       "<div>\n",
       "<style scoped>\n",
       "    .dataframe tbody tr th:only-of-type {\n",
       "        vertical-align: middle;\n",
       "    }\n",
       "\n",
       "    .dataframe tbody tr th {\n",
       "        vertical-align: top;\n",
       "    }\n",
       "\n",
       "    .dataframe thead th {\n",
       "        text-align: right;\n",
       "    }\n",
       "</style>\n",
       "<table border=\"1\" class=\"dataframe\">\n",
       "  <thead>\n",
       "    <tr style=\"text-align: right;\">\n",
       "      <th></th>\n",
       "      <th>samplesize</th>\n",
       "      <th>rating</th>\n",
       "      <th>next_elec_date</th>\n",
       "      <th>days_to_elec</th>\n",
       "      <th>BRX_FC</th>\n",
       "      <th>CON_FC</th>\n",
       "      <th>GRE_FC</th>\n",
       "      <th>LAB_FC</th>\n",
       "      <th>LIB_FC</th>\n",
       "      <th>NAT_FC</th>\n",
       "      <th>...</th>\n",
       "      <th>BRX_ACT</th>\n",
       "      <th>CON_ACT</th>\n",
       "      <th>GRE_ACT</th>\n",
       "      <th>LIB_ACT</th>\n",
       "      <th>LAB_ACT</th>\n",
       "      <th>PLC_ACT</th>\n",
       "      <th>SNP_ACT</th>\n",
       "      <th>UKI_ACT</th>\n",
       "      <th>OTH_PERCENTAGE</th>\n",
       "      <th>poll_length</th>\n",
       "    </tr>\n",
       "  </thead>\n",
       "  <tbody>\n",
       "    <tr>\n",
       "      <th>0</th>\n",
       "      <td>0.000343</td>\n",
       "      <td>0.268132</td>\n",
       "      <td>0.91067</td>\n",
       "      <td>3.0</td>\n",
       "      <td>2005-05-05</td>\n",
       "      <td>0.0</td>\n",
       "      <td>0.35</td>\n",
       "      <td>0.0</td>\n",
       "      <td>0.4</td>\n",
       "      <td>0.18</td>\n",
       "      <td>...</td>\n",
       "      <td>0.0</td>\n",
       "      <td>0.0</td>\n",
       "      <td>0.323596</td>\n",
       "      <td>0.009491</td>\n",
       "      <td>0.220256</td>\n",
       "      <td>0.351872</td>\n",
       "      <td>0.00644</td>\n",
       "      <td>0.015186</td>\n",
       "      <td>0.022322</td>\n",
       "      <td>0.050838</td>\n",
       "    </tr>\n",
       "    <tr>\n",
       "      <th>1</th>\n",
       "      <td>0.004539</td>\n",
       "      <td>0.26044</td>\n",
       "      <td>0.91067</td>\n",
       "      <td>3.0</td>\n",
       "      <td>2005-05-05</td>\n",
       "      <td>0.0</td>\n",
       "      <td>0.34</td>\n",
       "      <td>0.0</td>\n",
       "      <td>0.39</td>\n",
       "      <td>0.2</td>\n",
       "      <td>...</td>\n",
       "      <td>0.0</td>\n",
       "      <td>0.0</td>\n",
       "      <td>0.323596</td>\n",
       "      <td>0.009491</td>\n",
       "      <td>0.220256</td>\n",
       "      <td>0.351872</td>\n",
       "      <td>0.00644</td>\n",
       "      <td>0.015186</td>\n",
       "      <td>0.022322</td>\n",
       "      <td>0.050838</td>\n",
       "    </tr>\n",
       "    <tr>\n",
       "      <th>2</th>\n",
       "      <td>0.000476</td>\n",
       "      <td>0.248901</td>\n",
       "      <td>0.91067</td>\n",
       "      <td>3.0</td>\n",
       "      <td>2005-05-05</td>\n",
       "      <td>0.0</td>\n",
       "      <td>0.31</td>\n",
       "      <td>0.0</td>\n",
       "      <td>0.36</td>\n",
       "      <td>0.25</td>\n",
       "      <td>...</td>\n",
       "      <td>0.0</td>\n",
       "      <td>0.0</td>\n",
       "      <td>0.323596</td>\n",
       "      <td>0.009491</td>\n",
       "      <td>0.220256</td>\n",
       "      <td>0.351872</td>\n",
       "      <td>0.00644</td>\n",
       "      <td>0.015186</td>\n",
       "      <td>0.022322</td>\n",
       "      <td>0.050838</td>\n",
       "    </tr>\n",
       "    <tr>\n",
       "      <th>3</th>\n",
       "      <td>0.00453</td>\n",
       "      <td>0.241209</td>\n",
       "      <td>0.91067</td>\n",
       "      <td>3.0</td>\n",
       "      <td>2005-05-05</td>\n",
       "      <td>0.0</td>\n",
       "      <td>0.34</td>\n",
       "      <td>0.0</td>\n",
       "      <td>0.36</td>\n",
       "      <td>0.21</td>\n",
       "      <td>...</td>\n",
       "      <td>0.0</td>\n",
       "      <td>0.0</td>\n",
       "      <td>0.323596</td>\n",
       "      <td>0.009491</td>\n",
       "      <td>0.220256</td>\n",
       "      <td>0.351872</td>\n",
       "      <td>0.00644</td>\n",
       "      <td>0.015186</td>\n",
       "      <td>0.022322</td>\n",
       "      <td>0.050838</td>\n",
       "    </tr>\n",
       "    <tr>\n",
       "      <th>4</th>\n",
       "      <td>0.000409</td>\n",
       "      <td>0.233516</td>\n",
       "      <td>0.91067</td>\n",
       "      <td>3.0</td>\n",
       "      <td>2005-05-05</td>\n",
       "      <td>0.0</td>\n",
       "      <td>0.34</td>\n",
       "      <td>0.0</td>\n",
       "      <td>0.36</td>\n",
       "      <td>0.22</td>\n",
       "      <td>...</td>\n",
       "      <td>0.0</td>\n",
       "      <td>0.0</td>\n",
       "      <td>0.323596</td>\n",
       "      <td>0.009491</td>\n",
       "      <td>0.220256</td>\n",
       "      <td>0.351872</td>\n",
       "      <td>0.00644</td>\n",
       "      <td>0.015186</td>\n",
       "      <td>0.022322</td>\n",
       "      <td>0.050838</td>\n",
       "    </tr>\n",
       "  </tbody>\n",
       "</table>\n",
       "<p>5 rows × 24 columns</p>\n",
       "</div>"
      ],
      "text/plain": [
       "  samplesize    rating next_elec_date days_to_elec      BRX_FC CON_FC GRE_FC  \\\n",
       "0   0.000343  0.268132        0.91067          3.0  2005-05-05    0.0   0.35   \n",
       "1   0.004539   0.26044        0.91067          3.0  2005-05-05    0.0   0.34   \n",
       "2   0.000476  0.248901        0.91067          3.0  2005-05-05    0.0   0.31   \n",
       "3    0.00453  0.241209        0.91067          3.0  2005-05-05    0.0   0.34   \n",
       "4   0.000409  0.233516        0.91067          3.0  2005-05-05    0.0   0.34   \n",
       "\n",
       "  LAB_FC LIB_FC NAT_FC  ... BRX_ACT CON_ACT   GRE_ACT   LIB_ACT   LAB_ACT  \\\n",
       "0    0.0    0.4   0.18  ...     0.0     0.0  0.323596  0.009491  0.220256   \n",
       "1    0.0   0.39    0.2  ...     0.0     0.0  0.323596  0.009491  0.220256   \n",
       "2    0.0   0.36   0.25  ...     0.0     0.0  0.323596  0.009491  0.220256   \n",
       "3    0.0   0.36   0.21  ...     0.0     0.0  0.323596  0.009491  0.220256   \n",
       "4    0.0   0.36   0.22  ...     0.0     0.0  0.323596  0.009491  0.220256   \n",
       "\n",
       "    PLC_ACT  SNP_ACT   UKI_ACT OTH_PERCENTAGE poll_length  \n",
       "0  0.351872  0.00644  0.015186       0.022322    0.050838  \n",
       "1  0.351872  0.00644  0.015186       0.022322    0.050838  \n",
       "2  0.351872  0.00644  0.015186       0.022322    0.050838  \n",
       "3  0.351872  0.00644  0.015186       0.022322    0.050838  \n",
       "4  0.351872  0.00644  0.015186       0.022322    0.050838  \n",
       "\n",
       "[5 rows x 24 columns]"
      ]
     },
     "execution_count": 83,
     "metadata": {},
     "output_type": "execute_result"
    }
   ],
   "source": [
    "data_processed.head()"
   ]
  },
  {
   "cell_type": "code",
   "execution_count": null,
   "metadata": {},
   "outputs": [],
   "source": [
    "#TODO Build union of of transformers into full preprocessor pipeline\n",
    "\n",
    "# not sure we need this"
   ]
  },
  {
   "cell_type": "code",
   "execution_count": null,
   "metadata": {},
   "outputs": [],
   "source": []
  },
  {
   "cell_type": "code",
   "execution_count": null,
   "metadata": {},
   "outputs": [],
   "source": [
    "#TODO Export pipeline as a Pickle file for use in the API"
   ]
  }
 ],
 "metadata": {
  "kernelspec": {
   "display_name": "election_predictor",
   "language": "python",
   "name": "python3"
  },
  "language_info": {
   "codemirror_mode": {
    "name": "ipython",
    "version": 3
   },
   "file_extension": ".py",
   "mimetype": "text/x-python",
   "name": "python",
   "nbconvert_exporter": "python",
   "pygments_lexer": "ipython3",
   "version": "3.10.6"
  }
 },
 "nbformat": 4,
 "nbformat_minor": 2
}
