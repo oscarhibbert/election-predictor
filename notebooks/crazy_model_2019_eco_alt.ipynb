{
 "cells": [
  {
   "cell_type": "code",
   "execution_count": 89,
   "metadata": {},
   "outputs": [],
   "source": [
    "# Imports using Sklearn make shortcut functions\n",
    "from sklearn.compose import make_column_transformer\n",
    "from sklearn.preprocessing import MinMaxScaler, OrdinalEncoder, OneHotEncoder\n",
    "from sklearn.pipeline import make_pipeline\n",
    "from xgboost import XGBRegressor\n",
    "from sklearn.model_selection import train_test_split, cross_val_score, GridSearchCV, RandomizedSearchCV, TimeSeriesSplit\n",
    "from sklearn.metrics import mean_squared_error, r2_score\n",
    "import pandas as pd\n",
    "import numpy as np\n",
    "import seaborn as sns\n",
    "import matplotlib.pyplot as plt\n",
    "from google.cloud import bigquery\n",
    "from datetime import datetime, timedelta\n",
    "import os\n"
   ]
  },
  {
   "cell_type": "code",
   "execution_count": 90,
   "metadata": {},
   "outputs": [],
   "source": [
    "# Load csvs from raw_data folder\n",
    "trends1 = pd.read_csv('../processed_data/LAB_CON_LIB_GRE_BRX_Trends_2004_now.csv', skiprows=1)\n",
    "trends2 = pd.read_csv('../processed_data/LAB_PLC_SNP_UKI_NAT_Trends_2004_now.csv', skiprows=1)"
   ]
  },
  {
   "cell_type": "code",
   "execution_count": 91,
   "metadata": {},
   "outputs": [],
   "source": [
    "# Drop duplicate Labour column\n",
    "trends2.drop(columns='Labour Party: (United Kingdom)',inplace=True)"
   ]
  },
  {
   "cell_type": "code",
   "execution_count": 92,
   "metadata": {},
   "outputs": [],
   "source": [
    "# Join two trends datasets on 'Month'\n",
    "trends_merged = pd.merge(trends1,trends2,how='left',on='Month')"
   ]
  },
  {
   "cell_type": "code",
   "execution_count": 93,
   "metadata": {},
   "outputs": [],
   "source": [
    "# Convert 'Month' field to pd.datetime64[ns] format for joining with polling data\n",
    "trends_merged['Month'] = pd.to_datetime(trends_merged['Month'])"
   ]
  },
  {
   "cell_type": "code",
   "execution_count": 94,
   "metadata": {},
   "outputs": [],
   "source": [
    "# Replace <1 values with 0.5 value\n",
    "trends_merged.replace('<1', 0.5,inplace=True)"
   ]
  },
  {
   "cell_type": "code",
   "execution_count": 95,
   "metadata": {},
   "outputs": [],
   "source": [
    "# Converting objects (pd.Series) to int dtypes\n",
    "trends_merged = trends_merged.astype({'Green Party: (United Kingdom)':'int','Reform UK: (United Kingdom)':'int',\\\n",
    "    'Plaid Cymru: (United Kingdom)':'int','Scottish National Party: (United Kingdom)':'int',\\\n",
    "        'UK Independence Party: (United Kingdom)':'int','British National Party: (United Kingdom)':'int'})"
   ]
  },
  {
   "cell_type": "code",
   "execution_count": 96,
   "metadata": {},
   "outputs": [],
   "source": [
    "# Rename columns to align them more easily with _FC and _ACT columns\n",
    "trends_merged.rename(columns={'Labour Party: (United Kingdom)': 'LAB_trends',\n",
    "        'Conservative Party: (United Kingdom)': 'CON_trends',\n",
    "        'Liberal Democrats: (United Kingdom)': 'LIB_trends',\n",
    "        'Green Party: (United Kingdom)': 'GRE_trends',\n",
    "        'Reform UK: (United Kingdom)': 'BRX_trends',\n",
    "        'Plaid Cymru: (United Kingdom)': 'PLC_trends',\n",
    "        'Scottish National Party: (United Kingdom)': 'SNP_trends',\n",
    "        'UK Independence Party: (United Kingdom)': 'UKI_trends',\n",
    "        'British National Party: (United Kingdom)': 'NAT_trends'}\n",
    "        ,inplace=True)"
   ]
  },
  {
   "cell_type": "code",
   "execution_count": 97,
   "metadata": {},
   "outputs": [],
   "source": [
    "ons = pd.read_csv('../raw_data/ons_economic_data_master.csv')"
   ]
  },
  {
   "cell_type": "code",
   "execution_count": 98,
   "metadata": {},
   "outputs": [],
   "source": [
    "# Print current time\n",
    "now = datetime.now()\n",
    "current_time = now.strftime(\"%Y-%m-%d %H:%M:%S\")"
   ]
  },
  {
   "cell_type": "code",
   "execution_count": 99,
   "metadata": {},
   "outputs": [],
   "source": [
    "# Imports data\n",
    "data = pd.read_csv('../processed_data/1988_to_2024_combined_clean_polling_and_results.csv')"
   ]
  },
  {
   "cell_type": "code",
   "execution_count": 100,
   "metadata": {},
   "outputs": [],
   "source": [
    "# Renames randmom PERCENTAGE COLUMN - FIX IN DATA CLEANING\n",
    "data.rename(columns={'OTH_PERCENTAGE': 'OTH_ACT'}, inplace=True)"
   ]
  },
  {
   "cell_type": "code",
   "execution_count": 101,
   "metadata": {},
   "outputs": [],
   "source": [
    "# Convert date columns to datetime\n",
    "data['enddate'] = pd.to_datetime(data['enddate'])\n",
    "data['next_elec_date'] = pd.to_datetime(data['next_elec_date'])\n",
    "data['startdate'] = pd.to_datetime(data['startdate'])"
   ]
  },
  {
   "cell_type": "code",
   "execution_count": 102,
   "metadata": {},
   "outputs": [],
   "source": [
    "# Create poll enddate field with YYYY-MM format, so we can join with Trends data\n",
    "data['enddate_year_month'] = pd.to_datetime(data['enddate']).dt.to_period('M')"
   ]
  },
  {
   "cell_type": "code",
   "execution_count": 103,
   "metadata": {},
   "outputs": [],
   "source": [
    "# Convert Period datatype to str and then to datetime64\n",
    "data.enddate_year_month = pd.to_datetime(data.enddate_year_month.astype('str'))"
   ]
  },
  {
   "cell_type": "code",
   "execution_count": 104,
   "metadata": {},
   "outputs": [],
   "source": [
    "# Merge data with trends data, to get a df with polls, election results and trends\n",
    "data = pd.merge(data,trends_merged,how='left',left_on='enddate_year_month',right_on='Month')"
   ]
  },
  {
   "cell_type": "code",
   "execution_count": 105,
   "metadata": {},
   "outputs": [],
   "source": [
    "ons['Month'] = pd.to_datetime(ons['Month'])"
   ]
  },
  {
   "cell_type": "code",
   "execution_count": 106,
   "metadata": {},
   "outputs": [],
   "source": [
    "# Merge data with trends data, to get a df with polls, election results and trends\n",
    "data = pd.merge(data,ons,how='left',left_on='enddate_year_month',right_on='Month')"
   ]
  },
  {
   "cell_type": "code",
   "execution_count": 107,
   "metadata": {},
   "outputs": [
    {
     "data": {
      "text/plain": [
       "Index(['Unnamed: 0', 'startdate', 'enddate', 'pollster', 'samplesize',\n",
       "       'rating', 'next_elec_date', 'days_to_elec', 'months_to_elec',\n",
       "       'months_to_elec_weight', 'poll_length', 'party_in_power', 'CON_FC',\n",
       "       'LAB_FC', 'LIB_FC', 'BRX_FC', 'GRE_FC', 'OTH_FC', 'PLC_FC', 'SNP_FC',\n",
       "       'UKI_FC', 'CON_ACT', 'LAB_ACT', 'LIB_ACT', 'BRX_ACT', 'GRE_ACT',\n",
       "       'PLC_ACT', 'SNP_ACT', 'UKI_ACT', 'OTH_ACT', 'enddate_year_month',\n",
       "       'Month_x', 'LAB_trends', 'CON_trends', 'LIB_trends', 'GRE_trends',\n",
       "       'BRX_trends', 'PLC_trends', 'SNP_trends', 'UKI_trends', 'NAT_trends',\n",
       "       'Month_y', 'GDP', 'Inflation', 'Unemployment'],\n",
       "      dtype='object')"
      ]
     },
     "execution_count": 107,
     "metadata": {},
     "output_type": "execute_result"
    }
   ],
   "source": [
    "data.columns"
   ]
  },
  {
   "cell_type": "code",
   "execution_count": 108,
   "metadata": {},
   "outputs": [],
   "source": [
    "# Scale trends columns by diving by 100\n",
    "for column in ['LAB_trends', 'CON_trends', 'LIB_trends',\n",
    "       'GRE_trends', 'BRX_trends', 'PLC_trends', 'SNP_trends', 'UKI_trends',\n",
    "       'NAT_trends']:\n",
    "    data[column] = data[column] / 100"
   ]
  },
  {
   "cell_type": "code",
   "execution_count": 109,
   "metadata": {},
   "outputs": [
    {
     "data": {
      "text/plain": [
       "Index(['Unnamed: 0', 'startdate', 'enddate', 'pollster', 'samplesize',\n",
       "       'rating', 'next_elec_date', 'days_to_elec', 'months_to_elec',\n",
       "       'months_to_elec_weight', 'poll_length', 'party_in_power', 'CON_FC',\n",
       "       'LAB_FC', 'LIB_FC', 'BRX_FC', 'GRE_FC', 'OTH_FC', 'PLC_FC', 'SNP_FC',\n",
       "       'UKI_FC', 'CON_ACT', 'LAB_ACT', 'LIB_ACT', 'BRX_ACT', 'GRE_ACT',\n",
       "       'PLC_ACT', 'SNP_ACT', 'UKI_ACT', 'OTH_ACT', 'enddate_year_month',\n",
       "       'Month_x', 'LAB_trends', 'CON_trends', 'LIB_trends', 'GRE_trends',\n",
       "       'BRX_trends', 'PLC_trends', 'SNP_trends', 'UKI_trends', 'NAT_trends',\n",
       "       'Month_y', 'GDP', 'Inflation', 'Unemployment'],\n",
       "      dtype='object')"
      ]
     },
     "execution_count": 109,
     "metadata": {},
     "output_type": "execute_result"
    }
   ],
   "source": [
    "data.columns"
   ]
  },
  {
   "cell_type": "code",
   "execution_count": 110,
   "metadata": {},
   "outputs": [],
   "source": [
    "# Handle numerical transformer\n",
    "num_columns_selector = ['samplesize', 'months_to_elec_weight', 'GDP','Inflation','Unemployment']\n",
    "num_transformer = MinMaxScaler()"
   ]
  },
  {
   "cell_type": "code",
   "execution_count": 111,
   "metadata": {},
   "outputs": [],
   "source": [
    "# Handle categorical transformer\n",
    "cat_columns_selector = ['rating']\n",
    "cat_transformer = make_pipeline(OrdinalEncoder(categories = [['F','F+','E-','E','E+','D-','D','D+','C-','C','C+','B-','B','B+','A-']]),MinMaxScaler())"
   ]
  },
  {
   "cell_type": "code",
   "execution_count": 112,
   "metadata": {},
   "outputs": [],
   "source": [
    "# One-hot encoder for party_in_power\n",
    "ohe = OneHotEncoder()"
   ]
  },
  {
   "cell_type": "code",
   "execution_count": 113,
   "metadata": {},
   "outputs": [],
   "source": [
    "# Build the preprocessing pipeline\n",
    "preproc_pipeline = make_column_transformer(\n",
    "    (num_transformer, num_columns_selector),\n",
    "    (cat_transformer, cat_columns_selector),\n",
    "    (ohe,['party_in_power']),\n",
    "    remainder='passthrough',\n",
    "    verbose_feature_names_out=False\n",
    ")"
   ]
  },
  {
   "cell_type": "code",
   "execution_count": 114,
   "metadata": {},
   "outputs": [
    {
     "data": {
      "text/plain": [
       "next_elec_date\n",
       "2015-05-07    1930\n",
       "2024-07-04    1362\n",
       "2010-05-06     584\n",
       "1992-04-09     453\n",
       "2019-12-12     440\n",
       "1997-05-01     338\n",
       "2017-06-08     254\n",
       "2001-06-07     213\n",
       "2005-05-05      98\n",
       "Name: count, dtype: int64"
      ]
     },
     "execution_count": 114,
     "metadata": {},
     "output_type": "execute_result"
    }
   ],
   "source": [
    "data['next_elec_date'].value_counts()"
   ]
  },
  {
   "cell_type": "code",
   "execution_count": 116,
   "metadata": {},
   "outputs": [],
   "source": [
    "# Define election dates\n",
    "election_date = datetime.strptime('2019-12-12', '%Y-%m-%d')\n",
    "cutoff_date = election_date - timedelta(days=84)\n",
    "prediction_date = election_date - timedelta(days=24)"
   ]
  },
  {
   "cell_type": "code",
   "execution_count": 117,
   "metadata": {},
   "outputs": [],
   "source": [
    "# Split data\n",
    "data_train = data[data['startdate'] < cutoff_date]\n",
    "data_test_1 = data[(data['startdate'] >= cutoff_date) & (data['startdate'] < prediction_date)]\n",
    "data_test = data_test_1[data_test_1['next_elec_date'] == election_date]\n"
   ]
  },
  {
   "cell_type": "code",
   "execution_count": 118,
   "metadata": {},
   "outputs": [],
   "source": [
    "# Fit transform preprocessing pipeline to data_train\n",
    "data_train_processed = preproc_pipeline.fit_transform(data_train)\n"
   ]
  },
  {
   "cell_type": "code",
   "execution_count": 119,
   "metadata": {},
   "outputs": [],
   "source": [
    "# Transform preprocessing pipeline to data_test\n",
    "data_test_processed = preproc_pipeline.transform(data_test)"
   ]
  },
  {
   "cell_type": "code",
   "execution_count": 120,
   "metadata": {},
   "outputs": [],
   "source": [
    "# Check feature names make sense for data_train\n",
    "data_train_processed = pd.DataFrame(\n",
    "    data_train_processed, columns=preproc_pipeline.get_feature_names_out()\n",
    ")\n",
    "\n",
    "# Check feature names make sense for data_test\n",
    "data_test_processed = pd.DataFrame(\n",
    "    data_test_processed, columns=preproc_pipeline.get_feature_names_out()\n",
    ")"
   ]
  },
  {
   "cell_type": "code",
   "execution_count": 121,
   "metadata": {},
   "outputs": [],
   "source": [
    "# Define our X by dropping irrelevant and y columns\n",
    "\n",
    "X_train = data_train_processed.drop(columns=['enddate_year_month', 'Month_y', 'startdate', 'enddate', 'pollster', 'Unnamed: 0', 'next_elec_date', 'days_to_elec', 'months_to_elec', 'party_in_power_Labour', 'LAB_ACT', 'CON_ACT', 'LIB_ACT', 'GRE_ACT', 'BRX_ACT', 'SNP_ACT', 'UKI_ACT', 'PLC_ACT', 'OTH_ACT'])\n",
    "X_test = data_test_processed.drop(columns=['enddate_year_month', 'Month_y', 'startdate', 'enddate', 'pollster', 'Unnamed: 0', 'next_elec_date', 'days_to_elec', 'months_to_elec', 'party_in_power_Labour', 'LAB_ACT', 'CON_ACT', 'LIB_ACT', 'GRE_ACT', 'BRX_ACT', 'SNP_ACT', 'UKI_ACT', 'PLC_ACT', 'OTH_ACT'])"
   ]
  },
  {
   "cell_type": "code",
   "execution_count": 122,
   "metadata": {},
   "outputs": [],
   "source": [
    "# Build our target matrix\n",
    "y_train = data_train_processed[['next_elec_date', 'LAB_ACT', 'CON_ACT', 'LIB_ACT', 'GRE_ACT', 'BRX_ACT', 'SNP_ACT', 'UKI_ACT', 'PLC_ACT', 'OTH_ACT']]\n",
    "y_test = data_test_processed[['next_elec_date', 'LAB_ACT', 'CON_ACT', 'LIB_ACT', 'GRE_ACT', 'BRX_ACT', 'SNP_ACT', 'UKI_ACT', 'PLC_ACT', 'OTH_ACT']]"
   ]
  },
  {
   "cell_type": "code",
   "execution_count": 123,
   "metadata": {},
   "outputs": [],
   "source": [
    "# Drops y_train actuals where the actual is the actual result we are trying to predict, replaces with NaNs\n",
    "y_train.loc[y_train['next_elec_date'] == '2019-12-12',\n",
    "         ['LAB_ACT', 'CON_ACT', 'LIB_ACT', 'GRE_ACT', 'BRX_ACT', 'SNP_ACT', 'UKI_ACT', 'PLC_ACT', 'OTH_ACT']] = np.nan"
   ]
  },
  {
   "cell_type": "code",
   "execution_count": 124,
   "metadata": {},
   "outputs": [
    {
     "data": {
      "text/plain": [
       "samplesize                                0.040351\n",
       "months_to_elec_weight                     0.776239\n",
       "GDP                                       1.011455\n",
       "Inflation                                 0.286232\n",
       "Unemployment                                   0.0\n",
       "rating                                    0.904762\n",
       "party_in_power_Conservative                    1.0\n",
       "poll_length                                    2.2\n",
       "CON_FC                                    0.379167\n",
       "LAB_FC                                      0.2665\n",
       "LIB_FC                                    0.168333\n",
       "BRX_FC                                    0.092321\n",
       "GRE_FC                                    0.041833\n",
       "OTH_FC                                    0.009333\n",
       "PLC_FC                                       0.006\n",
       "SNP_FC                                      0.0375\n",
       "UKI_FC                                    0.004615\n",
       "Month_x                        2019-10-14 00:00:00\n",
       "LAB_trends                                0.373333\n",
       "CON_trends                                0.199167\n",
       "LIB_trends                                0.128333\n",
       "GRE_trends                                    0.03\n",
       "BRX_trends                                0.065833\n",
       "PLC_trends                                   0.005\n",
       "SNP_trends                                0.034167\n",
       "UKI_trends                                   0.015\n",
       "NAT_trends                                     0.0\n",
       "dtype: object"
      ]
     },
     "execution_count": 124,
     "metadata": {},
     "output_type": "execute_result"
    }
   ],
   "source": [
    "# Calculates average median value of X_test\n",
    "averages = X_test.mean()\n",
    "averages"
   ]
  },
  {
   "cell_type": "code",
   "execution_count": 125,
   "metadata": {},
   "outputs": [],
   "source": [
    "# Creates imputation values for y_train to impute over actuals we are trying to predict\n",
    "imputation_values = {\n",
    "    'CON_ACT': averages['CON_FC'],\n",
    "    'LAB_ACT': averages['LAB_FC'],\n",
    "    'LIB_ACT': averages['LIB_FC'],\n",
    "    'BRX_ACT': averages['BRX_FC'],\n",
    "    'GRE_ACT': averages['GRE_FC'],\n",
    "    'OTH_ACT': averages['OTH_FC'],\n",
    "    'PLC_ACT': averages['PLC_FC'],\n",
    "    'SNP_ACT': averages['SNP_FC'],\n",
    "    'UKI_ACT': averages['UKI_FC']\n",
    "}"
   ]
  },
  {
   "cell_type": "code",
   "execution_count": 126,
   "metadata": {},
   "outputs": [
    {
     "name": "stderr",
     "output_type": "stream",
     "text": [
      "/tmp/ipykernel_219025/3014033841.py:2: FutureWarning: Downcasting object dtype arrays on .fillna, .ffill, .bfill is deprecated and will change in a future version. Call result.infer_objects(copy=False) instead. To opt-in to the future behavior, set `pd.set_option('future.no_silent_downcasting', True)`\n",
      "  y_train = y_train.fillna(value=imputation_values)\n"
     ]
    }
   ],
   "source": [
    "# Applies imputation values to y_train\n",
    "y_train = y_train.fillna(value=imputation_values)\n"
   ]
  },
  {
   "cell_type": "code",
   "execution_count": 133,
   "metadata": {},
   "outputs": [],
   "source": [
    "X_train.drop(columns=['Month_x'], inplace=True)"
   ]
  },
  {
   "cell_type": "code",
   "execution_count": 146,
   "metadata": {},
   "outputs": [],
   "source": [
    "X_test.drop(columns=['Month_x'], inplace=True)"
   ]
  },
  {
   "cell_type": "code",
   "execution_count": 147,
   "metadata": {},
   "outputs": [],
   "source": [
    "# Instantiate the model for each party\n",
    "models = {}\n",
    "parties = ['CON', 'LAB', 'LIB', 'BRX', 'GRE', 'SNP', 'UKI', 'PLC', 'OTH']\n",
    "for party in parties:\n",
    "    models[party] = XGBRegressor(\n",
    "        learning_rate=0.3, n_estimators=300, max_depth=3, subsample=0.7,\n",
    "        objective='reg:squarederror', nthread=-1, enable_categorical=True\n",
    "    )"
   ]
  },
  {
   "cell_type": "code",
   "execution_count": 148,
   "metadata": {},
   "outputs": [],
   "source": [
    "# Train models\n",
    "X_train_matrix = np.array(X_train)\n",
    "for party in parties:\n",
    "    models[party].fit(X_train_matrix, y_train[f'{party}_ACT'])"
   ]
  },
  {
   "cell_type": "code",
   "execution_count": 149,
   "metadata": {},
   "outputs": [],
   "source": [
    "# Evaluate model performance with cross validation\n",
    "cv_scores = {}\n",
    "for party in parties:\n",
    "    cv_scores[party] = cross_val_score(models[party], X_train_matrix, y_train[f'{party}_ACT']).mean()"
   ]
  },
  {
   "cell_type": "code",
   "execution_count": 150,
   "metadata": {},
   "outputs": [],
   "source": [
    "actuals_2019 = {\n",
    "    \"CON\": 0.4378,  # Conservative Party\n",
    "    \"LAB\": 0.3267,  # Labour Party\n",
    "    \"LIB\": 0.1164,  # Liberal Democrats\n",
    "    \"BRX\": 0.0200,  # Brexit Party\n",
    "    \"GRE\": 0.0254,  # Green Party\n",
    "    \"SNP\": 0.0379,  # Scottish National Party\n",
    "    \"UKI\": 0.0000,  # UK Independence Party\n",
    "    \"PLC\": 0.0051,  # Plaid Cymru\n",
    "    \"OTH\": 0.0307   # Other parties\n",
    "}"
   ]
  },
  {
   "cell_type": "code",
   "execution_count": 151,
   "metadata": {},
   "outputs": [],
   "source": [
    "# Evaluate predictions\n",
    "X_test_matrix = np.array(X_test)\n",
    "mean_predictions = {}\n",
    "for party in parties:\n",
    "    mean_predictions[party] = models[party].predict(X_test_matrix).mean()\n"
   ]
  },
  {
   "cell_type": "code",
   "execution_count": 152,
   "metadata": {},
   "outputs": [
    {
     "name": "stdout",
     "output_type": "stream",
     "text": [
      "2019 mean prediction for CON: 0.38091427087783813\n",
      "2019 actual result for CON  : 0.4378\n",
      "2019 mean prediction for LAB: 0.2953026592731476\n",
      "2019 actual result for LAB  : 0.3267\n",
      "2019 mean prediction for LIB: 0.17002969980239868\n",
      "2019 actual result for LIB  : 0.1164\n",
      "2019 mean prediction for BRX: 0.091124027967453\n",
      "2019 actual result for BRX  : 0.02\n",
      "2019 mean prediction for GRE: 0.03503462299704552\n",
      "2019 actual result for GRE  : 0.0254\n",
      "2019 mean prediction for SNP: 0.03821170702576637\n",
      "2019 actual result for SNP  : 0.0379\n",
      "2019 mean prediction for UKI: 0.004227405413985252\n",
      "2019 actual result for UKI  : 0.0\n",
      "2019 mean prediction for PLC: 0.005785579327493906\n",
      "2019 actual result for PLC  : 0.0051\n",
      "2019 mean prediction for OTH: 0.008642018772661686\n",
      "2019 actual result for OTH  : 0.0307\n"
     ]
    }
   ],
   "source": [
    "# Print mean predictions\n",
    "for party in parties:\n",
    "    print(f\"2019 mean prediction for {party}: {mean_predictions[party]}\")\n",
    "    print(f\"2019 actual result for {party}  : {actuals_2019[party]}\")\n"
   ]
  },
  {
   "cell_type": "code",
   "execution_count": 153,
   "metadata": {},
   "outputs": [],
   "source": [
    "# Evaluate last five polls\n",
    "last_predictions = {}\n",
    "for party in parties:\n",
    "    last_predictions[party] = models[party].predict(X_test_matrix)[-5:]"
   ]
  },
  {
   "cell_type": "code",
   "execution_count": 154,
   "metadata": {},
   "outputs": [
    {
     "name": "stdout",
     "output_type": "stream",
     "text": [
      "2019 last prediction for CON: 0.3791090250015259\n",
      "2019 actual result for CON  : 0.4378\n",
      "2019 last prediction for LAB: 0.3227148652076721\n",
      "2019 actual result for LAB  : 0.3267\n",
      "2019 last prediction for LIB: 0.17242518067359924\n",
      "2019 actual result for LIB  : 0.1164\n",
      "2019 last prediction for BRX: 0.09102018177509308\n",
      "2019 actual result for BRX  : 0.02\n",
      "2019 last prediction for GRE: 0.03349153697490692\n",
      "2019 actual result for GRE  : 0.0254\n",
      "2019 last prediction for SNP: 0.0397849902510643\n",
      "2019 actual result for SNP  : 0.0379\n",
      "2019 last prediction for UKI: 0.0040952907875180244\n",
      "2019 actual result for UKI  : 0.0\n",
      "2019 last prediction for PLC: 0.0056657493114471436\n",
      "2019 actual result for PLC  : 0.0051\n",
      "2019 last prediction for OTH: 0.00816916674375534\n",
      "2019 actual result for OTH  : 0.0307\n"
     ]
    }
   ],
   "source": [
    "# Print mean of predictions\n",
    "for party in parties:\n",
    "    print(f\"2019 last prediction for {party}: {last_predictions[party].mean()}\")\n",
    "    print(f\"2019 actual result for {party}  : {actuals_2019[party]}\")\n"
   ]
  },
  {
   "cell_type": "code",
   "execution_count": null,
   "metadata": {},
   "outputs": [],
   "source": []
  }
 ],
 "metadata": {
  "kernelspec": {
   "display_name": "election_predictor",
   "language": "python",
   "name": "python3"
  },
  "language_info": {
   "codemirror_mode": {
    "name": "ipython",
    "version": 3
   },
   "file_extension": ".py",
   "mimetype": "text/x-python",
   "name": "python",
   "nbconvert_exporter": "python",
   "pygments_lexer": "ipython3",
   "version": "3.10.6"
  }
 },
 "nbformat": 4,
 "nbformat_minor": 2
}
