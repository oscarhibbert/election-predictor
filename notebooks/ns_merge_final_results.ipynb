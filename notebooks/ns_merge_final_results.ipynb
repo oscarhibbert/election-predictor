{
 "cells": [
  {
   "cell_type": "code",
   "execution_count": 1,
   "metadata": {},
   "outputs": [],
   "source": [
    "import pandas as pd"
   ]
  },
  {
   "cell_type": "code",
   "execution_count": 3,
   "metadata": {},
   "outputs": [
    {
     "name": "stdout",
     "output_type": "stream",
     "text": [
      "Collecting openpyxl\n",
      "  Downloading openpyxl-3.1.3-py2.py3-none-any.whl.metadata (2.5 kB)\n",
      "Collecting et-xmlfile (from openpyxl)\n",
      "  Downloading et_xmlfile-1.1.0-py3-none-any.whl.metadata (1.8 kB)\n",
      "Downloading openpyxl-3.1.3-py2.py3-none-any.whl (251 kB)\n",
      "\u001b[2K   \u001b[90m━━━━━━━━━━━━━━━━━━━━━━━━━━━━━━━━━━━━━━━━\u001b[0m \u001b[32m251.3/251.3 kB\u001b[0m \u001b[31m7.3 MB/s\u001b[0m eta \u001b[36m0:00:00\u001b[0m\n",
      "\u001b[?25hDownloading et_xmlfile-1.1.0-py3-none-any.whl (4.7 kB)\n",
      "Installing collected packages: et-xmlfile, openpyxl\n",
      "Successfully installed et-xmlfile-1.1.0 openpyxl-3.1.3\n"
     ]
    }
   ],
   "source": [
    "!pip install openpyxl"
   ]
  },
  {
   "cell_type": "code",
   "execution_count": 4,
   "metadata": {},
   "outputs": [],
   "source": [
    "# Load predictions from csvs\n",
    "actuals_df = pd.read_excel('../raw_data/Election forecast tracker.xlsx',sheet_name='actuals')\n",
    "polls_avg_df = pd.read_excel('../raw_data/Election forecast tracker.xlsx',sheet_name='polls_average')\n",
    "polls_model_df = pd.read_excel('../raw_data/Election forecast tracker.xlsx',sheet_name='polls_model')\n",
    "polls_eco_df = pd.read_excel('../raw_data/Election forecast tracker.xlsx',sheet_name='polls_eco')\n",
    "polls_alt_df = pd.read_excel('../raw_data/Election forecast tracker.xlsx',sheet_name='polls_alt')\n",
    "polls_eco_alt_df = pd.read_excel('../raw_data/Election forecast tracker.xlsx',sheet_name='polls_eco_alt')\n",
    "\n",
    "# Load scottish results\n",
    "scotland_df = pd.read_excel('../raw_data/Election forecast tracker.xlsx',sheet_name='scotland')"
   ]
  },
  {
   "cell_type": "code",
   "execution_count": null,
   "metadata": {},
   "outputs": [],
   "source": [
    "# Load mapping dfs\n",
    "party_df = pd.read_excel('../raw_data/Election forecast tracker.xlsx',sheet_name='hex_codes')\n",
    "const_loc_df = pd.read_excel('../raw_data/Election forecast tracker.xlsx',sheet_name='constituency_coords')"
   ]
  },
  {
   "cell_type": "code",
   "execution_count": null,
   "metadata": {},
   "outputs": [],
   "source": []
  }
 ],
 "metadata": {
  "kernelspec": {
   "display_name": "election_predictor",
   "language": "python",
   "name": "python3"
  },
  "language_info": {
   "codemirror_mode": {
    "name": "ipython",
    "version": 3
   },
   "file_extension": ".py",
   "mimetype": "text/x-python",
   "name": "python",
   "nbconvert_exporter": "python",
   "pygments_lexer": "ipython3",
   "version": "3.10.6"
  }
 },
 "nbformat": 4,
 "nbformat_minor": 2
}
