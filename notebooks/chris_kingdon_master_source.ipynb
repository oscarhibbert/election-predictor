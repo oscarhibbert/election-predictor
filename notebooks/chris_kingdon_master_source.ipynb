{
 "cells": [
  {
   "cell_type": "code",
   "execution_count": 72,
   "metadata": {},
   "outputs": [],
   "source": [
    "import pandas as pd\n",
    "import numpy as np"
   ]
  },
  {
   "cell_type": "code",
   "execution_count": 73,
   "metadata": {},
   "outputs": [],
   "source": [
    "# Imports CSVs from raw for merging\n",
    "election_results_df = pd.read_csv('../processed_data/1988_to_2019_results_clean.csv')\n",
    "gb_polls = pd.read_csv('../processed_data/gb_polls.csv')"
   ]
  },
  {
   "cell_type": "code",
   "execution_count": 74,
   "metadata": {},
   "outputs": [],
   "source": [
    "# Fxes election year column name\n",
    "election_results_df['election_year'] = election_results_df['Year']"
   ]
  },
  {
   "cell_type": "code",
   "execution_count": 75,
   "metadata": {},
   "outputs": [],
   "source": [
    "# Fixes electon year for data type\n",
    "gb_polls['election_year'] = gb_polls['next_elec_date'].str[:4]"
   ]
  },
  {
   "cell_type": "code",
   "execution_count": 76,
   "metadata": {},
   "outputs": [],
   "source": [
    "# Fixes electon year for data type\n",
    "gb_polls['election_year'] = gb_polls['election_year'].astype(int)"
   ]
  },
  {
   "cell_type": "code",
   "execution_count": 77,
   "metadata": {},
   "outputs": [],
   "source": [
    "# Option 1: filters election year to pre 2019\n",
    "# filtered_gb_polls_df = gb_polls[gb_polls['election_year'] <= 2020]"
   ]
  },
  {
   "cell_type": "code",
   "execution_count": 78,
   "metadata": {},
   "outputs": [],
   "source": [
    "# Option 2: filters election year to post 2019\n",
    "# filtered_gb_polls_df = gb_polls[gb_polls['election_year'] >= 2020]"
   ]
  },
  {
   "cell_type": "code",
   "execution_count": 79,
   "metadata": {},
   "outputs": [],
   "source": [
    "# Option 3 merges dataframe fully\n",
    "gb_polls_actuals = gb_polls.merge(election_results_df, on='election_year', how='left')"
   ]
  },
  {
   "cell_type": "code",
   "execution_count": 80,
   "metadata": {},
   "outputs": [],
   "source": [
    "# Dictionary for column names\n",
    "rename_columns = {\n",
    "    'BRX': 'BRX_FC',\n",
    "    'CON': 'CON_FC',\n",
    "    'GRE': 'GRE_FC',\n",
    "    'LAB': 'LAB_FC',\n",
    "    'LIB': 'LIB_FC',\n",
    "    'OTH': 'OTH_FC',\n",
    "    'PLC': 'PLC_FC',\n",
    "    'SNP': 'SNP_FC',\n",
    "    'UKI': 'UKI_FC',\n",
    "    'BRX_ACTUAL_PERCENTAGE': 'BRX_ACT',\n",
    "    'CON_ACTUAL_PERCENTAGE': 'CON_ACT',\n",
    "    'GRE_ACTUAL_PERCENTAGE': 'GRE_ACT',\n",
    "    'LIB_ACTUAL_PERCENTAGE': 'LIB_ACT',\n",
    "    'LABOUR_ACTUAL_PERCENTAGE': 'LAB_ACT',\n",
    "    'PLC_ACTUAL_PERCENTAGE': 'PLC_ACT',\n",
    "    'SNP_ACTUAL_PERCENTAGE': 'SNP_ACT',\n",
    "    'UKI_ACTUAL_PERCENTAGE': 'UKI_ACT',\n",
    "    'OTH_PERCENTAGE': 'OTH_ACT'\n",
    "}"
   ]
  },
  {
   "cell_type": "code",
   "execution_count": 81,
   "metadata": {},
   "outputs": [],
   "source": [
    "# Renames columns for uniformity\n",
    "gb_polls_actuals.rename(columns=rename_columns, inplace=True)"
   ]
  },
  {
   "cell_type": "code",
   "execution_count": 82,
   "metadata": {},
   "outputs": [],
   "source": [
    "# Drops irrelevant columns\n",
    "gb_polls_actuals.drop(columns=['Country'], inplace=True)"
   ]
  },
  {
   "cell_type": "code",
   "execution_count": 83,
   "metadata": {},
   "outputs": [],
   "source": [
    "# Renames df for sanity\n",
    "combined_df = gb_polls_actuals"
   ]
  },
  {
   "cell_type": "code",
   "execution_count": 84,
   "metadata": {},
   "outputs": [],
   "source": [
    "# Renames columns for space\n",
    "combined_df.rename(columns={'pollster_rating': 'rating'}, inplace=True)\n",
    "combined_df.rename(columns={'next_election_date': 'next_elec_date'}, inplace=True)\n",
    "combined_df.rename(columns={'days_until_next_election': 'days_to_elec'}, inplace=True)"
   ]
  },
  {
   "cell_type": "code",
   "execution_count": 85,
   "metadata": {},
   "outputs": [],
   "source": [
    "# Drops further columns\n",
    "combined_df.drop(columns='Geography', inplace=True)  # Drop column\n"
   ]
  },
  {
   "cell_type": "code",
   "execution_count": 86,
   "metadata": {},
   "outputs": [],
   "source": [
    "# Add a field 'poll length' that shows number of days the poll was held for\n",
    "combined_df['poll_length'] = pd.to_datetime(combined_df.enddate) - pd.to_datetime(combined_df.startdate)\n",
    "combined_df['poll_length'] = combined_df['poll_length'].dt.days"
   ]
  },
  {
   "cell_type": "code",
   "execution_count": 87,
   "metadata": {},
   "outputs": [],
   "source": [
    "# Apply function to correct negative values and replace 0 with 1\n",
    "def adjust_poll_length(days):\n",
    "    if days < 0:\n",
    "        return 0\n",
    "    elif days == 0:\n",
    "        return 1\n",
    "    else:\n",
    "        return days"
   ]
  },
  {
   "cell_type": "code",
   "execution_count": 88,
   "metadata": {},
   "outputs": [],
   "source": [
    "combined_df['poll_length'] = combined_df['poll_length'].apply(adjust_poll_length)"
   ]
  },
  {
   "cell_type": "code",
   "execution_count": 89,
   "metadata": {},
   "outputs": [],
   "source": [
    "# Converts start/end to datetime\n",
    "combined_df['startdate'] = pd.to_datetime(combined_df['startdate'])\n",
    "combined_df['enddate'] = pd.to_datetime(combined_df['enddate'])\n",
    "combined_df['next_elec_date'] = pd.to_datetime(combined_df['next_elec_date'])"
   ]
  },
  {
   "cell_type": "code",
   "execution_count": 90,
   "metadata": {},
   "outputs": [],
   "source": [
    "# Divide forecasts by 100 to create values between 0-1\n",
    "for column in ['BRX_FC', 'CON_FC', 'GRE_FC', 'LAB_FC', 'LIB_FC', 'OTH_FC', 'PLC_FC', 'SNP_FC', 'UKI_FC']:\n",
    "    combined_df[column] = combined_df[column] / 100"
   ]
  },
  {
   "cell_type": "code",
   "execution_count": 91,
   "metadata": {},
   "outputs": [],
   "source": [
    "# Divide actuals by 100 to create values between 0-1\n",
    "for column in ['BRX_ACT', 'CON_ACT', 'GRE_ACT', 'LIB_ACT', 'LAB_ACT', 'PLC_ACT', 'SNP_ACT', 'UKI_ACT', 'OTH_ACT']:\n",
    "    combined_df[column] = combined_df[column] / 100"
   ]
  },
  {
   "cell_type": "code",
   "execution_count": 92,
   "metadata": {},
   "outputs": [],
   "source": [
    "# Calculates month cleaning column\n",
    "def calculate_month_diff(d1, d2):\n",
    "    return (d2.year - d1.year) * 12 + d2.month - d1.month"
   ]
  },
  {
   "cell_type": "code",
   "execution_count": 93,
   "metadata": {},
   "outputs": [],
   "source": [
    "# Applies month cleaning\n",
    "combined_df['months_to_elec'] = combined_df.apply(lambda row: calculate_month_diff(row['enddate'], row['next_elec_date']), axis=1)"
   ]
  },
  {
   "cell_type": "code",
   "execution_count": 94,
   "metadata": {},
   "outputs": [],
   "source": [
    "# Function to calculate weight\n",
    "def calculate_weight(months, max_months=60):\n",
    "    return max(0, 1 - np.log1p(months) / np.log1p(max_months))"
   ]
  },
  {
   "cell_type": "code",
   "execution_count": 95,
   "metadata": {},
   "outputs": [],
   "source": [
    "# Applies weight calculation\n",
    "combined_df['months_to_elec_weight'] = combined_df['months_to_elec'].apply(calculate_weight)"
   ]
  },
  {
   "cell_type": "code",
   "execution_count": 96,
   "metadata": {},
   "outputs": [],
   "source": [
    "# Defines ruling periods\n",
    "party_in_power = {\n",
    "    '1985-01-01': 'Conservative',\n",
    "    '1987-06-11': 'Conservative',\n",
    "    '1992-04-09': 'Conservative',\n",
    "    '1997-05-01': 'Labour',\n",
    "    '2001-06-07': 'Labour',\n",
    "    '2004-01-01': 'Labour',\n",
    "    '2005-05-05': 'Labour',\n",
    "    '2010-05-06': 'Conservative_Liberal',\n",
    "    '2015-05-07': 'Conservative',\n",
    "    '2017-06-08': 'Conservative',\n",
    "    '2019-12-12': 'Conservative'\n",
    "}"
   ]
  },
  {
   "cell_type": "code",
   "execution_count": 97,
   "metadata": {},
   "outputs": [],
   "source": [
    "# Function to get party in power at a given date\n",
    "def get_party_in_power(date):\n",
    "    date = pd.to_datetime(date)\n",
    "    for key in sorted(party_in_power.keys(), reverse=True):\n",
    "        if date >= pd.to_datetime(key):\n",
    "            return party_in_power[key]\n",
    "    return None"
   ]
  },
  {
   "cell_type": "code",
   "execution_count": 98,
   "metadata": {},
   "outputs": [],
   "source": [
    "# Applies party in power function\n",
    "combined_df['party_in_power'] = combined_df['startdate'].apply(get_party_in_power)\n"
   ]
  },
  {
   "cell_type": "code",
   "execution_count": 99,
   "metadata": {},
   "outputs": [
    {
     "data": {
      "text/plain": [
       "Index(['Unnamed: 0_x', 'startdate', 'enddate', 'pollster', 'samplesize',\n",
       "       'rating', 'next_elec_date', 'days_to_elec', 'BRX_FC', 'CON_FC',\n",
       "       'GRE_FC', 'LAB_FC', 'LIB_FC', 'OTH_FC', 'PLC_FC', 'SNP_FC', 'UKI_FC',\n",
       "       'election_year', 'Unnamed: 0_y', 'Year', 'BRX_ACT', 'CON_ACT',\n",
       "       'GRE_ACT', 'LIB_ACT', 'LAB_ACT', 'PLC_ACT', 'SNP_ACT', 'UKI_ACT',\n",
       "       'OTH_ACT', 'poll_length', 'months_to_elec', 'months_to_elec_weight',\n",
       "       'party_in_power'],\n",
       "      dtype='object')"
      ]
     },
     "execution_count": 99,
     "metadata": {},
     "output_type": "execute_result"
    }
   ],
   "source": [
    "combined_df.columns"
   ]
  },
  {
   "cell_type": "code",
   "execution_count": 100,
   "metadata": {},
   "outputs": [],
   "source": [
    "order = ['startdate', 'enddate', 'pollster', 'samplesize', 'rating',\n",
    "       'next_elec_date', 'days_to_elec', 'months_to_elec', 'months_to_elec_weight', 'poll_length',\n",
    "       'party_in_power', 'CON_FC', 'LAB_FC', 'LIB_FC',\n",
    "       'BRX_FC', 'GRE_FC', 'OTH_FC', 'PLC_FC', 'SNP_FC', 'UKI_FC', 'CON_ACT', 'LAB_ACT', 'LIB_ACT', 'BRX_ACT', 'GRE_ACT',\n",
    "       'PLC_ACT', 'SNP_ACT', 'UKI_ACT', 'OTH_ACT']"
   ]
  },
  {
   "cell_type": "code",
   "execution_count": 101,
   "metadata": {},
   "outputs": [],
   "source": [
    "combined_df = combined_df[order]"
   ]
  },
  {
   "cell_type": "code",
   "execution_count": 102,
   "metadata": {},
   "outputs": [
    {
     "data": {
      "text/plain": [
       "Index(['startdate', 'enddate', 'pollster', 'samplesize', 'rating',\n",
       "       'next_elec_date', 'days_to_elec', 'months_to_elec',\n",
       "       'months_to_elec_weight', 'poll_length', 'party_in_power', 'CON_FC',\n",
       "       'LAB_FC', 'LIB_FC', 'BRX_FC', 'GRE_FC', 'OTH_FC', 'PLC_FC', 'SNP_FC',\n",
       "       'UKI_FC', 'CON_ACT', 'LAB_ACT', 'LIB_ACT', 'BRX_ACT', 'GRE_ACT',\n",
       "       'PLC_ACT', 'SNP_ACT', 'UKI_ACT', 'OTH_ACT'],\n",
       "      dtype='object')"
      ]
     },
     "execution_count": 102,
     "metadata": {},
     "output_type": "execute_result"
    }
   ],
   "source": [
    "combined_df.columns"
   ]
  },
  {
   "cell_type": "code",
   "execution_count": 103,
   "metadata": {},
   "outputs": [],
   "source": [
    "#Option 1: Saves to CSV for pre 2019\n",
    "combined_df.to_csv('../processed_data/1988_to_2024_combined_clean_polling_and_results.csv', index=True)"
   ]
  },
  {
   "cell_type": "code",
   "execution_count": null,
   "metadata": {},
   "outputs": [],
   "source": [
    "#Option 2: Saves to CSV for post 2019\n",
    "# combined_df.to_csv('../processed_data/2019_to_2024_combined_clean_polling_and_results.csv', index=False)"
   ]
  }
 ],
 "metadata": {
  "kernelspec": {
   "display_name": "election_predictor",
   "language": "python",
   "name": "python3"
  },
  "language_info": {
   "codemirror_mode": {
    "name": "ipython",
    "version": 3
   },
   "file_extension": ".py",
   "mimetype": "text/x-python",
   "name": "python",
   "nbconvert_exporter": "python",
   "pygments_lexer": "ipython3",
   "version": "3.10.6"
  }
 },
 "nbformat": 4,
 "nbformat_minor": 2
}
