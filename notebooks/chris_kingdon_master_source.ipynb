{
 "cells": [
  {
   "cell_type": "code",
   "execution_count": 1,
   "metadata": {},
   "outputs": [],
   "source": [
    "import pandas as pd\n",
    "import numpy as np"
   ]
  },
  {
   "cell_type": "code",
   "execution_count": 2,
   "metadata": {},
   "outputs": [],
   "source": [
    "# Imports CSVs from raw for merging\n",
    "election_results_df = pd.read_csv('../processed_data/1988_to_2019_results_clean.csv')\n",
    "gb_polls = pd.read_csv('../processed_data/gb_polls.csv')"
   ]
  },
  {
   "cell_type": "code",
   "execution_count": 3,
   "metadata": {},
   "outputs": [],
   "source": [
    "# Fxes election year column name\n",
    "election_results_df['election_year'] = election_results_df['Year']"
   ]
  },
  {
   "cell_type": "code",
   "execution_count": 4,
   "metadata": {},
   "outputs": [],
   "source": [
    "# Fixes electon year for data type\n",
    "gb_polls['election_year'] = gb_polls['next_elec_date'].str[:4]"
   ]
  },
  {
   "cell_type": "code",
   "execution_count": 5,
   "metadata": {},
   "outputs": [],
   "source": [
    "# Fixes electon year for data type\n",
    "gb_polls['election_year'] = gb_polls['election_year'].astype(int)"
   ]
  },
  {
   "cell_type": "code",
   "execution_count": 6,
   "metadata": {},
   "outputs": [],
   "source": [
    "# Option 1: filters election year to pre 2019\n",
    "# filtered_gb_polls_df = gb_polls[gb_polls['election_year'] <= 2020]"
   ]
  },
  {
   "cell_type": "code",
   "execution_count": 7,
   "metadata": {},
   "outputs": [],
   "source": [
    "# Option 2: filters election year to post 2019\n",
    "# filtered_gb_polls_df = gb_polls[gb_polls['election_year'] >= 2020]"
   ]
  },
  {
   "cell_type": "code",
   "execution_count": 8,
   "metadata": {},
   "outputs": [],
   "source": [
    "# Option 3 merges dataframe fully\n",
    "gb_polls_actuals = gb_polls.merge(election_results_df, on='election_year', how='left')"
   ]
  },
  {
   "cell_type": "code",
   "execution_count": 9,
   "metadata": {},
   "outputs": [],
   "source": [
    "# Dictionary for column names\n",
    "rename_columns = {\n",
    "    'BRX': 'BRX_FC',\n",
    "    'CON': 'CON_FC',\n",
    "    'GRE': 'GRE_FC',\n",
    "    'LAB': 'LAB_FC',\n",
    "    'LIB': 'LIB_FC',\n",
    "    'OTH': 'OTH_FC',\n",
    "    'PLC': 'PLC_FC',\n",
    "    'REF': 'REF_FC',\n",
    "    'SNP': 'SNP_FC',\n",
    "    'UKI': 'UKI_FC',\n",
    "    'BRX_ACTUAL_PERCENTAGE': 'BRX_ACT',\n",
    "    'CON_ACTUAL_PERCENTAGE': 'CON_ACT',\n",
    "    'GRE_ACTUAL_PERCENTAGE': 'GRE_ACT',\n",
    "    'LIB_ACTUAL_PERCENTAGE': 'LIB_ACT',\n",
    "    'LABOUR_ACTUAL_PERCENTAGE': 'LAB_ACT',\n",
    "    'PLC_ACTUAL_PERCENTAGE': 'PLC_ACT',\n",
    "    'REF_ACTUAL_PERCENTAGE': 'REF_ACT',\n",
    "    'SNP_ACTUAL_PERCENTAGE': 'SNP_ACT',\n",
    "    'UKI_ACTUAL_PERCENTAGE': 'UKI_ACT',\n",
    "    'OTH_ACTUAL_PERCENTAGE': 'OTH_ACT'\n",
    "}"
   ]
  },
  {
   "cell_type": "code",
   "execution_count": 10,
   "metadata": {},
   "outputs": [],
   "source": [
    "# Renames columns for uniformity\n",
    "gb_polls_actuals.rename(columns=rename_columns, inplace=True)"
   ]
  },
  {
   "cell_type": "code",
   "execution_count": 11,
   "metadata": {},
   "outputs": [],
   "source": [
    "# Drops irrelevant columns\n",
    "gb_polls_actuals.drop(columns=['Country'], inplace=True)"
   ]
  },
  {
   "cell_type": "code",
   "execution_count": 12,
   "metadata": {},
   "outputs": [],
   "source": [
    "# Renames df for sanity\n",
    "combined_df = gb_polls_actuals"
   ]
  },
  {
   "cell_type": "code",
   "execution_count": 13,
   "metadata": {},
   "outputs": [],
   "source": [
    "# Renames columns for space\n",
    "combined_df.rename(columns={'pollster_rating': 'rating'}, inplace=True)\n",
    "combined_df.rename(columns={'next_election_date': 'next_elec_date'}, inplace=True)\n",
    "combined_df.rename(columns={'days_until_next_election': 'days_to_elec'}, inplace=True)"
   ]
  },
  {
   "cell_type": "code",
   "execution_count": 14,
   "metadata": {},
   "outputs": [],
   "source": [
    "# Drops further columns\n",
    "combined_df.drop(columns='Geography', inplace=True)  # Drop column\n"
   ]
  },
  {
   "cell_type": "code",
   "execution_count": 15,
   "metadata": {},
   "outputs": [],
   "source": [
    "# Add a field 'poll length' that shows number of days the poll was held for\n",
    "combined_df['poll_length'] = pd.to_datetime(combined_df.enddate) - pd.to_datetime(combined_df.startdate)\n",
    "combined_df['poll_length'] = combined_df['poll_length'].dt.days"
   ]
  },
  {
   "cell_type": "code",
   "execution_count": 16,
   "metadata": {},
   "outputs": [],
   "source": [
    "# Apply function to correct negative values and replace 0 with 1\n",
    "def adjust_poll_length(days):\n",
    "    if days < 0:\n",
    "        return 0\n",
    "    elif days == 0:\n",
    "        return 1\n",
    "    else:\n",
    "        return days"
   ]
  },
  {
   "cell_type": "code",
   "execution_count": 17,
   "metadata": {},
   "outputs": [],
   "source": [
    "combined_df['poll_length'] = combined_df['poll_length'].apply(adjust_poll_length)"
   ]
  },
  {
   "cell_type": "code",
   "execution_count": 18,
   "metadata": {},
   "outputs": [],
   "source": [
    "# Converts start/end to datetime\n",
    "combined_df['startdate'] = pd.to_datetime(combined_df['startdate'])\n",
    "combined_df['enddate'] = pd.to_datetime(combined_df['enddate'])\n",
    "combined_df['next_elec_date'] = pd.to_datetime(combined_df['next_elec_date'])"
   ]
  },
  {
   "cell_type": "code",
   "execution_count": 19,
   "metadata": {},
   "outputs": [],
   "source": [
    "# Divide forecasts by 100 to create values between 0-1\n",
    "for column in ['BRX_FC', 'CON_FC', 'GRE_FC', 'LAB_FC', 'LIB_FC', 'OTH_FC', 'PLC_FC', 'REF_FC', 'SNP_FC', 'UKI_FC']:\n",
    "    combined_df[column] = combined_df[column] / 100"
   ]
  },
  {
   "cell_type": "code",
   "execution_count": 20,
   "metadata": {},
   "outputs": [],
   "source": [
    "# Divide actuals by 100 to create values between 0-1\n",
    "for column in ['BRX_ACT', 'CON_ACT', 'GRE_ACT', 'LIB_ACT', 'LAB_ACT', 'PLC_ACT', 'REF_ACT',  'SNP_ACT', 'UKI_ACT', 'OTH_ACT']:\n",
    "    combined_df[column] = combined_df[column] / 100"
   ]
  },
  {
   "cell_type": "code",
   "execution_count": 21,
   "metadata": {},
   "outputs": [],
   "source": [
    "# Calculates month cleaning column\n",
    "def calculate_month_diff(d1, d2):\n",
    "    return (d2.year - d1.year) * 12 + d2.month - d1.month"
   ]
  },
  {
   "cell_type": "code",
   "execution_count": 22,
   "metadata": {},
   "outputs": [],
   "source": [
    "# Applies month cleaning\n",
    "combined_df['months_to_elec'] = combined_df.apply(lambda row: calculate_month_diff(row['enddate'], row['next_elec_date']), axis=1)"
   ]
  },
  {
   "cell_type": "code",
   "execution_count": 23,
   "metadata": {},
   "outputs": [],
   "source": [
    "# Function to calculate weight\n",
    "def calculate_weight(months, max_months=60):\n",
    "    return max(0, 1 - np.log1p(months) / np.log1p(max_months))"
   ]
  },
  {
   "cell_type": "code",
   "execution_count": 24,
   "metadata": {},
   "outputs": [],
   "source": [
    "# Applies weight calculation\n",
    "combined_df['months_to_elec_weight'] = combined_df['months_to_elec'].apply(calculate_weight)"
   ]
  },
  {
   "cell_type": "code",
   "execution_count": 25,
   "metadata": {},
   "outputs": [],
   "source": [
    "# Defines ruling periods\n",
    "party_in_power = {\n",
    "    '1985-01-01': 'Conservative',\n",
    "    '1987-06-11': 'Conservative',\n",
    "    '1992-04-09': 'Conservative',\n",
    "    '1997-05-01': 'Labour',\n",
    "    '2001-06-07': 'Labour',\n",
    "    '2004-01-01': 'Labour',\n",
    "    '2005-05-05': 'Labour',\n",
    "    '2010-05-06': 'Conservative_Liberal',\n",
    "    '2015-05-07': 'Conservative',\n",
    "    '2017-06-08': 'Conservative',\n",
    "    '2019-12-12': 'Conservative'\n",
    "}"
   ]
  },
  {
   "cell_type": "code",
   "execution_count": 26,
   "metadata": {},
   "outputs": [],
   "source": [
    "# Function to get party in power at a given date\n",
    "def get_party_in_power(date):\n",
    "    date = pd.to_datetime(date)\n",
    "    for key in sorted(party_in_power.keys(), reverse=True):\n",
    "        if date >= pd.to_datetime(key):\n",
    "            return party_in_power[key]\n",
    "    return None"
   ]
  },
  {
   "cell_type": "code",
   "execution_count": 27,
   "metadata": {},
   "outputs": [],
   "source": [
    "# Applies party in power function\n",
    "combined_df['party_in_power'] = combined_df['startdate'].apply(get_party_in_power)\n"
   ]
  },
  {
   "cell_type": "code",
   "execution_count": 28,
   "metadata": {},
   "outputs": [
    {
     "data": {
      "text/plain": [
       "Index(['Unnamed: 0_x', 'startdate', 'enddate', 'pollster', 'samplesize',\n",
       "       'rating', 'next_elec_date', 'days_to_elec', 'BRX_FC', 'CON_FC',\n",
       "       'GRE_FC', 'LAB_FC', 'LIB_FC', 'OTH_FC', 'PLC_FC', 'REF_FC', 'SNP_FC',\n",
       "       'UKI_FC', 'election_year', 'Unnamed: 0_y', 'Year', 'BRX_ACT', 'CON_ACT',\n",
       "       'GRE_ACT', 'LIB_ACT', 'LAB_ACT', 'PLC_ACT', 'SNP_ACT', 'UKI_ACT',\n",
       "       'OTH_ACT', 'REF_ACT', 'poll_length', 'months_to_elec',\n",
       "       'months_to_elec_weight', 'party_in_power'],\n",
       "      dtype='object')"
      ]
     },
     "execution_count": 28,
     "metadata": {},
     "output_type": "execute_result"
    }
   ],
   "source": [
    "combined_df.columns"
   ]
  },
  {
   "cell_type": "code",
   "execution_count": 37,
   "metadata": {},
   "outputs": [],
   "source": [
    "order = ['startdate', 'enddate', 'pollster', 'samplesize', 'rating',\n",
    "       'next_elec_date', 'days_to_elec', 'months_to_elec', 'months_to_elec_weight', 'poll_length',\n",
    "       'party_in_power', 'CON_FC', 'LAB_FC', 'LIB_FC',\n",
    "       'BRX_FC', 'GRE_FC', 'OTH_FC', 'PLC_FC', 'REF_FC', 'SNP_FC', 'UKI_FC', 'CON_ACT', 'LAB_ACT', 'LIB_ACT', 'BRX_ACT', 'GRE_ACT',\n",
    "        'OTH_ACT', 'PLC_ACT', 'REF_ACT', 'SNP_ACT', 'UKI_ACT']"
   ]
  },
  {
   "cell_type": "code",
   "execution_count": 38,
   "metadata": {},
   "outputs": [],
   "source": [
    "combined_df = combined_df[order]"
   ]
  },
  {
   "cell_type": "code",
   "execution_count": 39,
   "metadata": {},
   "outputs": [
    {
     "data": {
      "text/html": [
       "<div>\n",
       "<style scoped>\n",
       "    .dataframe tbody tr th:only-of-type {\n",
       "        vertical-align: middle;\n",
       "    }\n",
       "\n",
       "    .dataframe tbody tr th {\n",
       "        vertical-align: top;\n",
       "    }\n",
       "\n",
       "    .dataframe thead th {\n",
       "        text-align: right;\n",
       "    }\n",
       "</style>\n",
       "<table border=\"1\" class=\"dataframe\">\n",
       "  <thead>\n",
       "    <tr style=\"text-align: right;\">\n",
       "      <th></th>\n",
       "      <th>startdate</th>\n",
       "      <th>enddate</th>\n",
       "      <th>pollster</th>\n",
       "      <th>samplesize</th>\n",
       "      <th>rating</th>\n",
       "      <th>next_elec_date</th>\n",
       "      <th>days_to_elec</th>\n",
       "      <th>months_to_elec</th>\n",
       "      <th>months_to_elec_weight</th>\n",
       "      <th>poll_length</th>\n",
       "      <th>...</th>\n",
       "      <th>CON_ACT</th>\n",
       "      <th>LAB_ACT</th>\n",
       "      <th>LIB_ACT</th>\n",
       "      <th>BRX_ACT</th>\n",
       "      <th>GRE_ACT</th>\n",
       "      <th>OTH_ACT</th>\n",
       "      <th>PLC_ACT</th>\n",
       "      <th>REF_ACT</th>\n",
       "      <th>SNP_ACT</th>\n",
       "      <th>UKI_ACT</th>\n",
       "    </tr>\n",
       "  </thead>\n",
       "  <tbody>\n",
       "    <tr>\n",
       "      <th>0</th>\n",
       "      <td>1988-01-11</td>\n",
       "      <td>1988-01-11</td>\n",
       "      <td>Marplan</td>\n",
       "      <td>1000</td>\n",
       "      <td>D-</td>\n",
       "      <td>1992-04-09</td>\n",
       "      <td>1550</td>\n",
       "      <td>51</td>\n",
       "      <td>0.038831</td>\n",
       "      <td>1</td>\n",
       "      <td>...</td>\n",
       "      <td>0.419323</td>\n",
       "      <td>0.343843</td>\n",
       "      <td>0.178082</td>\n",
       "      <td>0.0</td>\n",
       "      <td>0.004797</td>\n",
       "      <td>0.030561</td>\n",
       "      <td>0.004664</td>\n",
       "      <td>0.0</td>\n",
       "      <td>0.018731</td>\n",
       "      <td>0.0</td>\n",
       "    </tr>\n",
       "    <tr>\n",
       "      <th>1</th>\n",
       "      <td>1988-01-11</td>\n",
       "      <td>1988-01-11</td>\n",
       "      <td>NOP</td>\n",
       "      <td>1000</td>\n",
       "      <td>D-</td>\n",
       "      <td>1992-04-09</td>\n",
       "      <td>1550</td>\n",
       "      <td>51</td>\n",
       "      <td>0.038831</td>\n",
       "      <td>1</td>\n",
       "      <td>...</td>\n",
       "      <td>0.419323</td>\n",
       "      <td>0.343843</td>\n",
       "      <td>0.178082</td>\n",
       "      <td>0.0</td>\n",
       "      <td>0.004797</td>\n",
       "      <td>0.030561</td>\n",
       "      <td>0.004664</td>\n",
       "      <td>0.0</td>\n",
       "      <td>0.018731</td>\n",
       "      <td>0.0</td>\n",
       "    </tr>\n",
       "    <tr>\n",
       "      <th>2</th>\n",
       "      <td>1988-01-18</td>\n",
       "      <td>1988-01-18</td>\n",
       "      <td>Gallup</td>\n",
       "      <td>1000</td>\n",
       "      <td>D+</td>\n",
       "      <td>1992-04-09</td>\n",
       "      <td>1543</td>\n",
       "      <td>51</td>\n",
       "      <td>0.038831</td>\n",
       "      <td>1</td>\n",
       "      <td>...</td>\n",
       "      <td>0.419323</td>\n",
       "      <td>0.343843</td>\n",
       "      <td>0.178082</td>\n",
       "      <td>0.0</td>\n",
       "      <td>0.004797</td>\n",
       "      <td>0.030561</td>\n",
       "      <td>0.004664</td>\n",
       "      <td>0.0</td>\n",
       "      <td>0.018731</td>\n",
       "      <td>0.0</td>\n",
       "    </tr>\n",
       "    <tr>\n",
       "      <th>3</th>\n",
       "      <td>1988-01-26</td>\n",
       "      <td>1988-01-26</td>\n",
       "      <td>MORI</td>\n",
       "      <td>1000</td>\n",
       "      <td>B</td>\n",
       "      <td>1992-04-09</td>\n",
       "      <td>1535</td>\n",
       "      <td>51</td>\n",
       "      <td>0.038831</td>\n",
       "      <td>1</td>\n",
       "      <td>...</td>\n",
       "      <td>0.419323</td>\n",
       "      <td>0.343843</td>\n",
       "      <td>0.178082</td>\n",
       "      <td>0.0</td>\n",
       "      <td>0.004797</td>\n",
       "      <td>0.030561</td>\n",
       "      <td>0.004664</td>\n",
       "      <td>0.0</td>\n",
       "      <td>0.018731</td>\n",
       "      <td>0.0</td>\n",
       "    </tr>\n",
       "    <tr>\n",
       "      <th>4</th>\n",
       "      <td>1988-02-08</td>\n",
       "      <td>1988-02-08</td>\n",
       "      <td>NOP</td>\n",
       "      <td>1000</td>\n",
       "      <td>D-</td>\n",
       "      <td>1992-04-09</td>\n",
       "      <td>1522</td>\n",
       "      <td>50</td>\n",
       "      <td>0.043555</td>\n",
       "      <td>1</td>\n",
       "      <td>...</td>\n",
       "      <td>0.419323</td>\n",
       "      <td>0.343843</td>\n",
       "      <td>0.178082</td>\n",
       "      <td>0.0</td>\n",
       "      <td>0.004797</td>\n",
       "      <td>0.030561</td>\n",
       "      <td>0.004664</td>\n",
       "      <td>0.0</td>\n",
       "      <td>0.018731</td>\n",
       "      <td>0.0</td>\n",
       "    </tr>\n",
       "    <tr>\n",
       "      <th>...</th>\n",
       "      <td>...</td>\n",
       "      <td>...</td>\n",
       "      <td>...</td>\n",
       "      <td>...</td>\n",
       "      <td>...</td>\n",
       "      <td>...</td>\n",
       "      <td>...</td>\n",
       "      <td>...</td>\n",
       "      <td>...</td>\n",
       "      <td>...</td>\n",
       "      <td>...</td>\n",
       "      <td>...</td>\n",
       "      <td>...</td>\n",
       "      <td>...</td>\n",
       "      <td>...</td>\n",
       "      <td>...</td>\n",
       "      <td>...</td>\n",
       "      <td>...</td>\n",
       "      <td>...</td>\n",
       "      <td>...</td>\n",
       "      <td>...</td>\n",
       "    </tr>\n",
       "    <tr>\n",
       "      <th>5729</th>\n",
       "      <td>2024-06-14</td>\n",
       "      <td>2024-06-17</td>\n",
       "      <td>RedfieldWilton</td>\n",
       "      <td>10000</td>\n",
       "      <td>D</td>\n",
       "      <td>2024-07-04</td>\n",
       "      <td>20</td>\n",
       "      <td>1</td>\n",
       "      <td>0.831387</td>\n",
       "      <td>3</td>\n",
       "      <td>...</td>\n",
       "      <td>NaN</td>\n",
       "      <td>NaN</td>\n",
       "      <td>NaN</td>\n",
       "      <td>NaN</td>\n",
       "      <td>NaN</td>\n",
       "      <td>NaN</td>\n",
       "      <td>NaN</td>\n",
       "      <td>NaN</td>\n",
       "      <td>NaN</td>\n",
       "      <td>NaN</td>\n",
       "    </tr>\n",
       "    <tr>\n",
       "      <th>5730</th>\n",
       "      <td>2024-06-18</td>\n",
       "      <td>2024-06-18</td>\n",
       "      <td>PeoplePolling</td>\n",
       "      <td>1228</td>\n",
       "      <td>D</td>\n",
       "      <td>2024-07-04</td>\n",
       "      <td>16</td>\n",
       "      <td>1</td>\n",
       "      <td>0.831387</td>\n",
       "      <td>1</td>\n",
       "      <td>...</td>\n",
       "      <td>NaN</td>\n",
       "      <td>NaN</td>\n",
       "      <td>NaN</td>\n",
       "      <td>NaN</td>\n",
       "      <td>NaN</td>\n",
       "      <td>NaN</td>\n",
       "      <td>NaN</td>\n",
       "      <td>NaN</td>\n",
       "      <td>NaN</td>\n",
       "      <td>NaN</td>\n",
       "    </tr>\n",
       "    <tr>\n",
       "      <th>5731</th>\n",
       "      <td>2024-06-07</td>\n",
       "      <td>2024-06-18</td>\n",
       "      <td>SavantaComRes</td>\n",
       "      <td>17812</td>\n",
       "      <td>B+</td>\n",
       "      <td>2024-07-04</td>\n",
       "      <td>27</td>\n",
       "      <td>1</td>\n",
       "      <td>0.831387</td>\n",
       "      <td>11</td>\n",
       "      <td>...</td>\n",
       "      <td>NaN</td>\n",
       "      <td>NaN</td>\n",
       "      <td>NaN</td>\n",
       "      <td>NaN</td>\n",
       "      <td>NaN</td>\n",
       "      <td>NaN</td>\n",
       "      <td>NaN</td>\n",
       "      <td>NaN</td>\n",
       "      <td>NaN</td>\n",
       "      <td>NaN</td>\n",
       "    </tr>\n",
       "    <tr>\n",
       "      <th>5732</th>\n",
       "      <td>2024-06-14</td>\n",
       "      <td>2024-06-18</td>\n",
       "      <td>Survation</td>\n",
       "      <td>1008</td>\n",
       "      <td>A-</td>\n",
       "      <td>2024-07-04</td>\n",
       "      <td>20</td>\n",
       "      <td>1</td>\n",
       "      <td>0.831387</td>\n",
       "      <td>4</td>\n",
       "      <td>...</td>\n",
       "      <td>NaN</td>\n",
       "      <td>NaN</td>\n",
       "      <td>NaN</td>\n",
       "      <td>NaN</td>\n",
       "      <td>NaN</td>\n",
       "      <td>NaN</td>\n",
       "      <td>NaN</td>\n",
       "      <td>NaN</td>\n",
       "      <td>NaN</td>\n",
       "      <td>NaN</td>\n",
       "    </tr>\n",
       "    <tr>\n",
       "      <th>5733</th>\n",
       "      <td>2024-06-11</td>\n",
       "      <td>2024-06-18</td>\n",
       "      <td>YouGov</td>\n",
       "      <td>39979</td>\n",
       "      <td>A-</td>\n",
       "      <td>2024-07-04</td>\n",
       "      <td>23</td>\n",
       "      <td>1</td>\n",
       "      <td>0.831387</td>\n",
       "      <td>7</td>\n",
       "      <td>...</td>\n",
       "      <td>NaN</td>\n",
       "      <td>NaN</td>\n",
       "      <td>NaN</td>\n",
       "      <td>NaN</td>\n",
       "      <td>NaN</td>\n",
       "      <td>NaN</td>\n",
       "      <td>NaN</td>\n",
       "      <td>NaN</td>\n",
       "      <td>NaN</td>\n",
       "      <td>NaN</td>\n",
       "    </tr>\n",
       "  </tbody>\n",
       "</table>\n",
       "<p>5734 rows × 31 columns</p>\n",
       "</div>"
      ],
      "text/plain": [
       "      startdate    enddate        pollster  samplesize rating next_elec_date  \\\n",
       "0    1988-01-11 1988-01-11         Marplan        1000     D-     1992-04-09   \n",
       "1    1988-01-11 1988-01-11             NOP        1000     D-     1992-04-09   \n",
       "2    1988-01-18 1988-01-18          Gallup        1000     D+     1992-04-09   \n",
       "3    1988-01-26 1988-01-26            MORI        1000      B     1992-04-09   \n",
       "4    1988-02-08 1988-02-08             NOP        1000     D-     1992-04-09   \n",
       "...         ...        ...             ...         ...    ...            ...   \n",
       "5729 2024-06-14 2024-06-17  RedfieldWilton       10000      D     2024-07-04   \n",
       "5730 2024-06-18 2024-06-18   PeoplePolling        1228      D     2024-07-04   \n",
       "5731 2024-06-07 2024-06-18   SavantaComRes       17812     B+     2024-07-04   \n",
       "5732 2024-06-14 2024-06-18       Survation        1008     A-     2024-07-04   \n",
       "5733 2024-06-11 2024-06-18          YouGov       39979     A-     2024-07-04   \n",
       "\n",
       "      days_to_elec  months_to_elec  months_to_elec_weight  poll_length  ...  \\\n",
       "0             1550              51               0.038831            1  ...   \n",
       "1             1550              51               0.038831            1  ...   \n",
       "2             1543              51               0.038831            1  ...   \n",
       "3             1535              51               0.038831            1  ...   \n",
       "4             1522              50               0.043555            1  ...   \n",
       "...            ...             ...                    ...          ...  ...   \n",
       "5729            20               1               0.831387            3  ...   \n",
       "5730            16               1               0.831387            1  ...   \n",
       "5731            27               1               0.831387           11  ...   \n",
       "5732            20               1               0.831387            4  ...   \n",
       "5733            23               1               0.831387            7  ...   \n",
       "\n",
       "       CON_ACT   LAB_ACT   LIB_ACT  BRX_ACT   GRE_ACT   OTH_ACT   PLC_ACT  \\\n",
       "0     0.419323  0.343843  0.178082      0.0  0.004797  0.030561  0.004664   \n",
       "1     0.419323  0.343843  0.178082      0.0  0.004797  0.030561  0.004664   \n",
       "2     0.419323  0.343843  0.178082      0.0  0.004797  0.030561  0.004664   \n",
       "3     0.419323  0.343843  0.178082      0.0  0.004797  0.030561  0.004664   \n",
       "4     0.419323  0.343843  0.178082      0.0  0.004797  0.030561  0.004664   \n",
       "...        ...       ...       ...      ...       ...       ...       ...   \n",
       "5729       NaN       NaN       NaN      NaN       NaN       NaN       NaN   \n",
       "5730       NaN       NaN       NaN      NaN       NaN       NaN       NaN   \n",
       "5731       NaN       NaN       NaN      NaN       NaN       NaN       NaN   \n",
       "5732       NaN       NaN       NaN      NaN       NaN       NaN       NaN   \n",
       "5733       NaN       NaN       NaN      NaN       NaN       NaN       NaN   \n",
       "\n",
       "      REF_ACT   SNP_ACT  UKI_ACT  \n",
       "0         0.0  0.018731      0.0  \n",
       "1         0.0  0.018731      0.0  \n",
       "2         0.0  0.018731      0.0  \n",
       "3         0.0  0.018731      0.0  \n",
       "4         0.0  0.018731      0.0  \n",
       "...       ...       ...      ...  \n",
       "5729      NaN       NaN      NaN  \n",
       "5730      NaN       NaN      NaN  \n",
       "5731      NaN       NaN      NaN  \n",
       "5732      NaN       NaN      NaN  \n",
       "5733      NaN       NaN      NaN  \n",
       "\n",
       "[5734 rows x 31 columns]"
      ]
     },
     "execution_count": 39,
     "metadata": {},
     "output_type": "execute_result"
    }
   ],
   "source": [
    "combined_df"
   ]
  },
  {
   "cell_type": "code",
   "execution_count": 40,
   "metadata": {},
   "outputs": [],
   "source": [
    "#Option 1: Saves to CSV for all years\n",
    "combined_df.to_csv('../processed_data/1988_to_2024_combined_clean_polling_and_results.csv', index=True)"
   ]
  },
  {
   "cell_type": "code",
   "execution_count": null,
   "metadata": {},
   "outputs": [],
   "source": [
    "#Option 2: Saves to CSV for post 2019\n",
    "# combined_df.to_csv('../processed_data/2019_to_2024_combined_clean_polling_and_results.csv', index=False)"
   ]
  }
 ],
 "metadata": {
  "kernelspec": {
   "display_name": "election_predictor",
   "language": "python",
   "name": "python3"
  },
  "language_info": {
   "codemirror_mode": {
    "name": "ipython",
    "version": 3
   },
   "file_extension": ".py",
   "mimetype": "text/x-python",
   "name": "python",
   "nbconvert_exporter": "python",
   "pygments_lexer": "ipython3",
   "version": "3.10.6"
  }
 },
 "nbformat": 4,
 "nbformat_minor": 2
}
