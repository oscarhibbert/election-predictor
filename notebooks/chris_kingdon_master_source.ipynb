{
 "cells": [
  {
   "cell_type": "code",
   "execution_count": 3,
   "metadata": {},
   "outputs": [],
   "source": [
    "import pandas as pd"
   ]
  },
  {
   "cell_type": "code",
   "execution_count": 7,
   "metadata": {},
   "outputs": [],
   "source": [
    "# Imports CSVs\n",
    "election_results_df = pd.read_csv('../processed_data/election_results_dataframe.csv')\n",
    "gb_polls = pd.read_csv('../processed_data/gb_polls.csv')"
   ]
  },
  {
   "cell_type": "code",
   "execution_count": 18,
   "metadata": {},
   "outputs": [],
   "source": [
    "# Renames column names\n",
    "election_results_df.rename(columns={'Year': 'election_year'}, inplace=True)"
   ]
  },
  {
   "cell_type": "code",
   "execution_count": 29,
   "metadata": {},
   "outputs": [],
   "source": [
    "filtered_gb_polls_df = gb_polls[gb_polls['election_year'] <= 2019]\n"
   ]
  },
  {
   "cell_type": "code",
   "execution_count": 30,
   "metadata": {},
   "outputs": [],
   "source": [
    "# Merges dataframes\n",
    "gb_polls_actuals = filtered_gb_polls_df.merge(election_results_df, on='election_year', how='left')"
   ]
  },
  {
   "cell_type": "code",
   "execution_count": 31,
   "metadata": {},
   "outputs": [
    {
     "data": {
      "text/plain": [
       "Index(['startdate', 'enddate', 'pollster', 'samplesize', 'pollster_rating',\n",
       "       'next_election_date', 'days_until_next_election', 'BRX', 'CON', 'GRE',\n",
       "       'LAB', 'LIB', 'NAT', 'OTH', 'PLC', 'SNP', 'UKI', 'election_year',\n",
       "       'Geography', 'Country', 'BRX_ACTUAL_PERCENTAGE',\n",
       "       'CON_ACTUAL_PERCENTAGE', 'GRE_ACTUAL_PERCENTAGE',\n",
       "       'LIB_ACTUAL_PERCENTAGE', 'LABOUR_ACTUAL_PERCENTAGE',\n",
       "       'PLC_ACTUAL_PERCENTAGE', 'SNP_ACTUAL_PERCENTAGE',\n",
       "       'UKI_ACTUAL_PERCENTAGE', 'OTH_PERCENTAGE'],\n",
       "      dtype='object')"
      ]
     },
     "execution_count": 31,
     "metadata": {},
     "output_type": "execute_result"
    }
   ],
   "source": [
    "gb_polls_actuals.columns"
   ]
  },
  {
   "cell_type": "code",
   "execution_count": 32,
   "metadata": {},
   "outputs": [],
   "source": [
    "rename_columns = {\n",
    "    'BRX': 'BRX_FC',\n",
    "    'CON': 'CON_FC',\n",
    "    'GRE': 'GRE_FC',\n",
    "    'LAB': 'LAB_FC',\n",
    "    'LIB': 'LIB_FC',\n",
    "    'NAT': 'NAT_FC',\n",
    "    'OTH': 'OTH_FC',\n",
    "    'PLC': 'PLC_FC',\n",
    "    'SNP': 'SNP_FC',\n",
    "    'UKI': 'UKI_FC',\n",
    "    'BRX_ACTUAL_PERCENTAGE': 'BRX_ACT',\n",
    "    'CON_ACTUAL_PERCENTAGE': 'CON_ACT',\n",
    "    'GRE_ACTUAL_PERCENTAGE': 'GRE_ACT',\n",
    "    'LIB_ACTUAL_PERCENTAGE': 'LIB_ACT',\n",
    "    'LABOUR_ACTUAL_PERCENTAGE': 'LAB_ACT',\n",
    "    'PLC_ACTUAL_PERCENTAGE': 'PLC_ACT',\n",
    "    'SNP_ACTUAL_PERCENTAGE': 'SNP_ACT',\n",
    "    'UKI_ACTUAL_PERCENTAGE': 'UKI_ACT'\n",
    "}"
   ]
  },
  {
   "cell_type": "code",
   "execution_count": 33,
   "metadata": {},
   "outputs": [],
   "source": [
    "gb_polls_actuals.rename(columns=rename_columns, inplace=True)\n"
   ]
  },
  {
   "cell_type": "code",
   "execution_count": 34,
   "metadata": {},
   "outputs": [],
   "source": [
    "gb_polls_actuals.drop(columns=['Country', 'samplesize'], inplace=True)"
   ]
  },
  {
   "cell_type": "code",
   "execution_count": 36,
   "metadata": {},
   "outputs": [],
   "source": [
    "combined_df = gb_polls_actuals"
   ]
  },
  {
   "cell_type": "code",
   "execution_count": 38,
   "metadata": {},
   "outputs": [],
   "source": [
    "combined_df.rename(columns={'pollster_rating': 'rating'}, inplace=True)"
   ]
  },
  {
   "cell_type": "code",
   "execution_count": 40,
   "metadata": {},
   "outputs": [],
   "source": [
    "combined_df.rename(columns={'next_election_date': 'next_elec_date'}, inplace=True)"
   ]
  },
  {
   "cell_type": "code",
   "execution_count": 42,
   "metadata": {},
   "outputs": [],
   "source": [
    "combined_df.rename(columns={'days_until_next_election': 'days_to_elec'}, inplace=True)"
   ]
  },
  {
   "cell_type": "code",
   "execution_count": 44,
   "metadata": {},
   "outputs": [],
   "source": [
    "combined_df.drop(columns='Geography', inplace=True)  # Drop column"
   ]
  },
  {
   "cell_type": "code",
   "execution_count": 47,
   "metadata": {},
   "outputs": [],
   "source": [
    "combined_df.drop(columns='election_year', inplace=True)  # Drop column"
   ]
  },
  {
   "cell_type": "code",
   "execution_count": 49,
   "metadata": {},
   "outputs": [],
   "source": [
    "combined_df.to_csv('../processed_data/combined_dataframe.csv', index=False)"
   ]
  },
  {
   "cell_type": "code",
   "execution_count": null,
   "metadata": {},
   "outputs": [],
   "source": []
  }
 ],
 "metadata": {
  "kernelspec": {
   "display_name": "election_predictor",
   "language": "python",
   "name": "python3"
  },
  "language_info": {
   "codemirror_mode": {
    "name": "ipython",
    "version": 3
   },
   "file_extension": ".py",
   "mimetype": "text/x-python",
   "name": "python",
   "nbconvert_exporter": "python",
   "pygments_lexer": "ipython3",
   "version": "3.10.6"
  }
 },
 "nbformat": 4,
 "nbformat_minor": 2
}
