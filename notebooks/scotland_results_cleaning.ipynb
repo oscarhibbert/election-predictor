{
 "cells": [
  {
   "cell_type": "code",
   "execution_count": 5,
   "metadata": {},
   "outputs": [],
   "source": [
    "import pandas as pd\n",
    "\n",
    "# Load the dataset\n",
    "file_path = '../raw_data/raw_election_results.csv'  # Update with your file path\n",
    "df = pd.read_csv(file_path)\n",
    "\n",
    "# Filter the dataset for UK-national results for the specified election years (2005, 2010, 2015, 2017, 2019)\n",
    "filtered_df = df[(df['Country'] == 'Scotland') & (df['Year'].isin([2005, 2010, 2015, 2017, 2019]))]\n"
   ]
  },
  {
   "cell_type": "code",
   "execution_count": 14,
   "metadata": {},
   "outputs": [],
   "source": [
    "# Drop the specified columns except 'Seats'\n",
    "columns_to_drop = ['Vote Change', 'Percent Change', 'Seat Change', 'Percent Seat Change']\n",
    "filtered_df_dropped = filtered_df.drop(columns=columns_to_drop)\n",
    "\n",
    "# Pivot the table for votes\n",
    "pivot_votes_df = filtered_df_dropped.pivot_table(\n",
    "    index=['Year', 'Geography', 'Country', 'Region or Nation', 'County'],\n",
    "    columns='Party',\n",
    "    values='Votes',\n",
    "    fill_value=0\n",
    ").reset_index()\n",
    "\n",
    "# Pivot the table for seats\n",
    "pivot_seats_df = filtered_df_dropped.pivot_table(\n",
    "    index=['Year', 'Geography', 'Country', 'Region or Nation', 'County'],\n",
    "    columns='Party',\n",
    "    values='Seats',\n",
    "    fill_value=0\n",
    ").reset_index()\n",
    "\n",
    "# Flatten the column hierarchy created by pivoting\n",
    "pivot_votes_df.columns.name = None\n",
    "pivot_seats_df.columns.name = None\n",
    "\n",
    "# Perform a join on the pivoted votes and seats dataframes\n",
    "pivot_df = pivot_votes_df.join(pivot_seats_df.set_index(['Year', 'Geography', 'Country', 'Region or Nation', 'County']),\n",
    "                               on=['Year', 'Geography', 'Country', 'Region or Nation', 'County'],\n",
    "                               lsuffix='_Votes', rsuffix='_Seats')\n",
    "\n",
    "# Add a column that tallies the total votes for each year\n",
    "pivot_df['Total Votes'] = pivot_df.filter(like='_Votes').sum(axis=1)\n",
    "\n",
    "# Calculate the percentage of total votes for each party\n",
    "parties = ['SNP', 'Labour', 'Liberal Democrats', 'Conservative', 'UK Independence Party (UKIP)', 'Scottish Green Party',\n",
    "           'The Brexit Party']\n",
    "\n",
    "for party in parties:\n",
    "    pivot_df[f'{party} Percentage'] = (pivot_df[f'{party}_Votes'] / pivot_df['Total Votes']) * 100\n",
    "\n",
    "# Select only the relevant columns for the specified parties and the associated data\n",
    "selected_parties = [\n",
    "    'SNP', 'Labour', 'Liberal Democrats', 'Conservative', 'UK Independence Party (UKIP)', 'Scottish Green Party',\n",
    "           'The Brexit Party', 'Total Votes'\n",
    "]\n",
    "\n",
    "# Columns to select: votes, seats, and percentage columns for the specified parties\n",
    "selected_columns = ['Year', 'Geography', 'Country']  # Base columns\n",
    "for party in selected_parties:\n",
    "    if party == 'Total Votes':\n",
    "        selected_columns.append(party)\n",
    "    else:\n",
    "        selected_columns.append(f'{party}_Votes')\n",
    "        selected_columns.append(f'{party}_Seats')\n",
    "        selected_columns.append(f'{party} Percentage')\n",
    "\n",
    "# Filter the dataframe to include only the selected columns\n",
    "filtered_pivot_df = pivot_df[selected_columns]\n",
    "#Renames DF\n",
    "df = filtered_pivot_df\n",
    "# Define a dictionary to rename the columns\n",
    "rename_dict = {\n",
    "    'British National Party_Votes': 'NAT_ACTUAL_VOTES',\n",
    "    'British National Party_Seats': 'NAT_ACTUAL_SEATS',\n",
    "    'British National Party Percentage': 'NAT_ACTUAL_PERCENTAGE',\n",
    "    'The Brexit Party_Votes': 'BRX_ACTUAL_VOTES',\n",
    "    'The Brexit Party_Seats': 'BRX_ACTUAL_SEATS',\n",
    "    'The Brexit Party Percentage': 'BRX_ACTUAL_PERCENTAGE',\n",
    "    'Conservative_Votes': 'CON_ACTUAL_VOTES',\n",
    "    'Conservative_Seats': 'CON_ACTUAL_SEATS',\n",
    "    'Conservative Percentage': 'CON_ACTUAL_PERCENTAGE',\n",
    "    'Scottish Green Party_Votes': 'GRE_ACTUAL_VOTES',\n",
    "    'Scottish Green Party_Seats': 'GRE_ACTUAL_SEATS',\n",
    "    'Scottish Green Party Percentage': 'GRE_ACTUAL_PERCENTAGE',\n",
    "    'Liberal Democrats_Votes': 'LIB_ACTUAL_VOTES',\n",
    "    'Liberal Democrats_Seats': 'LIB_ACTUAL_SEATS',\n",
    "    'Liberal Democrats Percentage': 'LIB_ACTUAL_PERCENTAGE',\n",
    "    'Labour_Votes': 'LABOUR_ACTUAL_VOTES',\n",
    "    'Labour_Seats': 'LABOUR_ACTUAL_SEATS',\n",
    "    'Labour Percentage': 'LABOUR_ACTUAL_PERCENTAGE',\n",
    "    'Plaid Cymru_Votes': 'PLC_ACTUAL_VOTES',\n",
    "    'Plaid Cymru_Seats': 'PLC_ACTUAL_SEATS',\n",
    "    'Plaid Cymru Percentage': 'PLC_ACTUAL_PERCENTAGE',\n",
    "    'SNP_Votes': 'SNP_ACTUAL_VOTES',\n",
    "    'SNP_Seats': 'SNP_ACTUAL_SEATS',\n",
    "    'SNP Percentage': 'SNP_ACTUAL_PERCENTAGE',\n",
    "    'UK Independence Party (UKIP)_Votes': 'UKI_ACTUAL_VOTES',\n",
    "    'UK Independence Party (UKIP)_Seats': 'UKI_ACTUAL_SEATS',\n",
    "    'UK Independence Party (UKIP) Percentage': 'UKI_ACTUAL_PERCENTAGE'\n",
    "}"
   ]
  },
  {
   "cell_type": "code",
   "execution_count": 15,
   "metadata": {},
   "outputs": [
    {
     "name": "stderr",
     "output_type": "stream",
     "text": [
      "/tmp/ipykernel_99295/1736961953.py:2: SettingWithCopyWarning: \n",
      "A value is trying to be set on a copy of a slice from a DataFrame\n",
      "\n",
      "See the caveats in the documentation: https://pandas.pydata.org/pandas-docs/stable/user_guide/indexing.html#returning-a-view-versus-a-copy\n",
      "  filtered_pivot_df.rename(columns=rename_dict, inplace=True)\n"
     ]
    }
   ],
   "source": [
    "# Renames columns, then dataframe\n",
    "filtered_pivot_df.rename(columns=rename_dict, inplace=True)\n",
    "df = filtered_pivot_df"
   ]
  },
  {
   "cell_type": "code",
   "execution_count": 16,
   "metadata": {},
   "outputs": [
    {
     "data": {
      "text/plain": [
       "Index(['Year', 'Geography', 'Country', 'SNP_ACTUAL_VOTES', 'SNP_ACTUAL_SEATS',\n",
       "       'SNP_ACTUAL_PERCENTAGE', 'LABOUR_ACTUAL_VOTES', 'LABOUR_ACTUAL_SEATS',\n",
       "       'LABOUR_ACTUAL_PERCENTAGE', 'LIB_ACTUAL_VOTES', 'LIB_ACTUAL_SEATS',\n",
       "       'LIB_ACTUAL_PERCENTAGE', 'CON_ACTUAL_VOTES', 'CON_ACTUAL_SEATS',\n",
       "       'CON_ACTUAL_PERCENTAGE', 'UKI_ACTUAL_VOTES', 'UKI_ACTUAL_SEATS',\n",
       "       'UKI_ACTUAL_PERCENTAGE', 'GRE_ACTUAL_VOTES', 'GRE_ACTUAL_SEATS',\n",
       "       'GRE_ACTUAL_PERCENTAGE', 'BRX_ACTUAL_VOTES', 'BRX_ACTUAL_SEATS',\n",
       "       'BRX_ACTUAL_PERCENTAGE', 'Total Votes'],\n",
       "      dtype='object')"
      ]
     },
     "execution_count": 16,
     "metadata": {},
     "output_type": "execute_result"
    }
   ],
   "source": [
    "df.columns"
   ]
  },
  {
   "cell_type": "code",
   "execution_count": 21,
   "metadata": {},
   "outputs": [
    {
     "name": "stderr",
     "output_type": "stream",
     "text": [
      "/tmp/ipykernel_99295/2229663795.py:2: SettingWithCopyWarning: \n",
      "A value is trying to be set on a copy of a slice from a DataFrame.\n",
      "Try using .loc[row_indexer,col_indexer] = value instead\n",
      "\n",
      "See the caveats in the documentation: https://pandas.pydata.org/pandas-docs/stable/user_guide/indexing.html#returning-a-view-versus-a-copy\n",
      "  df['OTH_ACTUAL_VOTES'] = df ['Total Votes'] -df['UKI_ACTUAL_VOTES'] - df['GRE_ACTUAL_VOTES'] - df['BRX_ACTUAL_PERCENTAGE'] - df['CON_ACTUAL_VOTES']  - df['LIB_ACTUAL_VOTES'] - df['LABOUR_ACTUAL_VOTES'] - df['SNP_ACTUAL_VOTES']\n",
      "/tmp/ipykernel_99295/2229663795.py:3: SettingWithCopyWarning: \n",
      "A value is trying to be set on a copy of a slice from a DataFrame.\n",
      "Try using .loc[row_indexer,col_indexer] = value instead\n",
      "\n",
      "See the caveats in the documentation: https://pandas.pydata.org/pandas-docs/stable/user_guide/indexing.html#returning-a-view-versus-a-copy\n",
      "  df['OTH_SEATs'] = 650  - df['CON_ACTUAL_SEATS'] - df['LIB_ACTUAL_SEATS'] - df['LABOUR_ACTUAL_SEATS']- df['SNP_ACTUAL_SEATS'] - df['UKI_ACTUAL_SEATS'] - df['GRE_ACTUAL_SEATS'] - df['BRX_ACTUAL_SEATS']\n",
      "/tmp/ipykernel_99295/2229663795.py:4: SettingWithCopyWarning: \n",
      "A value is trying to be set on a copy of a slice from a DataFrame.\n",
      "Try using .loc[row_indexer,col_indexer] = value instead\n",
      "\n",
      "See the caveats in the documentation: https://pandas.pydata.org/pandas-docs/stable/user_guide/indexing.html#returning-a-view-versus-a-copy\n",
      "  df['OTH_PERCENTAGE'] = 100  - df['CON_ACTUAL_PERCENTAGE']  - df['LIB_ACTUAL_PERCENTAGE'] - df['LABOUR_ACTUAL_PERCENTAGE'] - df['SNP_ACTUAL_PERCENTAGE'] - df['UKI_ACTUAL_PERCENTAGE'] - df['GRE_ACTUAL_PERCENTAGE'] - df['BRX_ACTUAL_PERCENTAGE']\n"
     ]
    }
   ],
   "source": [
    "# Calculates other\n",
    "df['OTH_ACTUAL_VOTES'] = df ['Total Votes'] -df['UKI_ACTUAL_VOTES'] - df['GRE_ACTUAL_VOTES'] - df['BRX_ACTUAL_PERCENTAGE'] - df['CON_ACTUAL_VOTES']  - df['LIB_ACTUAL_VOTES'] - df['LABOUR_ACTUAL_VOTES'] - df['SNP_ACTUAL_VOTES']\n",
    "df['OTH_SEATs'] = 650  - df['CON_ACTUAL_SEATS'] - df['LIB_ACTUAL_SEATS'] - df['LABOUR_ACTUAL_SEATS']- df['SNP_ACTUAL_SEATS'] - df['UKI_ACTUAL_SEATS'] - df['GRE_ACTUAL_SEATS'] - df['BRX_ACTUAL_SEATS']\n",
    "df['OTH_PERCENTAGE'] = 100  - df['CON_ACTUAL_PERCENTAGE']  - df['LIB_ACTUAL_PERCENTAGE'] - df['LABOUR_ACTUAL_PERCENTAGE'] - df['SNP_ACTUAL_PERCENTAGE'] - df['UKI_ACTUAL_PERCENTAGE'] - df['GRE_ACTUAL_PERCENTAGE'] - df['BRX_ACTUAL_PERCENTAGE']"
   ]
  },
  {
   "cell_type": "code",
   "execution_count": 22,
   "metadata": {},
   "outputs": [],
   "source": [
    "# Renames dataframe\n",
    "election_results_df = df"
   ]
  },
  {
   "cell_type": "code",
   "execution_count": 23,
   "metadata": {},
   "outputs": [],
   "source": [
    "# Trims dataframe down to just percentage column so that it can be used in the next step\n",
    "percentage_columns = ['Year', 'Geography', 'Country']\n",
    "percentage_columns += [col for col in filtered_pivot_df.columns if 'PERCENTAGE' in col]\n",
    "\n",
    "# Filter the dataframe to include only the selected columns\n",
    "percentage_df = filtered_pivot_df[percentage_columns]"
   ]
  },
  {
   "cell_type": "code",
   "execution_count": 24,
   "metadata": {},
   "outputs": [],
   "source": [
    "percentage_df = percentage_df[percentage_df['Geography'] == 'country']"
   ]
  },
  {
   "cell_type": "code",
   "execution_count": 25,
   "metadata": {},
   "outputs": [],
   "source": [
    "# Exports to CSV\n",
    "percentage_df.to_csv('../processed_data/scotland_election_results_dataframe.csv', index=False)"
   ]
  },
  {
   "cell_type": "code",
   "execution_count": null,
   "metadata": {},
   "outputs": [],
   "source": []
  }
 ],
 "metadata": {
  "kernelspec": {
   "display_name": "election_predictor",
   "language": "python",
   "name": "python3"
  },
  "language_info": {
   "codemirror_mode": {
    "name": "ipython",
    "version": 3
   },
   "file_extension": ".py",
   "mimetype": "text/x-python",
   "name": "python",
   "nbconvert_exporter": "python",
   "pygments_lexer": "ipython3",
   "version": "3.10.6"
  }
 },
 "nbformat": 4,
 "nbformat_minor": 2
}
