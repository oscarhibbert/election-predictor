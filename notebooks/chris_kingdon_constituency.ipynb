{
 "cells": [
  {
   "cell_type": "code",
   "execution_count": 31,
   "metadata": {},
   "outputs": [
    {
     "name": "stderr",
     "output_type": "stream",
     "text": [
      "/tmp/ipykernel_4650/2043912932.py:7: SettingWithCopyWarning: \n",
      "A value is trying to be set on a copy of a slice from a DataFrame.\n",
      "Try using .loc[row_indexer,col_indexer] = value instead\n",
      "\n",
      "See the caveats in the documentation: https://pandas.pydata.org/pandas-docs/stable/user_guide/indexing.html#returning-a-view-versus-a-copy\n",
      "  filtered_df['new_index'] = filtered_df['Election Year'].astype(str) + '_' + filtered_df['Constituency'] + '_' + filtered_df['Boundary Year'].astype(str)\n"
     ]
    }
   ],
   "source": [
    "import pandas as pd\n",
    "# Imports CSV\n",
    "df = pd.read_csv('../raw_data/constituency_raw.csv')\n",
    "# Reduces CSV to relevant election years\n",
    "filtered_df = df[df['Election Year'].isin([2005, 2010, 2015, 2017, 2019])]\n",
    "#Creates new index\n",
    "filtered_df['new_index'] = filtered_df['Election Year'].astype(str) + '_' + filtered_df['Constituency'] + '_' + filtered_df['Boundary Year'].astype(str)\n",
    "# Pivots table for the first time\n",
    "pivot_votes_df = filtered_df.pivot_table(\n",
    "    index=['Election Year', 'Boundary Year', 'Constituency', 'Candidate','Party', 'new_index'],\n",
    "    values='Votes',\n",
    "    fill_value=0\n",
    ").reset_index()"
   ]
  },
  {
   "cell_type": "code",
   "execution_count": 32,
   "metadata": {},
   "outputs": [],
   "source": [
    "# Reduces CSV to relevant parties\n",
    "parties_cleaned = pivot_votes_df.reset_index(drop=False)['Party'].apply(lambda x: x if x in ['The Brexit Party', 'Conservative', 'Green Party', 'Liberal Democrats', 'Labour', 'Plaid Cymru', 'SNP', 'UK Independence Party (UKIP)'] else 'Other')\n",
    "pivot_votes_df['Party_cleaned'] = parties_cleaned\n"
   ]
  },
  {
   "cell_type": "code",
   "execution_count": 33,
   "metadata": {},
   "outputs": [],
   "source": [
    "#Drops irrelevant columns\n",
    "pivot_votes_df.drop(columns='Party', inplace=True)\n",
    "pivot_votes_df.set_index('new_index', inplace=True)\n"
   ]
  },
  {
   "cell_type": "code",
   "execution_count": 34,
   "metadata": {},
   "outputs": [],
   "source": [
    "# Makes second pivot\n",
    "pivot_table = pd.pivot_table(pivot_votes_df,\n",
    "                             index=['new_index'],\n",
    "                             columns=['Party_cleaned'],\n",
    "                             values='Votes',\n",
    "                             aggfunc='sum',\n",
    "                             fill_value=0)"
   ]
  },
  {
   "cell_type": "code",
   "execution_count": 35,
   "metadata": {},
   "outputs": [],
   "source": [
    "# Renames columns to follow our style\n",
    "rename_dict = {\n",
    "    'The Brexit Party': 'BRX_ACTUAL_CONS',\n",
    "    'Conservative': 'CON_ACTUAL_CONS',\n",
    "    'Green Party': 'GRE_ACTUAL_CONS',\n",
    "    'Liberal Democrats': 'LIB_ACTUAL_CONS',\n",
    "    'Labour': 'LAB_ACTUAL_CONS',\n",
    "    'Plaid Cymru': 'PLC_ACTUAL_CONS',\n",
    "    'SNP': 'SNP_ACTUAL_CONS',\n",
    "    'UK Independence Party (UKIP)': 'UKI_ACTUAL_CONS',\n",
    "    'Other': 'OTH_ACTUAL_CONS'\n",
    "}\n",
    "pivot_table.rename(columns=rename_dict, inplace=True)"
   ]
  },
  {
   "cell_type": "code",
   "execution_count": 36,
   "metadata": {},
   "outputs": [],
   "source": [
    "#Readds relevant columns\n",
    "pivot_table['Election Year'] = pivot_table.index.str.split('_').str[0].astype(int)\n",
    "pivot_table['Constituency'] = pivot_table.index.str.split('_').str[1]\n",
    "pivot_table['Boundary Year'] = pivot_table.index.str.split('_').str[2]"
   ]
  },
  {
   "cell_type": "code",
   "execution_count": 37,
   "metadata": {},
   "outputs": [],
   "source": [
    "# Reorders columns\n",
    "columns_reordered = ['Constituency', 'Election Year', 'Boundary Year',\n",
    "                     'CON_ACTUAL_CONS', 'GRE_ACTUAL_CONS', 'LAB_ACTUAL_CONS',\n",
    "                     'LIB_ACTUAL_CONS', 'OTH_ACTUAL_CONS', 'PLC_ACTUAL_CONS',\n",
    "                     'SNP_ACTUAL_CONS', 'BRX_ACTUAL_CONS', 'UKI_ACTUAL_CONS']\n",
    "df_final = pivot_table[columns_reordered]"
   ]
  },
  {
   "cell_type": "code",
   "execution_count": 38,
   "metadata": {},
   "outputs": [
    {
     "name": "stderr",
     "output_type": "stream",
     "text": [
      "/tmp/ipykernel_4650/2241159542.py:2: SettingWithCopyWarning: \n",
      "A value is trying to be set on a copy of a slice from a DataFrame.\n",
      "Try using .loc[row_indexer,col_indexer] = value instead\n",
      "\n",
      "See the caveats in the documentation: https://pandas.pydata.org/pandas-docs/stable/user_guide/indexing.html#returning-a-view-versus-a-copy\n",
      "  df_final['total_votes'] = df_final[['CON_ACTUAL_CONS', 'GRE_ACTUAL_CONS', 'LAB_ACTUAL_CONS', 'LIB_ACTUAL_CONS',\n"
     ]
    }
   ],
   "source": [
    "# Calculates total votes\n",
    "df_final['total_votes'] = df_final[['CON_ACTUAL_CONS', 'GRE_ACTUAL_CONS', 'LAB_ACTUAL_CONS', 'LIB_ACTUAL_CONS',\n",
    "                  'OTH_ACTUAL_CONS', 'PLC_ACTUAL_CONS', 'SNP_ACTUAL_CONS', 'BRX_ACTUAL_CONS',\n",
    "                  'UKI_ACTUAL_CONS']].sum(axis=1)"
   ]
  },
  {
   "cell_type": "code",
   "execution_count": 39,
   "metadata": {},
   "outputs": [],
   "source": [
    "# Switches to percentage\n",
    "df_percentage = df_final[['CON_ACTUAL_CONS', 'GRE_ACTUAL_CONS', 'LAB_ACTUAL_CONS', 'LIB_ACTUAL_CONS',\n",
    "                    'OTH_ACTUAL_CONS', 'PLC_ACTUAL_CONS', 'SNP_ACTUAL_CONS', 'BRX_ACTUAL_CONS',\n",
    "                    'UKI_ACTUAL_CONS']].div(df_final['total_votes'], axis=0) * 100"
   ]
  },
  {
   "cell_type": "code",
   "execution_count": 40,
   "metadata": {},
   "outputs": [],
   "source": [
    "df_result = pd.concat([df_final[['Election Year', 'Constituency']], df_percentage], axis=1)\n"
   ]
  },
  {
   "cell_type": "code",
   "execution_count": 41,
   "metadata": {},
   "outputs": [],
   "source": [
    "df_result.rename(columns={'Election Year': 'election_year'}, inplace=True)"
   ]
  },
  {
   "cell_type": "code",
   "execution_count": 58,
   "metadata": {},
   "outputs": [],
   "source": [
    "# Imports national election results to concatenante\n",
    "election_results_df = pd.read_csv('../processed_data/election_results_dataframe.csv')\n",
    "election_results_df.rename(columns={'Year': 'election_year'}, inplace=True)"
   ]
  },
  {
   "cell_type": "code",
   "execution_count": 59,
   "metadata": {},
   "outputs": [],
   "source": [
    "election_results_df.rename(columns={'Year': 'election_year'}, inplace=True)"
   ]
  },
  {
   "cell_type": "code",
   "execution_count": 60,
   "metadata": {},
   "outputs": [],
   "source": [
    "# Merges national onto constituency election results\n",
    "cons_result_comp = df_result.merge(election_results_df, on='election_year', how='left')"
   ]
  },
  {
   "cell_type": "code",
   "execution_count": 61,
   "metadata": {},
   "outputs": [],
   "source": [
    "# Renames national result columns\n",
    "rename_dict2 = {\n",
    "    'BRX_ACTUAL_PERCENTAGE': 'BRX_NAT_RESULT',\n",
    "    'CON_ACTUAL_PERCENTAGE': 'CON_NAT_RESULT',\n",
    "    'GRE_ACTUAL_PERCENTAGE': 'GRE_NAT_RESULT',\n",
    "    'LIB_ACTUAL_PERCENTAGE': 'LIB_NAT_RESULT',\n",
    "    'LABOUR_ACTUAL_PERCENTAGE': 'LAB_NAT_RESULT',\n",
    "    'PLC_ACTUAL_PERCENTAGE': 'PLC_NAT_RESULT',\n",
    "    'SNP_ACTUAL_PERCENTAGE': 'SNP_NAT_RESULT',\n",
    "    'UKI_ACTUAL_PERCENTAGE': 'UKI_NAT_RESULT',\n",
    "    'OTH_PERCENTAGE': 'OTH_NAT_RESULT'\n",
    "}\n",
    "cons_result_comp.rename(columns=rename_dict2, inplace=True)\n"
   ]
  },
  {
   "cell_type": "code",
   "execution_count": 62,
   "metadata": {},
   "outputs": [],
   "source": [
    "# Drops and renames columns\n",
    "cons_result_comp.drop(columns=['Geography', 'Country'], inplace=True)\n",
    "cons_result_comp.rename(columns={'CON_ACT_CONS': 'CON_ACTUAL_CONS'}, inplace=True)\n",
    "cons_result_comp.rename(columns={'BRX_ACT_CONS': 'BRX_ACTUAL_CONS'}, inplace=True)"
   ]
  },
  {
   "cell_type": "code",
   "execution_count": 63,
   "metadata": {},
   "outputs": [],
   "source": [
    "# Calculates bias score\n",
    "for index, row in cons_result_comp.iterrows():\n",
    "    bias_scores = {}\n",
    "    # Loop through each party\n",
    "    for party in ['CON', 'GRE', 'LAB', 'LIB', 'OTH', 'PLC', 'SNP', 'BRX', 'UKI']:\n",
    "        # Calculate the absolute difference between the constituency result and national result for each party\n",
    "        bias_scores[party] = (row[f'{party}_ACTUAL_CONS'] - row[f'{party}_NAT_RESULT'])\n",
    "    # Assign the bias scores to the respective columns\n",
    "    for party, score in bias_scores.items():\n",
    "        cons_result_comp.loc[index, f'{party}_Bias_Score'] = score"
   ]
  },
  {
   "cell_type": "code",
   "execution_count": 64,
   "metadata": {},
   "outputs": [],
   "source": [
    "# Filters datafra,e\n",
    "biases_df = cons_result_comp.filter(like='Bias')"
   ]
  },
  {
   "cell_type": "code",
   "execution_count": 65,
   "metadata": {},
   "outputs": [],
   "source": [
    "# Calculates bias per constituency\n",
    "average_biases_per_constituency = biases_df.groupby(cons_result_comp['Constituency']).mean()"
   ]
  },
  {
   "cell_type": "code",
   "execution_count": 73,
   "metadata": {},
   "outputs": [
    {
     "data": {
      "text/plain": [
       "Index(['CON_Bias_Score', 'GRE_Bias_Score', 'LAB_Bias_Score', 'LIB_Bias_Score',\n",
       "       'OTH_Bias_Score', 'PLC_Bias_Score', 'SNP_Bias_Score', 'BRX_Bias_Score',\n",
       "       'UKI_Bias_Score'],\n",
       "      dtype='object')"
      ]
     },
     "execution_count": 73,
     "metadata": {},
     "output_type": "execute_result"
    }
   ],
   "source": [
    "average_biases_per_constituency"
   ]
  },
  {
   "cell_type": "code",
   "execution_count": 74,
   "metadata": {},
   "outputs": [],
   "source": [
    " average_biases_per_constituency.to_csv('../raw_data/constituency_bias_dataframe.csv', index=True)"
   ]
  }
 ],
 "metadata": {
  "kernelspec": {
   "display_name": "election_predictor",
   "language": "python",
   "name": "python3"
  },
  "language_info": {
   "codemirror_mode": {
    "name": "ipython",
    "version": 3
   },
   "file_extension": ".py",
   "mimetype": "text/x-python",
   "name": "python",
   "nbconvert_exporter": "python",
   "pygments_lexer": "ipython3",
   "version": "3.10.6"
  }
 },
 "nbformat": 4,
 "nbformat_minor": 2
}
