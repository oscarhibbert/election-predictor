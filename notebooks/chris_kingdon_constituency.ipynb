{
 "cells": [
  {
   "cell_type": "code",
   "execution_count": 219,
   "metadata": {},
   "outputs": [],
   "source": [
    "import pandas as pd"
   ]
  },
  {
   "cell_type": "code",
   "execution_count": 220,
   "metadata": {},
   "outputs": [],
   "source": [
    "# Imports CSV\n",
    "df = pd.read_csv('../processed_data/constituency_results.csv')"
   ]
  },
  {
   "cell_type": "code",
   "execution_count": 222,
   "metadata": {},
   "outputs": [],
   "source": [
    "# Reduces CSV to relevant election years\n",
    "filtered_df = df[df['Election Year'].isin([2005, 2010, 2015, 2017, 2019])]\n"
   ]
  },
  {
   "cell_type": "code",
   "execution_count": 239,
   "metadata": {},
   "outputs": [
    {
     "name": "stderr",
     "output_type": "stream",
     "text": [
      "/tmp/ipykernel_380621/2758622563.py:2: SettingWithCopyWarning: \n",
      "A value is trying to be set on a copy of a slice from a DataFrame.\n",
      "Try using .loc[row_indexer,col_indexer] = value instead\n",
      "\n",
      "See the caveats in the documentation: https://pandas.pydata.org/pandas-docs/stable/user_guide/indexing.html#returning-a-view-versus-a-copy\n",
      "  filtered_df['new_index'] = filtered_df['Election Year'].astype(str) + '_' + filtered_df['Constituency']\n"
     ]
    }
   ],
   "source": [
    "#Creates new index\n",
    "filtered_df['new_index'] = filtered_df['Election Year'].astype(str) + '_' + filtered_df['Constituency']"
   ]
  },
  {
   "cell_type": "code",
   "execution_count": 240,
   "metadata": {},
   "outputs": [
    {
     "data": {
      "text/html": [
       "<div>\n",
       "<style scoped>\n",
       "    .dataframe tbody tr th:only-of-type {\n",
       "        vertical-align: middle;\n",
       "    }\n",
       "\n",
       "    .dataframe tbody tr th {\n",
       "        vertical-align: top;\n",
       "    }\n",
       "\n",
       "    .dataframe thead th {\n",
       "        text-align: right;\n",
       "    }\n",
       "</style>\n",
       "<table border=\"1\" class=\"dataframe\">\n",
       "  <thead>\n",
       "    <tr style=\"text-align: right;\">\n",
       "      <th></th>\n",
       "      <th>Election Year</th>\n",
       "      <th>Boundary Year</th>\n",
       "      <th>Constituency</th>\n",
       "      <th>Candidate</th>\n",
       "      <th>Party</th>\n",
       "      <th>Votes</th>\n",
       "      <th>Vote Share</th>\n",
       "      <th>new_index</th>\n",
       "    </tr>\n",
       "  </thead>\n",
       "  <tbody>\n",
       "    <tr>\n",
       "      <th>30087</th>\n",
       "      <td>2005</td>\n",
       "      <td>2005</td>\n",
       "      <td>Amber Valley</td>\n",
       "      <td>Paul Snell</td>\n",
       "      <td>British National Party</td>\n",
       "      <td>1243</td>\n",
       "      <td>2.6</td>\n",
       "      <td>2005_Amber Valley</td>\n",
       "    </tr>\n",
       "    <tr>\n",
       "      <th>30088</th>\n",
       "      <td>2005</td>\n",
       "      <td>2005</td>\n",
       "      <td>Amber Valley</td>\n",
       "      <td>Gillian Shaw</td>\n",
       "      <td>Conservative</td>\n",
       "      <td>16318</td>\n",
       "      <td>34.4</td>\n",
       "      <td>2005_Amber Valley</td>\n",
       "    </tr>\n",
       "    <tr>\n",
       "      <th>30089</th>\n",
       "      <td>2005</td>\n",
       "      <td>2005</td>\n",
       "      <td>Amber Valley</td>\n",
       "      <td>Kate Smith</td>\n",
       "      <td>Liberal Democrats</td>\n",
       "      <td>6225</td>\n",
       "      <td>13.1</td>\n",
       "      <td>2005_Amber Valley</td>\n",
       "    </tr>\n",
       "    <tr>\n",
       "      <th>30090</th>\n",
       "      <td>2005</td>\n",
       "      <td>2005</td>\n",
       "      <td>Amber Valley</td>\n",
       "      <td>Hugh Price</td>\n",
       "      <td>UK Independence Party (UKIP)</td>\n",
       "      <td>788</td>\n",
       "      <td>1.7</td>\n",
       "      <td>2005_Amber Valley</td>\n",
       "    </tr>\n",
       "    <tr>\n",
       "      <th>30091</th>\n",
       "      <td>2005</td>\n",
       "      <td>2005</td>\n",
       "      <td>Amber Valley</td>\n",
       "      <td>Alex Stevenson</td>\n",
       "      <td>Veritas</td>\n",
       "      <td>1224</td>\n",
       "      <td>2.6</td>\n",
       "      <td>2005_Amber Valley</td>\n",
       "    </tr>\n",
       "    <tr>\n",
       "      <th>...</th>\n",
       "      <td>...</td>\n",
       "      <td>...</td>\n",
       "      <td>...</td>\n",
       "      <td>...</td>\n",
       "      <td>...</td>\n",
       "      <td>...</td>\n",
       "      <td>...</td>\n",
       "      <td>...</td>\n",
       "    </tr>\n",
       "    <tr>\n",
       "      <th>48366</th>\n",
       "      <td>2019</td>\n",
       "      <td>2010</td>\n",
       "      <td>Wrexham</td>\n",
       "      <td>Tim Sly</td>\n",
       "      <td>Liberal Democrats</td>\n",
       "      <td>1447</td>\n",
       "      <td>4.3</td>\n",
       "      <td>2019_Wrexham</td>\n",
       "    </tr>\n",
       "    <tr>\n",
       "      <th>48367</th>\n",
       "      <td>2019</td>\n",
       "      <td>2010</td>\n",
       "      <td>Ynys Mon</td>\n",
       "      <td>Virginia Crosbie</td>\n",
       "      <td>Conservative</td>\n",
       "      <td>12959</td>\n",
       "      <td>35.5</td>\n",
       "      <td>2019_Ynys Mon</td>\n",
       "    </tr>\n",
       "    <tr>\n",
       "      <th>48368</th>\n",
       "      <td>2019</td>\n",
       "      <td>2010</td>\n",
       "      <td>Ynys Mon</td>\n",
       "      <td>Helen Jenner</td>\n",
       "      <td>The Brexit Party</td>\n",
       "      <td>2184</td>\n",
       "      <td>6.0</td>\n",
       "      <td>2019_Ynys Mon</td>\n",
       "    </tr>\n",
       "    <tr>\n",
       "      <th>48369</th>\n",
       "      <td>2019</td>\n",
       "      <td>2010</td>\n",
       "      <td>Ynys Mon</td>\n",
       "      <td>Mary Roberts</td>\n",
       "      <td>Labour</td>\n",
       "      <td>10991</td>\n",
       "      <td>30.1</td>\n",
       "      <td>2019_Ynys Mon</td>\n",
       "    </tr>\n",
       "    <tr>\n",
       "      <th>48370</th>\n",
       "      <td>2019</td>\n",
       "      <td>2010</td>\n",
       "      <td>Ynys Mon</td>\n",
       "      <td>Aled ap Dafydd</td>\n",
       "      <td>Plaid Cymru</td>\n",
       "      <td>10418</td>\n",
       "      <td>28.5</td>\n",
       "      <td>2019_Ynys Mon</td>\n",
       "    </tr>\n",
       "  </tbody>\n",
       "</table>\n",
       "<p>18284 rows × 8 columns</p>\n",
       "</div>"
      ],
      "text/plain": [
       "       Election Year  Boundary Year  Constituency         Candidate  \\\n",
       "30087           2005           2005  Amber Valley        Paul Snell   \n",
       "30088           2005           2005  Amber Valley      Gillian Shaw   \n",
       "30089           2005           2005  Amber Valley        Kate Smith   \n",
       "30090           2005           2005  Amber Valley        Hugh Price   \n",
       "30091           2005           2005  Amber Valley    Alex Stevenson   \n",
       "...              ...            ...           ...               ...   \n",
       "48366           2019           2010       Wrexham           Tim Sly   \n",
       "48367           2019           2010      Ynys Mon  Virginia Crosbie   \n",
       "48368           2019           2010      Ynys Mon      Helen Jenner   \n",
       "48369           2019           2010      Ynys Mon      Mary Roberts   \n",
       "48370           2019           2010      Ynys Mon    Aled ap Dafydd   \n",
       "\n",
       "                              Party  Votes  Vote Share          new_index  \n",
       "30087        British National Party   1243         2.6  2005_Amber Valley  \n",
       "30088                  Conservative  16318        34.4  2005_Amber Valley  \n",
       "30089             Liberal Democrats   6225        13.1  2005_Amber Valley  \n",
       "30090  UK Independence Party (UKIP)    788         1.7  2005_Amber Valley  \n",
       "30091                       Veritas   1224         2.6  2005_Amber Valley  \n",
       "...                             ...    ...         ...                ...  \n",
       "48366             Liberal Democrats   1447         4.3       2019_Wrexham  \n",
       "48367                  Conservative  12959        35.5      2019_Ynys Mon  \n",
       "48368              The Brexit Party   2184         6.0      2019_Ynys Mon  \n",
       "48369                        Labour  10991        30.1      2019_Ynys Mon  \n",
       "48370                   Plaid Cymru  10418        28.5      2019_Ynys Mon  \n",
       "\n",
       "[18284 rows x 8 columns]"
      ]
     },
     "execution_count": 240,
     "metadata": {},
     "output_type": "execute_result"
    }
   ],
   "source": [
    "filtered_df"
   ]
  },
  {
   "cell_type": "code",
   "execution_count": 241,
   "metadata": {},
   "outputs": [],
   "source": [
    "pivot_votes_df = filtered_df.pivot_table(\n",
    "    index=['Election Year', 'Boundary Year', 'Constituency', 'Candidate','Party', 'new_index'],\n",
    "    values='Votes',\n",
    "    fill_value=0\n",
    ").reset_index()\n"
   ]
  },
  {
   "cell_type": "code",
   "execution_count": 242,
   "metadata": {},
   "outputs": [],
   "source": [
    "parties_cleaned = pivot_votes_df.reset_index(drop=False)['Party'].apply(lambda x: x if x in ['The Brexit Party', 'Conservative', 'Green Party', 'Liberal Democrats',\n",
    "    'Labour', 'Plaid Cymru', 'SNP', 'UK Independence Party (UKIP)'] else 'Other')"
   ]
  },
  {
   "cell_type": "code",
   "execution_count": 244,
   "metadata": {},
   "outputs": [],
   "source": [
    "pivot_votes_df['Party_cleaned'] = parties_cleaned\n"
   ]
  },
  {
   "cell_type": "code",
   "execution_count": 245,
   "metadata": {},
   "outputs": [],
   "source": [
    "pivot_votes_df.drop(columns='Party', inplace=True)"
   ]
  },
  {
   "cell_type": "code",
   "execution_count": 247,
   "metadata": {},
   "outputs": [],
   "source": [
    "pivot_votes_df.set_index('new_index', inplace=True)"
   ]
  },
  {
   "cell_type": "code",
   "execution_count": null,
   "metadata": {},
   "outputs": [],
   "source": []
  }
 ],
 "metadata": {
  "kernelspec": {
   "display_name": "election_predictor",
   "language": "python",
   "name": "python3"
  },
  "language_info": {
   "codemirror_mode": {
    "name": "ipython",
    "version": 3
   },
   "file_extension": ".py",
   "mimetype": "text/x-python",
   "name": "python",
   "nbconvert_exporter": "python",
   "pygments_lexer": "ipython3",
   "version": "3.10.6"
  }
 },
 "nbformat": 4,
 "nbformat_minor": 2
}
